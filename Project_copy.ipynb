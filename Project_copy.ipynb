{
 "cells": [
  {
   "cell_type": "markdown",
   "id": "f2135566-ce0d-474b-a8f5-0f44d3286f9b",
   "metadata": {},
   "source": [
    "# PROJECT:"
   ]
  },
  {
   "cell_type": "code",
   "execution_count": 9,
   "id": "51b24542-28a3-45f2-a657-f8a1e515bc7f",
   "metadata": {
    "tags": []
   },
   "outputs": [],
   "source": [
    "import pandas as pd\n",
    "import biogeme.database as db\n",
    "import biogeme.biogeme as bio\n",
    "from biogeme.expressions import Beta, Variable\n",
    "from biogeme import models\n",
    "from biogeme import results as res"
   ]
  },
  {
   "cell_type": "code",
   "execution_count": 10,
   "id": "8c3bc098-5d11-4b19-8a4f-318cd4c7332d",
   "metadata": {
    "tags": []
   },
   "outputs": [],
   "source": [
    "df = pd.read_table('lpmc11.dat')\n",
    "df['cost_driving'] = df['cost_driving_fuel'] + df['cost_driving_ccharge']\n",
    "database = db.Database('lpmc', df)"
   ]
  },
  {
   "cell_type": "markdown",
   "id": "0bdc5c33-5064-4fca-90d7-0ea950095a47",
   "metadata": {},
   "source": [
    "# Model 0"
   ]
  },
  {
   "cell_type": "markdown",
   "id": "58aaae9a-75d7-4b0b-a949-936d0fb817be",
   "metadata": {},
   "source": [
    "**Variables:**"
   ]
  },
  {
   "cell_type": "code",
   "execution_count": 11,
   "id": "c6effdc7-98fa-4efa-9ed1-bc14b99812d5",
   "metadata": {
    "tags": []
   },
   "outputs": [],
   "source": [
    "dur_walking = Variable('dur_walking') #time for walking\n",
    "dur_cycling = Variable('dur_cycling') #time for cycling\n",
    "\n",
    "dur_pt_access = Variable('dur_pt_access')\n",
    "dur_pt_rail = Variable('dur_pt_rail')\n",
    "dur_pt_bus = Variable('dur_pt_bus')\n",
    "dur_pt_int = Variable('dur_pt_int')\n",
    "\n",
    "dur_pt = dur_pt_access + dur_pt_rail + dur_pt_bus + dur_pt_int #total time for public transport\n",
    "dur_driving = Variable('dur_driving')\n",
    "\n",
    "cost_transit = Variable('cost_transit') #cost for public transport\n",
    "# cost_driving_fuel = Variable('cost_driving_fuel')\n",
    "# cost_driving_ccharge = Variable('cost_driving_ccharge')\n",
    "\n",
    "cost_driving = Variable('cost_driving') #total cost for driving\n",
    "\n",
    "travel_mode = Variable('travel_mode') #Choice"
   ]
  },
  {
   "cell_type": "markdown",
   "id": "313a7ef7-dcbe-4a85-8958-839aa6412522",
   "metadata": {},
   "source": [
    "**Parameters:**"
   ]
  },
  {
   "cell_type": "code",
   "execution_count": 12,
   "id": "0e411bac-4df7-4ff2-9bb7-afc8ab4a8d16",
   "metadata": {
    "tags": []
   },
   "outputs": [],
   "source": [
    "constant_walking = Beta('constant_walking', 0, None, None, 0)\n",
    "constant_cycling = Beta('constant_cycling', 0, None, None, 0)\n",
    "constant_pt = Beta('constant_pt', 0, None, None, 0)\n",
    "beta_cost = Beta('beta_cost', 0, None, None, 0)\n",
    "beta_time = Beta('beta_time', 0, None, None, 0)"
   ]
  },
  {
   "cell_type": "code",
   "execution_count": 13,
   "id": "60205714-9fdb-452a-9224-7f0767b8d15c",
   "metadata": {
    "tags": []
   },
   "outputs": [],
   "source": [
    "v_walk_Model0 = (\n",
    "    constant_walking\n",
    "    + beta_time * dur_walking\n",
    ")\n",
    "\n",
    "v_cycling_Model0 = (\n",
    "    constant_cycling\n",
    "    + beta_time * dur_cycling\n",
    ")\n",
    "\n",
    "v_PT_Model0 = (\n",
    "    constant_pt\n",
    "    + beta_cost * cost_transit\n",
    "    + beta_time * dur_pt\n",
    ")\n",
    "\n",
    "v_driving_Model0 = (\n",
    "    beta_cost * cost_driving\n",
    "    + beta_time * dur_driving\n",
    ")"
   ]
  },
  {
   "cell_type": "code",
   "execution_count": 14,
   "id": "af94f7f7-611e-4631-b1c5-dbbe17b49fa1",
   "metadata": {
    "tags": []
   },
   "outputs": [],
   "source": [
    "V_Model0 = {1: v_walk_Model0, 2: v_cycling_Model0, 3: v_PT_Model0, 4: v_driving_Model0}\n",
    "logprob_Model0 = models.loglogit(V_Model0, None, travel_mode)\n",
    "biogeme_Model0 = bio.BIOGEME(database, logprob_Model0) #create the biogeme estimator\n",
    "biogeme_Model0.modelName = 'logit_Model0'\n",
    "res_Model0 = biogeme_Model0.estimate()"
   ]
  },
  {
   "cell_type": "code",
   "execution_count": 15,
   "id": "05742613-6ddd-4724-8c49-a937b44f6dac",
   "metadata": {
    "tags": []
   },
   "outputs": [
    {
     "name": "stdout",
     "output_type": "stream",
     "text": [
      "Number of estimated parameters:\t5\n",
      "Sample size:\t5000\n",
      "Excluded observations:\t0\n",
      "Init log likelihood:\t-4676.875\n",
      "Final log likelihood:\t-4676.875\n",
      "Likelihood ratio test for the init. model:\t-0\n",
      "Rho-square for the init. model:\t0\n",
      "Rho-square-bar for the init. model:\t-0.00107\n",
      "Akaike Information Criterion:\t9363.751\n",
      "Bayesian Information Criterion:\t9396.337\n",
      "Final gradient norm:\t2.6771E-04\n",
      "Nbr of threads:\t64\n",
      "\n"
     ]
    }
   ],
   "source": [
    "print(res_Model0.printGeneralStatistics())"
   ]
  },
  {
   "cell_type": "code",
   "execution_count": 16,
   "id": "0703f63d-cde7-4e91-9416-600d21e342e3",
   "metadata": {
    "tags": []
   },
   "outputs": [
    {
     "data": {
      "text/html": [
       "<div>\n",
       "<style scoped>\n",
       "    .dataframe tbody tr th:only-of-type {\n",
       "        vertical-align: middle;\n",
       "    }\n",
       "\n",
       "    .dataframe tbody tr th {\n",
       "        vertical-align: top;\n",
       "    }\n",
       "\n",
       "    .dataframe thead th {\n",
       "        text-align: right;\n",
       "    }\n",
       "</style>\n",
       "<table border=\"1\" class=\"dataframe\">\n",
       "  <thead>\n",
       "    <tr style=\"text-align: right;\">\n",
       "      <th></th>\n",
       "      <th>Value</th>\n",
       "      <th>Rob. Std err</th>\n",
       "      <th>Rob. t-test</th>\n",
       "      <th>Rob. p-value</th>\n",
       "    </tr>\n",
       "  </thead>\n",
       "  <tbody>\n",
       "    <tr>\n",
       "      <th>beta_cost</th>\n",
       "      <td>-0.156585</td>\n",
       "      <td>0.012667</td>\n",
       "      <td>-12.361233</td>\n",
       "      <td>0.0</td>\n",
       "    </tr>\n",
       "    <tr>\n",
       "      <th>beta_time</th>\n",
       "      <td>-5.226955</td>\n",
       "      <td>0.191905</td>\n",
       "      <td>-27.237207</td>\n",
       "      <td>0.0</td>\n",
       "    </tr>\n",
       "    <tr>\n",
       "      <th>constant_cycling</th>\n",
       "      <td>-2.485329</td>\n",
       "      <td>0.086252</td>\n",
       "      <td>-28.814839</td>\n",
       "      <td>0.0</td>\n",
       "    </tr>\n",
       "    <tr>\n",
       "      <th>constant_pt</th>\n",
       "      <td>0.726783</td>\n",
       "      <td>0.047157</td>\n",
       "      <td>15.411971</td>\n",
       "      <td>0.0</td>\n",
       "    </tr>\n",
       "    <tr>\n",
       "      <th>constant_walking</th>\n",
       "      <td>1.187012</td>\n",
       "      <td>0.078799</td>\n",
       "      <td>15.063738</td>\n",
       "      <td>0.0</td>\n",
       "    </tr>\n",
       "  </tbody>\n",
       "</table>\n",
       "</div>"
      ],
      "text/plain": [
       "                     Value  Rob. Std err  Rob. t-test  Rob. p-value\n",
       "beta_cost        -0.156585      0.012667   -12.361233           0.0\n",
       "beta_time        -5.226955      0.191905   -27.237207           0.0\n",
       "constant_cycling -2.485329      0.086252   -28.814839           0.0\n",
       "constant_pt       0.726783      0.047157    15.411971           0.0\n",
       "constant_walking  1.187012      0.078799    15.063738           0.0"
      ]
     },
     "execution_count": 16,
     "metadata": {},
     "output_type": "execute_result"
    }
   ],
   "source": [
    "res_Model0.getEstimatedParameters()"
   ]
  },
  {
   "cell_type": "markdown",
   "id": "a1ef7fec",
   "metadata": {},
   "source": [
    "The sign of the 2 generic coefficent leaves us satisfied. We know it's reasonable that utility is decreased when cost and/or travel time increase. It also seems that time impacts more the utility, since in asbolute value beta_time is higher than beta_cost. Concernig the ASCs, we normalized with respect to ASC_car so this is our baseline. We notice that ASC_walking is the highest so it seems that people, assuiming the same atrributes values, would choose this alternative. Anyway we see that, since the value of beta_time is high in absoulute value, and walking usually requires more time than the others, it will be penalized, as we expected. Cycling seems really disadvantaged, since its ASC is already low, and it has the same beta_time (due to generic coefficent assumption). Significance of value is confirmed by the t-test values that are all above the 1.96 threshold"
   ]
  },
  {
   "cell_type": "markdown",
   "id": "260c1a15-5634-4a9b-aca3-0eb38238a303",
   "metadata": {},
   "source": [
    "# Model 1"
   ]
  },
  {
   "cell_type": "markdown",
   "id": "cda32c68",
   "metadata": {},
   "source": [
    "We decide to split beta_time into 4 alternative specific parameters. Our choice is due to the fact that this coefficent is present in every utility function, and we think it can undergo a wider variation, since time perception is strictly related to the chosen travel mode."
   ]
  },
  {
   "cell_type": "code",
   "execution_count": 17,
   "id": "45dad72b-f02a-4a11-a5e9-c273543d4826",
   "metadata": {
    "tags": []
   },
   "outputs": [],
   "source": [
    "constant_walking = Beta('constant_walking', 0, None, None, 0)\n",
    "constant_cycling = Beta('constant_cycling', 0, None, None, 0)\n",
    "constant_pt = Beta('constant_pt', 0, None, None, 0)\n",
    "beta_cost = Beta('beta_cost', 0, None, None, 0)\n",
    "beta_time_walking = Beta('beta_time_walking', 0, None, None, 0)\n",
    "beta_time_cycling = Beta('beta_time_cycling', 0, None, None, 0)\n",
    "beta_time_pt = Beta('beta_time_pt', 0, None, None, 0)\n",
    "beta_time_driving = Beta('beta_time_driving', 0, None, None, 0)"
   ]
  },
  {
   "cell_type": "code",
   "execution_count": 18,
   "id": "adac2fd2-17cb-4415-9468-a0d876c740fe",
   "metadata": {
    "tags": []
   },
   "outputs": [],
   "source": [
    "v_walk_Model1 = (\n",
    "    constant_walking\n",
    "    + beta_time_walking * dur_walking\n",
    ")\n",
    "\n",
    "v_cycling_Model1 = (\n",
    "    constant_cycling\n",
    "    + beta_time_cycling * dur_cycling\n",
    ")\n",
    "\n",
    "v_PT_Model1 = (\n",
    "    constant_pt\n",
    "    + beta_cost * cost_transit\n",
    "    + beta_time_pt * dur_pt\n",
    ")\n",
    "\n",
    "v_driving_Model1 = (\n",
    "    beta_cost * cost_driving\n",
    "    + beta_time_driving * dur_driving\n",
    ")"
   ]
  },
  {
   "cell_type": "code",
   "execution_count": 19,
   "id": "cca879ec-bb87-4c61-86db-411dbb9b8906",
   "metadata": {
    "tags": []
   },
   "outputs": [],
   "source": [
    "V_Model1 = {1: v_walk_Model1, 2: v_cycling_Model1, 3: v_PT_Model1, 4: v_driving_Model1}\n",
    "logprob_Model1 = models.loglogit(V_Model1, None, travel_mode)\n",
    "biogeme_Model1 = bio.BIOGEME(database, logprob_Model1)\n",
    "biogeme_Model1.modelName = 'logit_Model1'\n",
    "res_Model1 = biogeme_Model1.estimate()"
   ]
  },
  {
   "cell_type": "code",
   "execution_count": 20,
   "id": "200f5cc1-b1e6-4b50-bea7-5c7e66b8106b",
   "metadata": {
    "tags": []
   },
   "outputs": [
    {
     "name": "stdout",
     "output_type": "stream",
     "text": [
      "Number of estimated parameters:\t8\n",
      "Sample size:\t5000\n",
      "Excluded observations:\t0\n",
      "Init log likelihood:\t-4372.911\n",
      "Final log likelihood:\t-4372.911\n",
      "Likelihood ratio test for the init. model:\t-0\n",
      "Rho-square for the init. model:\t0\n",
      "Rho-square-bar for the init. model:\t-0.00183\n",
      "Akaike Information Criterion:\t8761.822\n",
      "Bayesian Information Criterion:\t8813.959\n",
      "Final gradient norm:\t2.8918E-03\n",
      "Nbr of threads:\t64\n",
      "\n"
     ]
    }
   ],
   "source": [
    "print(res_Model1.printGeneralStatistics())"
   ]
  },
  {
   "cell_type": "code",
   "execution_count": 21,
   "id": "d38a9658-a255-46d4-b3ba-b71bc8747875",
   "metadata": {
    "tags": []
   },
   "outputs": [
    {
     "data": {
      "text/html": [
       "<div>\n",
       "<style scoped>\n",
       "    .dataframe tbody tr th:only-of-type {\n",
       "        vertical-align: middle;\n",
       "    }\n",
       "\n",
       "    .dataframe tbody tr th {\n",
       "        vertical-align: top;\n",
       "    }\n",
       "\n",
       "    .dataframe thead th {\n",
       "        text-align: right;\n",
       "    }\n",
       "</style>\n",
       "<table border=\"1\" class=\"dataframe\">\n",
       "  <thead>\n",
       "    <tr style=\"text-align: right;\">\n",
       "      <th></th>\n",
       "      <th>Value</th>\n",
       "      <th>Rob. Std err</th>\n",
       "      <th>Rob. t-test</th>\n",
       "      <th>Rob. p-value</th>\n",
       "    </tr>\n",
       "  </thead>\n",
       "  <tbody>\n",
       "    <tr>\n",
       "      <th>beta_cost</th>\n",
       "      <td>-0.136269</td>\n",
       "      <td>0.013923</td>\n",
       "      <td>-9.787478</td>\n",
       "      <td>0.000000e+00</td>\n",
       "    </tr>\n",
       "    <tr>\n",
       "      <th>beta_time_cycling</th>\n",
       "      <td>-5.436177</td>\n",
       "      <td>0.492925</td>\n",
       "      <td>-11.028412</td>\n",
       "      <td>0.000000e+00</td>\n",
       "    </tr>\n",
       "    <tr>\n",
       "      <th>beta_time_driving</th>\n",
       "      <td>-5.794675</td>\n",
       "      <td>0.384636</td>\n",
       "      <td>-15.065358</td>\n",
       "      <td>0.000000e+00</td>\n",
       "    </tr>\n",
       "    <tr>\n",
       "      <th>beta_time_pt</th>\n",
       "      <td>-3.127377</td>\n",
       "      <td>0.243891</td>\n",
       "      <td>-12.822864</td>\n",
       "      <td>0.000000e+00</td>\n",
       "    </tr>\n",
       "    <tr>\n",
       "      <th>beta_time_walking</th>\n",
       "      <td>-8.161128</td>\n",
       "      <td>0.386290</td>\n",
       "      <td>-21.126960</td>\n",
       "      <td>0.000000e+00</td>\n",
       "    </tr>\n",
       "    <tr>\n",
       "      <th>constant_cycling</th>\n",
       "      <td>-2.560688</td>\n",
       "      <td>0.150700</td>\n",
       "      <td>-16.991966</td>\n",
       "      <td>0.000000e+00</td>\n",
       "    </tr>\n",
       "    <tr>\n",
       "      <th>constant_pt</th>\n",
       "      <td>-0.405922</td>\n",
       "      <td>0.069445</td>\n",
       "      <td>-5.845207</td>\n",
       "      <td>5.059401e-09</td>\n",
       "    </tr>\n",
       "    <tr>\n",
       "      <th>constant_walking</th>\n",
       "      <td>1.933359</td>\n",
       "      <td>0.129143</td>\n",
       "      <td>14.970653</td>\n",
       "      <td>0.000000e+00</td>\n",
       "    </tr>\n",
       "  </tbody>\n",
       "</table>\n",
       "</div>"
      ],
      "text/plain": [
       "                      Value  Rob. Std err  Rob. t-test  Rob. p-value\n",
       "beta_cost         -0.136269      0.013923    -9.787478  0.000000e+00\n",
       "beta_time_cycling -5.436177      0.492925   -11.028412  0.000000e+00\n",
       "beta_time_driving -5.794675      0.384636   -15.065358  0.000000e+00\n",
       "beta_time_pt      -3.127377      0.243891   -12.822864  0.000000e+00\n",
       "beta_time_walking -8.161128      0.386290   -21.126960  0.000000e+00\n",
       "constant_cycling  -2.560688      0.150700   -16.991966  0.000000e+00\n",
       "constant_pt       -0.405922      0.069445    -5.845207  5.059401e-09\n",
       "constant_walking   1.933359      0.129143    14.970653  0.000000e+00"
      ]
     },
     "execution_count": 21,
     "metadata": {},
     "output_type": "execute_result"
    }
   ],
   "source": [
    "res_Model1.getEstimatedParameters()"
   ]
  },
  {
   "cell_type": "markdown",
   "id": "68d7cd28",
   "metadata": {},
   "source": [
    "As before, signs are reasonable. Concernign the values of the coefficents, we firstly notice that beta_cost reamined pretty much the same and it seems reasonable becuase people usually care how much money they spend rather than for what they do spend. The wide range of values we can see on beta_time strenghtens our initial assumption, in fact we see how beta_walking is really low, since walking requires phisycal effort, while the two alternatives that just require the individual's focus (driving and cycling) are pretty similar and this seems fine. In the end we see that beta_time_PT is instead the lowest in absolute value, and this is logic for us since when you are in public transport you are able to do other activities or just realx without having to mantain focus. Again, as before, ASC-walking is still bigger than car, as cycling is still the lowest. The only change we notice is the sign of ASC_pt, which is probably due to the value of the beta_time_pt we previously analyzed. Significance of value is confirmed by the t-test values that are all above the 1.96 threshold"
   ]
  },
  {
   "cell_type": "code",
   "execution_count": 22,
   "id": "759a97e0-3d96-4972-8018-f55829e91008",
   "metadata": {
    "tags": []
   },
   "outputs": [
    {
     "data": {
      "text/plain": [
       "LRTuple(message='H0 can be rejected at level 1.0%', statistic=607.9289925585272, threshold=11.344866730144373)"
      ]
     },
     "execution_count": 22,
     "metadata": {},
     "output_type": "execute_result"
    }
   ],
   "source": [
    "res_Model1.likelihood_ratio_test(res_Model0, 0.01)"
   ]
  },
  {
   "cell_type": "markdown",
   "id": "e7140489",
   "metadata": {},
   "source": [
    "To compare the 2 models we used the likelihood ratio test. This is doable since model 0 is a linear restriction of model 1 (assuming all the alternative specific beta_time equal). Our null-hypotesis is that the resricted model (in this case model 0) is the true model. We set the significance level of the test to 0,01 and as we can see from the result the null-hypotesis is rejected, hence our preferred model is model 1"
   ]
  },
  {
   "cell_type": "markdown",
   "id": "8651f7d2-e38a-4a2b-aae9-6c23f8847776",
   "metadata": {},
   "source": [
    "# Model 2:"
   ]
  },
  {
   "cell_type": "markdown",
   "id": "97fcebad-bd04-4984-ae80-0f6eda854854",
   "metadata": {},
   "source": [
    "- Interaction of age with ASCs:"
   ]
  },
  {
   "attachments": {},
   "cell_type": "markdown",
   "id": "7b125619",
   "metadata": {},
   "source": [
    "We select 'age' as socio-economic characteristic since we think it has a stornger correlation with the choice of a transport mode rather than sex, which is the other socio-ecomic characteristic we found in the dataset. In fact, if we assume two individuals have the same age, from our experience, their choice (putting all the other parametres equal) would not probably be different. On the other hand, age can impact the choice both from an availability point of view (i.e. young or really old may not have a driving license) and a physical effort one."
   ]
  },
  {
   "cell_type": "code",
   "execution_count": 23,
   "id": "b4bbf003-86ed-494d-82af-c0afd7b635f8",
   "metadata": {
    "tags": []
   },
   "outputs": [],
   "source": [
    "age = Variable('age')"
   ]
  },
  {
   "cell_type": "code",
   "execution_count": 24,
   "id": "430902b3-589f-4872-886b-f8a5b15bf3d9",
   "metadata": {
    "tags": []
   },
   "outputs": [],
   "source": [
    "beta_cost = Beta('beta_cost', 0, None, None, 0)\n",
    "beta_time_walking = Beta('beta_time_walking', 0, None, None, 0)\n",
    "beta_time_cycling = Beta('beta_time_cycling', 0, None, None, 0)\n",
    "beta_time_pt = Beta('beta_time_pt', 0, None, None, 0)\n",
    "beta_time_driving = Beta('beta_time_driving', 0, None, None, 0)\n",
    "ASC_w = Beta('ASC_w', 0, None, None, 0)\n",
    "ASC_c = Beta('ASC_c', 0, None, None, 0)\n",
    "ASC_pt = Beta('ASC_pt', 0, None, None, 0)\n"
   ]
  },
  {
   "cell_type": "code",
   "execution_count": 25,
   "id": "3c8c53ee",
   "metadata": {
    "tags": []
   },
   "outputs": [],
   "source": [
    "interacted_ASC_w = ASC_w * age/99\n",
    "interacted_ASC_c = ASC_c * age/99\n",
    "interacted_ASC_pt = ASC_pt * age/99\n"
   ]
  },
  {
   "cell_type": "code",
   "execution_count": 26,
   "id": "67a63f5b-49e2-4448-be40-e23f2bb7a510",
   "metadata": {
    "tags": []
   },
   "outputs": [],
   "source": [
    "v_w_Model2_ASC = (\n",
    "    interacted_ASC_w\n",
    "    + beta_time_walking * dur_walking\n",
    ")\n",
    "\n",
    "v_c_Model2_ASC = (\n",
    "    interacted_ASC_c\n",
    "    + beta_time_cycling * dur_cycling\n",
    ")\n",
    "\n",
    "v_pt_Model2_ASC = (\n",
    "    interacted_ASC_pt\n",
    "    + beta_cost * cost_transit\n",
    "    + beta_time_pt * dur_pt\n",
    ")\n",
    "\n",
    "v_driving_Model2_ASC = (\n",
    "    beta_cost * cost_driving\n",
    "    + beta_time_driving * dur_driving\n",
    ")"
   ]
  },
  {
   "cell_type": "code",
   "execution_count": 27,
   "id": "a29997a4-1a79-4907-9c1c-3e9e9c0f7aa8",
   "metadata": {
    "tags": []
   },
   "outputs": [],
   "source": [
    "V_Model2_ASC = {1: v_w_Model2_ASC , 2: v_c_Model2_ASC, 3: v_pt_Model2_ASC, 4: v_driving_Model2_ASC}\n",
    "logprob_Model2_ASC = models.loglogit(V_Model2_ASC, None, travel_mode)\n",
    "biogeme_Model2_ASC = bio.BIOGEME(database, logprob_Model2_ASC)\n",
    "biogeme_Model2_ASC.modelName = 'logit_Model2_ASC'\n",
    "res_Model2_ASC = biogeme_Model2_ASC.estimate()"
   ]
  },
  {
   "cell_type": "code",
   "execution_count": 28,
   "id": "38559766-ba43-4bfd-85c9-153ad53a76ea",
   "metadata": {
    "tags": []
   },
   "outputs": [
    {
     "name": "stdout",
     "output_type": "stream",
     "text": [
      "Number of estimated parameters:\t8\n",
      "Sample size:\t5000\n",
      "Excluded observations:\t0\n",
      "Init log likelihood:\t-4615.576\n",
      "Final log likelihood:\t-4615.576\n",
      "Likelihood ratio test for the init. model:\t-0\n",
      "Rho-square for the init. model:\t0\n",
      "Rho-square-bar for the init. model:\t-0.00173\n",
      "Akaike Information Criterion:\t9247.151\n",
      "Bayesian Information Criterion:\t9299.289\n",
      "Final gradient norm:\t4.2811E-03\n",
      "Nbr of threads:\t64\n",
      "\n"
     ]
    }
   ],
   "source": [
    "print(res_Model2_ASC.printGeneralStatistics())"
   ]
  },
  {
   "cell_type": "code",
   "execution_count": 29,
   "id": "fcc05cf5-457c-4e0e-b1ae-456431c56a33",
   "metadata": {
    "tags": []
   },
   "outputs": [
    {
     "data": {
      "text/html": [
       "<div>\n",
       "<style scoped>\n",
       "    .dataframe tbody tr th:only-of-type {\n",
       "        vertical-align: middle;\n",
       "    }\n",
       "\n",
       "    .dataframe tbody tr th {\n",
       "        vertical-align: top;\n",
       "    }\n",
       "\n",
       "    .dataframe thead th {\n",
       "        text-align: right;\n",
       "    }\n",
       "</style>\n",
       "<table border=\"1\" class=\"dataframe\">\n",
       "  <thead>\n",
       "    <tr style=\"text-align: right;\">\n",
       "      <th></th>\n",
       "      <th>Value</th>\n",
       "      <th>Rob. Std err</th>\n",
       "      <th>Rob. t-test</th>\n",
       "      <th>Rob. p-value</th>\n",
       "    </tr>\n",
       "  </thead>\n",
       "  <tbody>\n",
       "    <tr>\n",
       "      <th>ASC_c</th>\n",
       "      <td>-4.876934</td>\n",
       "      <td>0.374371</td>\n",
       "      <td>-13.027024</td>\n",
       "      <td>0.000000e+00</td>\n",
       "    </tr>\n",
       "    <tr>\n",
       "      <th>ASC_pt</th>\n",
       "      <td>-0.998334</td>\n",
       "      <td>0.133146</td>\n",
       "      <td>-7.498069</td>\n",
       "      <td>6.483702e-14</td>\n",
       "    </tr>\n",
       "    <tr>\n",
       "      <th>ASC_w</th>\n",
       "      <td>1.531976</td>\n",
       "      <td>0.158595</td>\n",
       "      <td>9.659663</td>\n",
       "      <td>0.000000e+00</td>\n",
       "    </tr>\n",
       "    <tr>\n",
       "      <th>beta_cost</th>\n",
       "      <td>-0.150734</td>\n",
       "      <td>0.014566</td>\n",
       "      <td>-10.348652</td>\n",
       "      <td>0.000000e+00</td>\n",
       "    </tr>\n",
       "    <tr>\n",
       "      <th>beta_time_cycling</th>\n",
       "      <td>-8.105935</td>\n",
       "      <td>0.665889</td>\n",
       "      <td>-12.173110</td>\n",
       "      <td>0.000000e+00</td>\n",
       "    </tr>\n",
       "    <tr>\n",
       "      <th>beta_time_driving</th>\n",
       "      <td>-5.751921</td>\n",
       "      <td>0.391627</td>\n",
       "      <td>-14.687258</td>\n",
       "      <td>0.000000e+00</td>\n",
       "    </tr>\n",
       "    <tr>\n",
       "      <th>beta_time_pt</th>\n",
       "      <td>-3.123986</td>\n",
       "      <td>0.244501</td>\n",
       "      <td>-12.776987</td>\n",
       "      <td>0.000000e+00</td>\n",
       "    </tr>\n",
       "    <tr>\n",
       "      <th>beta_time_walking</th>\n",
       "      <td>-5.265470</td>\n",
       "      <td>0.197674</td>\n",
       "      <td>-26.637139</td>\n",
       "      <td>0.000000e+00</td>\n",
       "    </tr>\n",
       "  </tbody>\n",
       "</table>\n",
       "</div>"
      ],
      "text/plain": [
       "                      Value  Rob. Std err  Rob. t-test  Rob. p-value\n",
       "ASC_c             -4.876934      0.374371   -13.027024  0.000000e+00\n",
       "ASC_pt            -0.998334      0.133146    -7.498069  6.483702e-14\n",
       "ASC_w              1.531976      0.158595     9.659663  0.000000e+00\n",
       "beta_cost         -0.150734      0.014566   -10.348652  0.000000e+00\n",
       "beta_time_cycling -8.105935      0.665889   -12.173110  0.000000e+00\n",
       "beta_time_driving -5.751921      0.391627   -14.687258  0.000000e+00\n",
       "beta_time_pt      -3.123986      0.244501   -12.776987  0.000000e+00\n",
       "beta_time_walking -5.265470      0.197674   -26.637139  0.000000e+00"
      ]
     },
     "execution_count": 29,
     "metadata": {},
     "output_type": "execute_result"
    }
   ],
   "source": [
    "res_Model2_ASC.getEstimatedParameters()"
   ]
  },
  {
   "attachments": {},
   "cell_type": "markdown",
   "id": "d8ff2e78",
   "metadata": {},
   "source": [
    "The estimated signs leaves us satisfied. Moreover, from this estimation we can notice that walking is still the highest among the ASCs, but it is also a lot penalized by its beta_time, which we could expect. Anyway the fact that beta_time_cycling is so low seems pretty strange to us, since we thinik that time has a bigger impact in other contexts such as walking. We can also see that beta_cost has a less signifcant impact on the choices."
   ]
  },
  {
   "cell_type": "markdown",
   "id": "ee2aabc8-11da-419b-b2c7-d5cde9005715",
   "metadata": {},
   "source": [
    "- Interaction of age with cost:"
   ]
  },
  {
   "cell_type": "markdown",
   "id": "b07bbb68",
   "metadata": {},
   "source": [
    "When we have to analyze the interaction of the age with one of the variables, we decided to link it with cost, since we think that indviduals may have a differtent perception of money depending on their age. For example, when you're a student you give a different value to money than the one you give them when you've been working for several years."
   ]
  },
  {
   "cell_type": "code",
   "execution_count": 30,
   "id": "f960be71-f87b-4083-9358-bed32cc0e178",
   "metadata": {
    "tags": []
   },
   "outputs": [],
   "source": [
    "constant_walking = Beta('constant_walking', 0, None, None, 0)\n",
    "constant_cycling = Beta('constant_cycling', 0, None, None, 0)\n",
    "constant_pt = Beta('constant_pt', 0, None, None, 0)\n",
    "beta_time_walking = Beta('beta_time_walking', 0, None, None, 0)\n",
    "beta_time_cycling = Beta('beta_time_cycling', 0, None, None, 0)\n",
    "beta_time_pt = Beta('beta_time_pt', 0, None, None, 0)\n",
    "beta_time_driving = Beta('beta_time_driving', 0, None, None, 0)\n",
    "beta_cost_int = Beta('beta_cost_int', 0, None, None, 0)"
   ]
  },
  {
   "cell_type": "code",
   "execution_count": 31,
   "id": "c2012e1b",
   "metadata": {
    "tags": []
   },
   "outputs": [],
   "source": [
    "beta_cost_interacted = beta_cost_int * age/99"
   ]
  },
  {
   "cell_type": "code",
   "execution_count": 32,
   "id": "6920eb2d-9c78-4a9c-8845-cb8c49763f04",
   "metadata": {
    "tags": []
   },
   "outputs": [],
   "source": [
    "v_w_Model2_cost = (\n",
    "    constant_walking\n",
    "    + beta_time_walking * dur_walking\n",
    ")\n",
    "\n",
    "v_c_Model2_cost = (\n",
    "    constant_cycling\n",
    "    + beta_time_cycling * dur_cycling\n",
    ")\n",
    "\n",
    "v_pt_Model2_cost= (\n",
    "    constant_pt\n",
    "    + beta_cost_interacted * cost_transit    \n",
    "    + beta_time_pt * dur_pt\n",
    ")\n",
    "\n",
    "v_driving_Model2_cost = (\n",
    "    beta_cost_interacted * cost_driving\n",
    "    + beta_time_driving * dur_driving\n",
    ")"
   ]
  },
  {
   "cell_type": "code",
   "execution_count": 33,
   "id": "22a1a457-3a10-4a4a-b3cf-3c51db0e1a01",
   "metadata": {
    "tags": []
   },
   "outputs": [],
   "source": [
    "V_Model2_cost = {1: v_w_Model2_cost, 2: v_c_Model2_cost, 3: v_pt_Model2_cost, 4: v_driving_Model2_cost}\n",
    "logprob_Model2_cost = models.loglogit(V_Model2_cost, None, travel_mode)\n",
    "biogeme_Model2_cost = bio.BIOGEME(database, logprob_Model2_cost)\n",
    "biogeme_Model2_cost.modelName = 'logit_Model2_cost'\n",
    "res_Model2_cost = biogeme_Model2_cost.estimate()"
   ]
  },
  {
   "cell_type": "code",
   "execution_count": 34,
   "id": "9f3a7626-7803-4afb-821e-4c9cb10266f2",
   "metadata": {
    "tags": []
   },
   "outputs": [
    {
     "name": "stdout",
     "output_type": "stream",
     "text": [
      "Number of estimated parameters:\t8\n",
      "Sample size:\t5000\n",
      "Excluded observations:\t0\n",
      "Init log likelihood:\t-4387.311\n",
      "Final log likelihood:\t-4387.311\n",
      "Likelihood ratio test for the init. model:\t-0\n",
      "Rho-square for the init. model:\t0\n",
      "Rho-square-bar for the init. model:\t-0.00182\n",
      "Akaike Information Criterion:\t8790.622\n",
      "Bayesian Information Criterion:\t8842.76\n",
      "Final gradient norm:\t1.8462E-03\n",
      "Nbr of threads:\t64\n",
      "\n"
     ]
    }
   ],
   "source": [
    "print(res_Model2_cost.printGeneralStatistics())"
   ]
  },
  {
   "cell_type": "code",
   "execution_count": 35,
   "id": "99b9a2a6-d5e0-4b42-a982-add708b3be44",
   "metadata": {
    "tags": []
   },
   "outputs": [
    {
     "data": {
      "text/html": [
       "<div>\n",
       "<style scoped>\n",
       "    .dataframe tbody tr th:only-of-type {\n",
       "        vertical-align: middle;\n",
       "    }\n",
       "\n",
       "    .dataframe tbody tr th {\n",
       "        vertical-align: top;\n",
       "    }\n",
       "\n",
       "    .dataframe thead th {\n",
       "        text-align: right;\n",
       "    }\n",
       "</style>\n",
       "<table border=\"1\" class=\"dataframe\">\n",
       "  <thead>\n",
       "    <tr style=\"text-align: right;\">\n",
       "      <th></th>\n",
       "      <th>Value</th>\n",
       "      <th>Rob. Std err</th>\n",
       "      <th>Rob. t-test</th>\n",
       "      <th>Rob. p-value</th>\n",
       "    </tr>\n",
       "  </thead>\n",
       "  <tbody>\n",
       "    <tr>\n",
       "      <th>beta_cost_int</th>\n",
       "      <td>-0.287265</td>\n",
       "      <td>0.039548</td>\n",
       "      <td>-7.263774</td>\n",
       "      <td>3.763656e-13</td>\n",
       "    </tr>\n",
       "    <tr>\n",
       "      <th>beta_time_cycling</th>\n",
       "      <td>-5.430248</td>\n",
       "      <td>0.494069</td>\n",
       "      <td>-10.990875</td>\n",
       "      <td>0.000000e+00</td>\n",
       "    </tr>\n",
       "    <tr>\n",
       "      <th>beta_time_driving</th>\n",
       "      <td>-5.958971</td>\n",
       "      <td>0.382057</td>\n",
       "      <td>-15.597075</td>\n",
       "      <td>0.000000e+00</td>\n",
       "    </tr>\n",
       "    <tr>\n",
       "      <th>beta_time_pt</th>\n",
       "      <td>-3.218752</td>\n",
       "      <td>0.242768</td>\n",
       "      <td>-13.258575</td>\n",
       "      <td>0.000000e+00</td>\n",
       "    </tr>\n",
       "    <tr>\n",
       "      <th>beta_time_walking</th>\n",
       "      <td>-8.180582</td>\n",
       "      <td>0.386817</td>\n",
       "      <td>-21.148430</td>\n",
       "      <td>0.000000e+00</td>\n",
       "    </tr>\n",
       "    <tr>\n",
       "      <th>constant_cycling</th>\n",
       "      <td>-2.566973</td>\n",
       "      <td>0.150922</td>\n",
       "      <td>-17.008640</td>\n",
       "      <td>0.000000e+00</td>\n",
       "    </tr>\n",
       "    <tr>\n",
       "      <th>constant_pt</th>\n",
       "      <td>-0.407455</td>\n",
       "      <td>0.069331</td>\n",
       "      <td>-5.876925</td>\n",
       "      <td>4.179564e-09</td>\n",
       "    </tr>\n",
       "    <tr>\n",
       "      <th>constant_walking</th>\n",
       "      <td>1.939261</td>\n",
       "      <td>0.129410</td>\n",
       "      <td>14.985393</td>\n",
       "      <td>0.000000e+00</td>\n",
       "    </tr>\n",
       "  </tbody>\n",
       "</table>\n",
       "</div>"
      ],
      "text/plain": [
       "                      Value  Rob. Std err  Rob. t-test  Rob. p-value\n",
       "beta_cost_int     -0.287265      0.039548    -7.263774  3.763656e-13\n",
       "beta_time_cycling -5.430248      0.494069   -10.990875  0.000000e+00\n",
       "beta_time_driving -5.958971      0.382057   -15.597075  0.000000e+00\n",
       "beta_time_pt      -3.218752      0.242768   -13.258575  0.000000e+00\n",
       "beta_time_walking -8.180582      0.386817   -21.148430  0.000000e+00\n",
       "constant_cycling  -2.566973      0.150922   -17.008640  0.000000e+00\n",
       "constant_pt       -0.407455      0.069331    -5.876925  4.179564e-09\n",
       "constant_walking   1.939261      0.129410    14.985393  0.000000e+00"
      ]
     },
     "execution_count": 35,
     "metadata": {},
     "output_type": "execute_result"
    }
   ],
   "source": [
    "res_Model2_cost.getEstimatedParameters()"
   ]
  },
  {
   "attachments": {},
   "cell_type": "markdown",
   "id": "b02e8bd3",
   "metadata": {},
   "source": [
    "The signs we get are still ok for us, then we can also see that this time beta_cost is lower than before, and this is due to the fact that we are considering the interaction with age. We can also see that the ASCs are still pretty much the same. "
   ]
  },
  {
   "attachments": {},
   "cell_type": "markdown",
   "id": "88d72ca7",
   "metadata": {},
   "source": [
    "Now it's the tome of testing the models. Since the previous preferred model is Model1, and none of our last two models can be seen as a restriction of Model 1, we cannot apply loglikelihood ratio test directly. We instead want to perfrom a Cox test, where we define a third model, as the sum of model 1 and the interaction term. We then perform the likelihood ratio test between the model 1 and the cox model and then between the interacted model and the cox model. The null hypotesis for each of this test is that the restricted model is the better one. We set the significance level of the test to 0,05. If the cox_model results to be the best in both case we have to look for better models, if the models are not rejected in both case we need to change our test and in the other cases we'll be able to state the preferred model. Of course this has to be done for both the interactions we defined. "
   ]
  },
  {
   "cell_type": "code",
   "execution_count": 36,
   "id": "92586e49",
   "metadata": {
    "tags": []
   },
   "outputs": [],
   "source": [
    "v_w_cox1 = v_walk_Model1 + interacted_ASC_w\n",
    "v_c_cox1 = v_cycling_Model1 + interacted_ASC_c\n",
    "v_pt_cox1 = v_PT_Model1 + interacted_ASC_pt\n",
    "v_driving_cox1 = v_driving_Model1"
   ]
  },
  {
   "cell_type": "code",
   "execution_count": 37,
   "id": "d1da8dd2",
   "metadata": {
    "tags": []
   },
   "outputs": [],
   "source": [
    "V_cox1 = {1: v_w_cox1, 2: v_c_cox1, 3: v_pt_cox1, 4: v_driving_cox1}\n",
    "logprob_cox1 = models.loglogit(V_cox1, None, travel_mode)\n",
    "biogeme_cox1 = bio.BIOGEME(database, logprob_cox1)\n",
    "biogeme_cox1.modelName = 'logit_cox1'\n",
    "res_cox1 = biogeme_cox1.estimate()"
   ]
  },
  {
   "cell_type": "code",
   "execution_count": 38,
   "id": "7728e97c-08f1-4d19-81b4-e4f553d53408",
   "metadata": {
    "tags": []
   },
   "outputs": [
    {
     "name": "stdout",
     "output_type": "stream",
     "text": [
      "Number of estimated parameters:\t11\n",
      "Sample size:\t5000\n",
      "Excluded observations:\t0\n",
      "Init log likelihood:\t-4348.347\n",
      "Final log likelihood:\t-4348.347\n",
      "Likelihood ratio test for the init. model:\t-0\n",
      "Rho-square for the init. model:\t0\n",
      "Rho-square-bar for the init. model:\t-0.00253\n",
      "Akaike Information Criterion:\t8718.694\n",
      "Bayesian Information Criterion:\t8790.383\n",
      "Final gradient norm:\t2.3308E-03\n",
      "Nbr of threads:\t64\n",
      "\n"
     ]
    }
   ],
   "source": [
    "print(res_cox1.printGeneralStatistics())"
   ]
  },
  {
   "cell_type": "code",
   "execution_count": 39,
   "id": "fb87f70a-c3eb-4c3b-8942-684294340493",
   "metadata": {
    "tags": []
   },
   "outputs": [
    {
     "data": {
      "text/html": [
       "<div>\n",
       "<style scoped>\n",
       "    .dataframe tbody tr th:only-of-type {\n",
       "        vertical-align: middle;\n",
       "    }\n",
       "\n",
       "    .dataframe tbody tr th {\n",
       "        vertical-align: top;\n",
       "    }\n",
       "\n",
       "    .dataframe thead th {\n",
       "        text-align: right;\n",
       "    }\n",
       "</style>\n",
       "<table border=\"1\" class=\"dataframe\">\n",
       "  <thead>\n",
       "    <tr style=\"text-align: right;\">\n",
       "      <th></th>\n",
       "      <th>Value</th>\n",
       "      <th>Rob. Std err</th>\n",
       "      <th>Rob. t-test</th>\n",
       "      <th>Rob. p-value</th>\n",
       "    </tr>\n",
       "  </thead>\n",
       "  <tbody>\n",
       "    <tr>\n",
       "      <th>ASC_c</th>\n",
       "      <td>-1.056331</td>\n",
       "      <td>0.365441</td>\n",
       "      <td>-2.890563</td>\n",
       "      <td>3.845519e-03</td>\n",
       "    </tr>\n",
       "    <tr>\n",
       "      <th>ASC_pt</th>\n",
       "      <td>-0.959524</td>\n",
       "      <td>0.187752</td>\n",
       "      <td>-5.110597</td>\n",
       "      <td>3.211423e-07</td>\n",
       "    </tr>\n",
       "    <tr>\n",
       "      <th>ASC_w</th>\n",
       "      <td>-1.397502</td>\n",
       "      <td>0.236492</td>\n",
       "      <td>-5.909296</td>\n",
       "      <td>3.435729e-09</td>\n",
       "    </tr>\n",
       "    <tr>\n",
       "      <th>beta_cost</th>\n",
       "      <td>-0.137210</td>\n",
       "      <td>0.013975</td>\n",
       "      <td>-9.818290</td>\n",
       "      <td>0.000000e+00</td>\n",
       "    </tr>\n",
       "    <tr>\n",
       "      <th>beta_time_cycling</th>\n",
       "      <td>-5.425166</td>\n",
       "      <td>0.493299</td>\n",
       "      <td>-10.997715</td>\n",
       "      <td>0.000000e+00</td>\n",
       "    </tr>\n",
       "    <tr>\n",
       "      <th>beta_time_driving</th>\n",
       "      <td>-5.742581</td>\n",
       "      <td>0.383501</td>\n",
       "      <td>-14.974113</td>\n",
       "      <td>0.000000e+00</td>\n",
       "    </tr>\n",
       "    <tr>\n",
       "      <th>beta_time_pt</th>\n",
       "      <td>-3.113525</td>\n",
       "      <td>0.243493</td>\n",
       "      <td>-12.786929</td>\n",
       "      <td>0.000000e+00</td>\n",
       "    </tr>\n",
       "    <tr>\n",
       "      <th>beta_time_walking</th>\n",
       "      <td>-8.186674</td>\n",
       "      <td>0.389671</td>\n",
       "      <td>-21.009213</td>\n",
       "      <td>0.000000e+00</td>\n",
       "    </tr>\n",
       "    <tr>\n",
       "      <th>constant_cycling</th>\n",
       "      <td>-2.131890</td>\n",
       "      <td>0.210885</td>\n",
       "      <td>-10.109264</td>\n",
       "      <td>0.000000e+00</td>\n",
       "    </tr>\n",
       "    <tr>\n",
       "      <th>constant_pt</th>\n",
       "      <td>-0.012516</td>\n",
       "      <td>0.102428</td>\n",
       "      <td>-0.122195</td>\n",
       "      <td>9.027448e-01</td>\n",
       "    </tr>\n",
       "    <tr>\n",
       "      <th>constant_walking</th>\n",
       "      <td>2.502574</td>\n",
       "      <td>0.169588</td>\n",
       "      <td>14.756785</td>\n",
       "      <td>0.000000e+00</td>\n",
       "    </tr>\n",
       "  </tbody>\n",
       "</table>\n",
       "</div>"
      ],
      "text/plain": [
       "                      Value  Rob. Std err  Rob. t-test  Rob. p-value\n",
       "ASC_c             -1.056331      0.365441    -2.890563  3.845519e-03\n",
       "ASC_pt            -0.959524      0.187752    -5.110597  3.211423e-07\n",
       "ASC_w             -1.397502      0.236492    -5.909296  3.435729e-09\n",
       "beta_cost         -0.137210      0.013975    -9.818290  0.000000e+00\n",
       "beta_time_cycling -5.425166      0.493299   -10.997715  0.000000e+00\n",
       "beta_time_driving -5.742581      0.383501   -14.974113  0.000000e+00\n",
       "beta_time_pt      -3.113525      0.243493   -12.786929  0.000000e+00\n",
       "beta_time_walking -8.186674      0.389671   -21.009213  0.000000e+00\n",
       "constant_cycling  -2.131890      0.210885   -10.109264  0.000000e+00\n",
       "constant_pt       -0.012516      0.102428    -0.122195  9.027448e-01\n",
       "constant_walking   2.502574      0.169588    14.756785  0.000000e+00"
      ]
     },
     "execution_count": 39,
     "metadata": {},
     "output_type": "execute_result"
    }
   ],
   "source": [
    "res_cox1.getEstimatedParameters()"
   ]
  },
  {
   "cell_type": "code",
   "execution_count": 40,
   "id": "2a7494f4",
   "metadata": {
    "tags": []
   },
   "outputs": [
    {
     "name": "stdout",
     "output_type": "stream",
     "text": [
      "LRTuple(message='H0 can be rejected at level 5.0%', statistic=49.127263927994136, threshold=7.814727903251179)\n",
      "LRTuple(message='H0 can be rejected at level 5.0%', statistic=534.4566876591689, threshold=7.814727903251179)\n"
     ]
    }
   ],
   "source": [
    "print(res_cox1.likelihood_ratio_test(res_Model1, 0.05))\n",
    "print(res_cox1.likelihood_ratio_test(res_Model2_ASC, 0.05))"
   ]
  },
  {
   "attachments": {},
   "cell_type": "markdown",
   "id": "767fa616",
   "metadata": {},
   "source": [
    "In this case both model are rejected and so, as we said, we need to keep looking for other models"
   ]
  },
  {
   "cell_type": "code",
   "execution_count": 41,
   "id": "774f91e1",
   "metadata": {
    "tags": []
   },
   "outputs": [],
   "source": [
    "v_w_cox2 = v_walk_Model1  \n",
    "v_c_cox2 = v_cycling_Model1\n",
    "v_pt_cox2 = v_PT_Model1 + beta_cost_interacted * cost_transit\n",
    "v_driving_cox2 = v_driving_Model1 + beta_cost_interacted * cost_driving"
   ]
  },
  {
   "cell_type": "code",
   "execution_count": 42,
   "id": "b04eefff",
   "metadata": {
    "tags": []
   },
   "outputs": [],
   "source": [
    "V_cox2 = {1: v_w_cox2, 2: v_c_cox2, 3: v_pt_cox2, 4: v_driving_cox2}\n",
    "logprob_cox2 = models.loglogit(V_cox2, None, travel_mode)\n",
    "biogeme_cox2 = bio.BIOGEME(database, logprob_cox2)\n",
    "biogeme_cox2.modelName = 'logit_cox2'\n",
    "res_cox2 = biogeme_cox2.estimate()"
   ]
  },
  {
   "cell_type": "code",
   "execution_count": 43,
   "id": "6b9b80d3-4de1-4ca3-82a5-1168cc2b3e1e",
   "metadata": {
    "tags": []
   },
   "outputs": [
    {
     "name": "stdout",
     "output_type": "stream",
     "text": [
      "Number of estimated parameters:\t9\n",
      "Sample size:\t5000\n",
      "Excluded observations:\t0\n",
      "Init log likelihood:\t-4371.267\n",
      "Final log likelihood:\t-4371.267\n",
      "Likelihood ratio test for the init. model:\t-0\n",
      "Rho-square for the init. model:\t0\n",
      "Rho-square-bar for the init. model:\t-0.00206\n",
      "Akaike Information Criterion:\t8760.533\n",
      "Bayesian Information Criterion:\t8819.188\n",
      "Final gradient norm:\t8.6372E-04\n",
      "Nbr of threads:\t64\n",
      "\n"
     ]
    }
   ],
   "source": [
    "print(res_cox2.printGeneralStatistics())"
   ]
  },
  {
   "cell_type": "code",
   "execution_count": 44,
   "id": "35194997-a48d-45fb-9744-c9b99f50c92f",
   "metadata": {
    "tags": []
   },
   "outputs": [
    {
     "data": {
      "text/html": [
       "<div>\n",
       "<style scoped>\n",
       "    .dataframe tbody tr th:only-of-type {\n",
       "        vertical-align: middle;\n",
       "    }\n",
       "\n",
       "    .dataframe tbody tr th {\n",
       "        vertical-align: top;\n",
       "    }\n",
       "\n",
       "    .dataframe thead th {\n",
       "        text-align: right;\n",
       "    }\n",
       "</style>\n",
       "<table border=\"1\" class=\"dataframe\">\n",
       "  <thead>\n",
       "    <tr style=\"text-align: right;\">\n",
       "      <th></th>\n",
       "      <th>Value</th>\n",
       "      <th>Rob. Std err</th>\n",
       "      <th>Rob. t-test</th>\n",
       "      <th>Rob. p-value</th>\n",
       "    </tr>\n",
       "  </thead>\n",
       "  <tbody>\n",
       "    <tr>\n",
       "      <th>beta_cost</th>\n",
       "      <td>-0.194854</td>\n",
       "      <td>0.033653</td>\n",
       "      <td>-5.790010</td>\n",
       "      <td>7.038225e-09</td>\n",
       "    </tr>\n",
       "    <tr>\n",
       "      <th>beta_cost_int</th>\n",
       "      <td>0.147775</td>\n",
       "      <td>0.079102</td>\n",
       "      <td>1.868163</td>\n",
       "      <td>6.173939e-02</td>\n",
       "    </tr>\n",
       "    <tr>\n",
       "      <th>beta_time_cycling</th>\n",
       "      <td>-5.450925</td>\n",
       "      <td>0.493378</td>\n",
       "      <td>-11.048165</td>\n",
       "      <td>0.000000e+00</td>\n",
       "    </tr>\n",
       "    <tr>\n",
       "      <th>beta_time_driving</th>\n",
       "      <td>-5.797144</td>\n",
       "      <td>0.384984</td>\n",
       "      <td>-15.058141</td>\n",
       "      <td>0.000000e+00</td>\n",
       "    </tr>\n",
       "    <tr>\n",
       "      <th>beta_time_pt</th>\n",
       "      <td>-3.124660</td>\n",
       "      <td>0.244302</td>\n",
       "      <td>-12.790159</td>\n",
       "      <td>0.000000e+00</td>\n",
       "    </tr>\n",
       "    <tr>\n",
       "      <th>beta_time_walking</th>\n",
       "      <td>-8.165163</td>\n",
       "      <td>0.386227</td>\n",
       "      <td>-21.140848</td>\n",
       "      <td>0.000000e+00</td>\n",
       "    </tr>\n",
       "    <tr>\n",
       "      <th>constant_cycling</th>\n",
       "      <td>-2.559675</td>\n",
       "      <td>0.150780</td>\n",
       "      <td>-16.976168</td>\n",
       "      <td>0.000000e+00</td>\n",
       "    </tr>\n",
       "    <tr>\n",
       "      <th>constant_pt</th>\n",
       "      <td>-0.406721</td>\n",
       "      <td>0.069511</td>\n",
       "      <td>-5.851144</td>\n",
       "      <td>4.882045e-09</td>\n",
       "    </tr>\n",
       "    <tr>\n",
       "      <th>constant_walking</th>\n",
       "      <td>1.933683</td>\n",
       "      <td>0.129094</td>\n",
       "      <td>14.978860</td>\n",
       "      <td>0.000000e+00</td>\n",
       "    </tr>\n",
       "  </tbody>\n",
       "</table>\n",
       "</div>"
      ],
      "text/plain": [
       "                      Value  Rob. Std err  Rob. t-test  Rob. p-value\n",
       "beta_cost         -0.194854      0.033653    -5.790010  7.038225e-09\n",
       "beta_cost_int      0.147775      0.079102     1.868163  6.173939e-02\n",
       "beta_time_cycling -5.450925      0.493378   -11.048165  0.000000e+00\n",
       "beta_time_driving -5.797144      0.384984   -15.058141  0.000000e+00\n",
       "beta_time_pt      -3.124660      0.244302   -12.790159  0.000000e+00\n",
       "beta_time_walking -8.165163      0.386227   -21.140848  0.000000e+00\n",
       "constant_cycling  -2.559675      0.150780   -16.976168  0.000000e+00\n",
       "constant_pt       -0.406721      0.069511    -5.851144  4.882045e-09\n",
       "constant_walking   1.933683      0.129094    14.978860  0.000000e+00"
      ]
     },
     "execution_count": 44,
     "metadata": {},
     "output_type": "execute_result"
    }
   ],
   "source": [
    "res_cox2.getEstimatedParameters()"
   ]
  },
  {
   "cell_type": "code",
   "execution_count": 45,
   "id": "f41d8b18",
   "metadata": {
    "tags": []
   },
   "outputs": [
    {
     "name": "stdout",
     "output_type": "stream",
     "text": [
      "LRTuple(message='H0 cannot be rejected at level 5.0%', statistic=3.288482000320073, threshold=3.841458820694124)\n",
      "LRTuple(message='H0 can be rejected at level 5.0%', statistic=32.08931386668519, threshold=3.841458820694124)\n"
     ]
    }
   ],
   "source": [
    "print(res_cox2.likelihood_ratio_test(res_Model1, 0.05))\n",
    "print(res_cox2.likelihood_ratio_test(res_Model2_cost, 0.05))"
   ]
  },
  {
   "attachments": {},
   "cell_type": "markdown",
   "id": "d8549643-3da9-4bdf-9471-e053b4f7d5e2",
   "metadata": {},
   "source": [
    "Preferred model is Model 1"
   ]
  },
  {
   "attachments": {},
   "cell_type": "markdown",
   "id": "2f486b81",
   "metadata": {},
   "source": [
    "# Model 3: #"
   ]
  },
  {
   "attachments": {},
   "cell_type": "markdown",
   "id": "5a4ee618",
   "metadata": {},
   "source": [
    "We would like to apply the boxcox transofrmation to the time variables. Our choice is based on the fact that we think it's more likely to change the perception of time in a non linear way, when the duration of a travel increases, especially in context such as walking or cycling. Anyway, since we want to be sure that our assumption does not bias the model too much, we are going to apply the boxcox transformation which depending on lambda parameter will give us a wider range of correlation between the time and its perception. "
   ]
  },
  {
   "cell_type": "code",
   "execution_count": 46,
   "id": "33d17d32",
   "metadata": {},
   "outputs": [],
   "source": [
    "lambda_boxcox_w = Beta('lambda_boxcox_w', 1, -10, 10, 0)\n",
    "lambda_boxcox_c = Beta('lambda_boxcox_c', 1, -10, 10, 0)\n",
    "lambda_boxcox_pt = Beta('lambda_boxcox_pt', 1, -10, 10, 0)\n",
    "lambda_boxcox_driving = Beta('lambda_boxcox_driving', 1, -10, 10, 0)\n",
    "boxcox_time_w = models.boxcox(dur_walking, lambda_boxcox_w)\n",
    "boxcox_time_c = models.boxcox(dur_cycling, lambda_boxcox_c)\n",
    "boxcox_time_pt = models.boxcox(dur_pt, lambda_boxcox_pt)\n",
    "boxcox_time_driving = models.boxcox(dur_driving, lambda_boxcox_driving)"
   ]
  },
  {
   "cell_type": "code",
   "execution_count": 47,
   "id": "eac9210e",
   "metadata": {},
   "outputs": [],
   "source": [
    "v_w_Model3 = (\n",
    "    constant_walking\n",
    "    + beta_time_walking * boxcox_time_w\n",
    ")\n",
    "\n",
    "v_c_Model3 = (\n",
    "    constant_cycling\n",
    "    + beta_time_cycling * boxcox_time_c\n",
    ")\n",
    "\n",
    "v_pt_Model3= (\n",
    "    constant_pt\n",
    "    + beta_cost * cost_transit    \n",
    "    + beta_time_pt * boxcox_time_pt\n",
    ")\n",
    "\n",
    "v_driving_Model3 = (\n",
    "    beta_cost * cost_driving\n",
    "    + beta_time_driving * boxcox_time_driving\n",
    ")"
   ]
  },
  {
   "cell_type": "code",
   "execution_count": 48,
   "id": "6a1165d0",
   "metadata": {},
   "outputs": [],
   "source": [
    "v_Model3 = {1: v_w_Model3, 2: v_c_Model3, 3: v_pt_Model3, 4: v_driving_Model3}\n",
    "logprob_Model3 = models.loglogit(v_Model3, None, travel_mode)\n",
    "biogeme_Model3 = bio.BIOGEME(database, logprob_Model3)\n",
    "biogeme_Model3.modelName = 'logit_Model3'\n",
    "res_Model3 = biogeme_Model3.estimate()\n"
   ]
  },
  {
   "cell_type": "code",
   "execution_count": 49,
   "id": "efae1bff",
   "metadata": {},
   "outputs": [
    {
     "name": "stdout",
     "output_type": "stream",
     "text": [
      "Number of estimated parameters:\t12\n",
      "Sample size:\t5000\n",
      "Excluded observations:\t0\n",
      "Init log likelihood:\t-4277.532\n",
      "Final log likelihood:\t-4277.532\n",
      "Likelihood ratio test for the init. model:\t-0\n",
      "Rho-square for the init. model:\t0\n",
      "Rho-square-bar for the init. model:\t-0.00281\n",
      "Akaike Information Criterion:\t8579.064\n",
      "Bayesian Information Criterion:\t8657.271\n",
      "Final gradient norm:\t2.7665E-02\n",
      "Nbr of threads:\t64\n",
      "\n"
     ]
    }
   ],
   "source": [
    "print(res_Model3.printGeneralStatistics())"
   ]
  },
  {
   "cell_type": "code",
   "execution_count": 50,
   "id": "e1905ad9",
   "metadata": {},
   "outputs": [
    {
     "data": {
      "text/html": [
       "<div>\n",
       "<style scoped>\n",
       "    .dataframe tbody tr th:only-of-type {\n",
       "        vertical-align: middle;\n",
       "    }\n",
       "\n",
       "    .dataframe tbody tr th {\n",
       "        vertical-align: top;\n",
       "    }\n",
       "\n",
       "    .dataframe thead th {\n",
       "        text-align: right;\n",
       "    }\n",
       "</style>\n",
       "<table border=\"1\" class=\"dataframe\">\n",
       "  <thead>\n",
       "    <tr style=\"text-align: right;\">\n",
       "      <th></th>\n",
       "      <th>Value</th>\n",
       "      <th>Rob. Std err</th>\n",
       "      <th>Rob. t-test</th>\n",
       "      <th>Rob. p-value</th>\n",
       "    </tr>\n",
       "  </thead>\n",
       "  <tbody>\n",
       "    <tr>\n",
       "      <th>beta_cost</th>\n",
       "      <td>-0.121931</td>\n",
       "      <td>0.013848</td>\n",
       "      <td>-8.805163</td>\n",
       "      <td>0.000000e+00</td>\n",
       "    </tr>\n",
       "    <tr>\n",
       "      <th>beta_time_cycling</th>\n",
       "      <td>-3.219416</td>\n",
       "      <td>0.508661</td>\n",
       "      <td>-6.329198</td>\n",
       "      <td>2.464391e-10</td>\n",
       "    </tr>\n",
       "    <tr>\n",
       "      <th>beta_time_driving</th>\n",
       "      <td>-3.376682</td>\n",
       "      <td>0.296580</td>\n",
       "      <td>-11.385409</td>\n",
       "      <td>0.000000e+00</td>\n",
       "    </tr>\n",
       "    <tr>\n",
       "      <th>beta_time_pt</th>\n",
       "      <td>-3.551234</td>\n",
       "      <td>0.337464</td>\n",
       "      <td>-10.523293</td>\n",
       "      <td>0.000000e+00</td>\n",
       "    </tr>\n",
       "    <tr>\n",
       "      <th>beta_time_walking</th>\n",
       "      <td>-5.256316</td>\n",
       "      <td>0.379644</td>\n",
       "      <td>-13.845368</td>\n",
       "      <td>0.000000e+00</td>\n",
       "    </tr>\n",
       "    <tr>\n",
       "      <th>constant_cycling</th>\n",
       "      <td>-2.329929</td>\n",
       "      <td>0.260703</td>\n",
       "      <td>-8.937104</td>\n",
       "      <td>0.000000e+00</td>\n",
       "    </tr>\n",
       "    <tr>\n",
       "      <th>constant_pt</th>\n",
       "      <td>1.539500</td>\n",
       "      <td>0.140732</td>\n",
       "      <td>10.939190</td>\n",
       "      <td>0.000000e+00</td>\n",
       "    </tr>\n",
       "    <tr>\n",
       "      <th>constant_walking</th>\n",
       "      <td>0.099235</td>\n",
       "      <td>0.282442</td>\n",
       "      <td>0.351345</td>\n",
       "      <td>7.253293e-01</td>\n",
       "    </tr>\n",
       "    <tr>\n",
       "      <th>lambda_boxcox_c</th>\n",
       "      <td>0.279432</td>\n",
       "      <td>0.129578</td>\n",
       "      <td>2.156483</td>\n",
       "      <td>3.104598e-02</td>\n",
       "    </tr>\n",
       "    <tr>\n",
       "      <th>lambda_boxcox_driving</th>\n",
       "      <td>0.320108</td>\n",
       "      <td>0.057551</td>\n",
       "      <td>5.562126</td>\n",
       "      <td>2.665073e-08</td>\n",
       "    </tr>\n",
       "    <tr>\n",
       "      <th>lambda_boxcox_pt</th>\n",
       "      <td>0.753032</td>\n",
       "      <td>0.133095</td>\n",
       "      <td>5.657848</td>\n",
       "      <td>1.532827e-08</td>\n",
       "    </tr>\n",
       "    <tr>\n",
       "      <th>lambda_boxcox_w</th>\n",
       "      <td>0.306419</td>\n",
       "      <td>0.069256</td>\n",
       "      <td>4.424418</td>\n",
       "      <td>9.670259e-06</td>\n",
       "    </tr>\n",
       "  </tbody>\n",
       "</table>\n",
       "</div>"
      ],
      "text/plain": [
       "                          Value  Rob. Std err  Rob. t-test  Rob. p-value\n",
       "beta_cost             -0.121931      0.013848    -8.805163  0.000000e+00\n",
       "beta_time_cycling     -3.219416      0.508661    -6.329198  2.464391e-10\n",
       "beta_time_driving     -3.376682      0.296580   -11.385409  0.000000e+00\n",
       "beta_time_pt          -3.551234      0.337464   -10.523293  0.000000e+00\n",
       "beta_time_walking     -5.256316      0.379644   -13.845368  0.000000e+00\n",
       "constant_cycling      -2.329929      0.260703    -8.937104  0.000000e+00\n",
       "constant_pt            1.539500      0.140732    10.939190  0.000000e+00\n",
       "constant_walking       0.099235      0.282442     0.351345  7.253293e-01\n",
       "lambda_boxcox_c        0.279432      0.129578     2.156483  3.104598e-02\n",
       "lambda_boxcox_driving  0.320108      0.057551     5.562126  2.665073e-08\n",
       "lambda_boxcox_pt       0.753032      0.133095     5.657848  1.532827e-08\n",
       "lambda_boxcox_w        0.306419      0.069256     4.424418  9.670259e-06"
      ]
     },
     "execution_count": 50,
     "metadata": {},
     "output_type": "execute_result"
    }
   ],
   "source": [
    "res_Model3.getEstimatedParameters()"
   ]
  },
  {
   "attachments": {},
   "cell_type": "markdown",
   "id": "8c896f20",
   "metadata": {},
   "source": [
    "The estiamted lambdas are quite different, and this leaves us happy, especially the lambda_boxcox_pt is close to 1 that means it's close to be linear (whihc we expected since on public transport you may not feel too much difference between the first minutes and the last ones, since as we've already said you're able to rest or to do other stuffs). Another interesting fact we can notice is that all lambdas are smaller than 1 which means that the more we increase the time the less impact we get on the individual. The signs of the betas are still coherent and the order of ASCs reamins as usual. Looking at t-test values, we see that all of them are gratetr in absoulte value than 1.96, except for ASC_walking, which results to be quite low meaning that this is not really significant."
   ]
  },
  {
   "cell_type": "code",
   "execution_count": 51,
   "id": "c1abe91f",
   "metadata": {},
   "outputs": [
    {
     "data": {
      "text/plain": [
       "LRTuple(message='H0 can be rejected at level 5.0%', statistic=190.7572699829525, threshold=9.487729036781154)"
      ]
     },
     "execution_count": 51,
     "metadata": {},
     "output_type": "execute_result"
    }
   ],
   "source": [
    "res_Model3.likelihood_ratio_test(res_Model1, 0.05)"
   ]
  },
  {
   "attachments": {},
   "cell_type": "markdown",
   "id": "b53972c5",
   "metadata": {},
   "source": [
    "We applied the likelihood ratio test since boxcox transformation can be resricted to model 1 (linear) by putting all the lambdas to 1. The result seems good and so now our preferred model in Model3, this confirms our intial assumptions about different perception of time."
   ]
  },
  {
   "attachments": {},
   "cell_type": "markdown",
   "id": "7fc415d7",
   "metadata": {},
   "source": [
    "# Model 4: #"
   ]
  },
  {
   "attachments": {},
   "cell_type": "markdown",
   "id": "106c0c82",
   "metadata": {},
   "source": [
    "We choose to test a nested structure. Divding our options in MOTORIZED and UNMOTORIZED (fare grafi su latex). The division seems reasonable to us since when you have to decide a travel mode, at least in our case, the flow of thoughts usually starts from deciding if we want to go with a motorized or unmotorized alternative, depending on how fast do we have to be, on how do we phisically fell and on other factors such as weather conditions. We also notice that this division can be interpreted as a split between FREE and PAID alternatives, which will give us the possibility to interpret the reuslts in a dual way."
   ]
  },
  {
   "cell_type": "code",
   "execution_count": 52,
   "id": "5b509ee8",
   "metadata": {},
   "outputs": [],
   "source": [
    "mu_motorized = Beta('mu_motorized', 1, 0, None, 0)\n",
    "mu_unmotorized = Beta('mu_unmotorized', 1, 0, None, 0)\n",
    "unmotorized = mu_unmotorized, [1, 2]\n",
    "motorized = mu_motorized, [3, 4]\n",
    "nests = unmotorized, motorized\n",
    "logprob_Model4 = models.lognested(v_Model3, None, nests, travel_mode) \n",
    "biogeme_Model4 = bio.BIOGEME(database, logprob_Model4)\n",
    "biogeme_Model4.modelName = 'nested_logit_Model4'\n",
    "res_Model4 = biogeme_Model4.estimate()\n"
   ]
  },
  {
   "cell_type": "code",
   "execution_count": 53,
   "id": "b9651516",
   "metadata": {},
   "outputs": [
    {
     "data": {
      "text/html": [
       "<div>\n",
       "<style scoped>\n",
       "    .dataframe tbody tr th:only-of-type {\n",
       "        vertical-align: middle;\n",
       "    }\n",
       "\n",
       "    .dataframe tbody tr th {\n",
       "        vertical-align: top;\n",
       "    }\n",
       "\n",
       "    .dataframe thead th {\n",
       "        text-align: right;\n",
       "    }\n",
       "</style>\n",
       "<table border=\"1\" class=\"dataframe\">\n",
       "  <thead>\n",
       "    <tr style=\"text-align: right;\">\n",
       "      <th></th>\n",
       "      <th>Value</th>\n",
       "      <th>Rob. Std err</th>\n",
       "      <th>Rob. t-test</th>\n",
       "      <th>Rob. p-value</th>\n",
       "    </tr>\n",
       "  </thead>\n",
       "  <tbody>\n",
       "    <tr>\n",
       "      <th>beta_cost</th>\n",
       "      <td>-0.095513</td>\n",
       "      <td>0.020288</td>\n",
       "      <td>-4.707939</td>\n",
       "      <td>2.502342e-06</td>\n",
       "    </tr>\n",
       "    <tr>\n",
       "      <th>beta_time_cycling</th>\n",
       "      <td>-4.195616</td>\n",
       "      <td>1.134928</td>\n",
       "      <td>-3.696813</td>\n",
       "      <td>2.183231e-04</td>\n",
       "    </tr>\n",
       "    <tr>\n",
       "      <th>beta_time_driving</th>\n",
       "      <td>-2.569629</td>\n",
       "      <td>0.541272</td>\n",
       "      <td>-4.747389</td>\n",
       "      <td>2.060589e-06</td>\n",
       "    </tr>\n",
       "    <tr>\n",
       "      <th>beta_time_pt</th>\n",
       "      <td>-2.784873</td>\n",
       "      <td>0.552464</td>\n",
       "      <td>-5.040820</td>\n",
       "      <td>4.635424e-07</td>\n",
       "    </tr>\n",
       "    <tr>\n",
       "      <th>beta_time_walking</th>\n",
       "      <td>-6.107417</td>\n",
       "      <td>0.570887</td>\n",
       "      <td>-10.698116</td>\n",
       "      <td>0.000000e+00</td>\n",
       "    </tr>\n",
       "    <tr>\n",
       "      <th>constant_cycling</th>\n",
       "      <td>-2.780108</td>\n",
       "      <td>0.390406</td>\n",
       "      <td>-7.121066</td>\n",
       "      <td>1.070921e-12</td>\n",
       "    </tr>\n",
       "    <tr>\n",
       "      <th>constant_pt</th>\n",
       "      <td>1.190504</td>\n",
       "      <td>0.239824</td>\n",
       "      <td>4.964064</td>\n",
       "      <td>6.903331e-07</td>\n",
       "    </tr>\n",
       "    <tr>\n",
       "      <th>constant_walking</th>\n",
       "      <td>-1.634590</td>\n",
       "      <td>0.593654</td>\n",
       "      <td>-2.753439</td>\n",
       "      <td>5.897275e-03</td>\n",
       "    </tr>\n",
       "    <tr>\n",
       "      <th>lambda_boxcox_c</th>\n",
       "      <td>1.556361</td>\n",
       "      <td>0.556275</td>\n",
       "      <td>2.797828</td>\n",
       "      <td>5.144752e-03</td>\n",
       "    </tr>\n",
       "    <tr>\n",
       "      <th>lambda_boxcox_driving</th>\n",
       "      <td>0.258577</td>\n",
       "      <td>0.067901</td>\n",
       "      <td>3.808145</td>\n",
       "      <td>1.400134e-04</td>\n",
       "    </tr>\n",
       "    <tr>\n",
       "      <th>lambda_boxcox_pt</th>\n",
       "      <td>0.663758</td>\n",
       "      <td>0.137734</td>\n",
       "      <td>4.819120</td>\n",
       "      <td>1.441925e-06</td>\n",
       "    </tr>\n",
       "    <tr>\n",
       "      <th>lambda_boxcox_w</th>\n",
       "      <td>0.404151</td>\n",
       "      <td>0.072690</td>\n",
       "      <td>5.559907</td>\n",
       "      <td>2.699189e-08</td>\n",
       "    </tr>\n",
       "    <tr>\n",
       "      <th>mu_motorized</th>\n",
       "      <td>1.273700</td>\n",
       "      <td>0.212788</td>\n",
       "      <td>5.985770</td>\n",
       "      <td>2.153688e-09</td>\n",
       "    </tr>\n",
       "    <tr>\n",
       "      <th>mu_unmotorized</th>\n",
       "      <td>0.506170</td>\n",
       "      <td>0.066942</td>\n",
       "      <td>7.561324</td>\n",
       "      <td>3.996803e-14</td>\n",
       "    </tr>\n",
       "  </tbody>\n",
       "</table>\n",
       "</div>"
      ],
      "text/plain": [
       "                          Value  Rob. Std err  Rob. t-test  Rob. p-value\n",
       "beta_cost             -0.095513      0.020288    -4.707939  2.502342e-06\n",
       "beta_time_cycling     -4.195616      1.134928    -3.696813  2.183231e-04\n",
       "beta_time_driving     -2.569629      0.541272    -4.747389  2.060589e-06\n",
       "beta_time_pt          -2.784873      0.552464    -5.040820  4.635424e-07\n",
       "beta_time_walking     -6.107417      0.570887   -10.698116  0.000000e+00\n",
       "constant_cycling      -2.780108      0.390406    -7.121066  1.070921e-12\n",
       "constant_pt            1.190504      0.239824     4.964064  6.903331e-07\n",
       "constant_walking      -1.634590      0.593654    -2.753439  5.897275e-03\n",
       "lambda_boxcox_c        1.556361      0.556275     2.797828  5.144752e-03\n",
       "lambda_boxcox_driving  0.258577      0.067901     3.808145  1.400134e-04\n",
       "lambda_boxcox_pt       0.663758      0.137734     4.819120  1.441925e-06\n",
       "lambda_boxcox_w        0.404151      0.072690     5.559907  2.699189e-08\n",
       "mu_motorized           1.273700      0.212788     5.985770  2.153688e-09\n",
       "mu_unmotorized         0.506170      0.066942     7.561324  3.996803e-14"
      ]
     },
     "execution_count": 53,
     "metadata": {},
     "output_type": "execute_result"
    }
   ],
   "source": [
    "res_Model4.getEstimatedParameters()"
   ]
  },
  {
   "attachments": {},
   "cell_type": "markdown",
   "id": "18ef6d5d",
   "metadata": {},
   "source": [
    "Since the estimation for mu_unmotorized is less than one, this nested logit model is not valid, so for the sake of a good comparison with model 3, we are gonna try some other split, hoping to find a valid one. The next try will be about splitting the altenratives in PUBLIC and PRIVATE"
   ]
  },
  {
   "cell_type": "code",
   "execution_count": 54,
   "id": "1fc1a719",
   "metadata": {},
   "outputs": [],
   "source": [
    "mu_private = Beta('mu_private', 1, 0, None, 0)\n",
    "private = mu_private, [1,2,4]\n",
    "public = 1.0,[3]\n",
    "nests = private, public\n",
    "logprob_Model4_v2 = models.lognested(v_Model3, None, nests, travel_mode)\n",
    "biogeme_Model4_v2 = bio.BIOGEME(database, logprob_Model4_v2)\n",
    "biogeme_Model4_v2.modelName = 'nested_logit_Model4_v2'\n",
    "res_Model4_v2 = biogeme_Model4_v2.estimate()"
   ]
  },
  {
   "cell_type": "code",
   "execution_count": 55,
   "id": "36f99471",
   "metadata": {},
   "outputs": [
    {
     "data": {
      "text/html": [
       "<div>\n",
       "<style scoped>\n",
       "    .dataframe tbody tr th:only-of-type {\n",
       "        vertical-align: middle;\n",
       "    }\n",
       "\n",
       "    .dataframe tbody tr th {\n",
       "        vertical-align: top;\n",
       "    }\n",
       "\n",
       "    .dataframe thead th {\n",
       "        text-align: right;\n",
       "    }\n",
       "</style>\n",
       "<table border=\"1\" class=\"dataframe\">\n",
       "  <thead>\n",
       "    <tr style=\"text-align: right;\">\n",
       "      <th></th>\n",
       "      <th>Value</th>\n",
       "      <th>Rob. Std err</th>\n",
       "      <th>Rob. t-test</th>\n",
       "      <th>Rob. p-value</th>\n",
       "    </tr>\n",
       "  </thead>\n",
       "  <tbody>\n",
       "    <tr>\n",
       "      <th>beta_cost</th>\n",
       "      <td>-0.122300</td>\n",
       "      <td>0.014391</td>\n",
       "      <td>-8.498556</td>\n",
       "      <td>0.000000e+00</td>\n",
       "    </tr>\n",
       "    <tr>\n",
       "      <th>beta_time_cycling</th>\n",
       "      <td>-3.215516</td>\n",
       "      <td>0.518201</td>\n",
       "      <td>-6.205149</td>\n",
       "      <td>5.464502e-10</td>\n",
       "    </tr>\n",
       "    <tr>\n",
       "      <th>beta_time_driving</th>\n",
       "      <td>-3.371131</td>\n",
       "      <td>0.304441</td>\n",
       "      <td>-11.073174</td>\n",
       "      <td>0.000000e+00</td>\n",
       "    </tr>\n",
       "    <tr>\n",
       "      <th>beta_time_pt</th>\n",
       "      <td>-3.545232</td>\n",
       "      <td>0.348346</td>\n",
       "      <td>-10.177320</td>\n",
       "      <td>0.000000e+00</td>\n",
       "    </tr>\n",
       "    <tr>\n",
       "      <th>beta_time_walking</th>\n",
       "      <td>-5.285215</td>\n",
       "      <td>0.479692</td>\n",
       "      <td>-11.017934</td>\n",
       "      <td>0.000000e+00</td>\n",
       "    </tr>\n",
       "    <tr>\n",
       "      <th>constant_cycling</th>\n",
       "      <td>-2.354015</td>\n",
       "      <td>0.346229</td>\n",
       "      <td>-6.799007</td>\n",
       "      <td>1.053424e-11</td>\n",
       "    </tr>\n",
       "    <tr>\n",
       "      <th>constant_pt</th>\n",
       "      <td>1.538232</td>\n",
       "      <td>0.141445</td>\n",
       "      <td>10.875124</td>\n",
       "      <td>0.000000e+00</td>\n",
       "    </tr>\n",
       "    <tr>\n",
       "      <th>constant_walking</th>\n",
       "      <td>0.070206</td>\n",
       "      <td>0.413226</td>\n",
       "      <td>0.169897</td>\n",
       "      <td>8.650909e-01</td>\n",
       "    </tr>\n",
       "    <tr>\n",
       "      <th>lambda_boxcox_c</th>\n",
       "      <td>0.277023</td>\n",
       "      <td>0.135386</td>\n",
       "      <td>2.046170</td>\n",
       "      <td>4.073969e-02</td>\n",
       "    </tr>\n",
       "    <tr>\n",
       "      <th>lambda_boxcox_driving</th>\n",
       "      <td>0.317848</td>\n",
       "      <td>0.063035</td>\n",
       "      <td>5.042450</td>\n",
       "      <td>4.596089e-07</td>\n",
       "    </tr>\n",
       "    <tr>\n",
       "      <th>lambda_boxcox_pt</th>\n",
       "      <td>0.745826</td>\n",
       "      <td>0.156915</td>\n",
       "      <td>4.753058</td>\n",
       "      <td>2.003630e-06</td>\n",
       "    </tr>\n",
       "    <tr>\n",
       "      <th>lambda_boxcox_w</th>\n",
       "      <td>0.305779</td>\n",
       "      <td>0.069682</td>\n",
       "      <td>4.388188</td>\n",
       "      <td>1.142992e-05</td>\n",
       "    </tr>\n",
       "    <tr>\n",
       "      <th>mu_private</th>\n",
       "      <td>0.991459</td>\n",
       "      <td>0.084383</td>\n",
       "      <td>11.749530</td>\n",
       "      <td>0.000000e+00</td>\n",
       "    </tr>\n",
       "  </tbody>\n",
       "</table>\n",
       "</div>"
      ],
      "text/plain": [
       "                          Value  Rob. Std err  Rob. t-test  Rob. p-value\n",
       "beta_cost             -0.122300      0.014391    -8.498556  0.000000e+00\n",
       "beta_time_cycling     -3.215516      0.518201    -6.205149  5.464502e-10\n",
       "beta_time_driving     -3.371131      0.304441   -11.073174  0.000000e+00\n",
       "beta_time_pt          -3.545232      0.348346   -10.177320  0.000000e+00\n",
       "beta_time_walking     -5.285215      0.479692   -11.017934  0.000000e+00\n",
       "constant_cycling      -2.354015      0.346229    -6.799007  1.053424e-11\n",
       "constant_pt            1.538232      0.141445    10.875124  0.000000e+00\n",
       "constant_walking       0.070206      0.413226     0.169897  8.650909e-01\n",
       "lambda_boxcox_c        0.277023      0.135386     2.046170  4.073969e-02\n",
       "lambda_boxcox_driving  0.317848      0.063035     5.042450  4.596089e-07\n",
       "lambda_boxcox_pt       0.745826      0.156915     4.753058  2.003630e-06\n",
       "lambda_boxcox_w        0.305779      0.069682     4.388188  1.142992e-05\n",
       "mu_private             0.991459      0.084383    11.749530  0.000000e+00"
      ]
     },
     "execution_count": 55,
     "metadata": {},
     "output_type": "execute_result"
    }
   ],
   "source": [
    "res_Model4_v2.getEstimatedParameters()"
   ]
  },
  {
   "attachments": {},
   "cell_type": "markdown",
   "id": "1f48822a",
   "metadata": {},
   "source": [
    "We notice that we did not put any mu_public since there is just one alternative is this nest. Anyway the estimation of mu_private is still less than 1 so we wanna keep on with our exploration, trying to exploit a cross nested model, where the split is between PRIVATE and MOTORIZED alternatives, where CAR is common to both the nests."
   ]
  },
  {
   "cell_type": "code",
   "execution_count": 56,
   "id": "81898ca7",
   "metadata": {},
   "outputs": [],
   "source": [
    "mu_motorized = Beta('mu_motorized', 1, 1, None, 0)\n",
    "mu_private = Beta('mu_private', 1, 1, None, 0)\n",
    "alpha_motorized_car = Beta('alpha_motorized_car', 0.5, 0, 1, 0)\n",
    "alpha_private_car = 1 - alpha_motorized_car\n",
    "alpha_motorized = {\n",
    "    1 : 0.0,\n",
    "    2 : 0.0,\n",
    "    3 : 1.0,\n",
    "    4 : alpha_motorized_car\n",
    "}\n",
    "alpha_private = {\n",
    "    1 : 1.0,\n",
    "    2 : 1.0,\n",
    "    3 : 0.0,\n",
    "    4 : alpha_private_car\n",
    "}\n",
    "\n",
    "nest_motorized = mu_motorized, alpha_motorized\n",
    "nest_private = mu_private, alpha_private\n",
    "\n",
    "nests = nest_motorized, nest_private\n",
    "\n",
    "logprob_Model4_v3 = models.logcnl_avail(v_Model3, None, nests, travel_mode)\n",
    "biogeme_Model4_v3 = bio.BIOGEME(database, logprob_Model4_v3)\n",
    "biogeme_Model4_v3.modelName = 'cnl_avail_Model4_v3'\n",
    "res_Model4_v3 = biogeme_Model4_v3.estimate()\n"
   ]
  },
  {
   "cell_type": "code",
   "execution_count": 57,
   "id": "7e3df9a3",
   "metadata": {},
   "outputs": [
    {
     "name": "stdout",
     "output_type": "stream",
     "text": [
      "Number of estimated parameters:\t15\n",
      "Sample size:\t5000\n",
      "Excluded observations:\t0\n",
      "Init log likelihood:\t-4270.487\n",
      "Final log likelihood:\t-4270.487\n",
      "Likelihood ratio test for the init. model:\t-0\n",
      "Rho-square for the init. model:\t0\n",
      "Rho-square-bar for the init. model:\t-0.00351\n",
      "Akaike Information Criterion:\t8570.973\n",
      "Bayesian Information Criterion:\t8668.731\n",
      "Final gradient norm:\t1.7004E-02\n",
      "Nbr of threads:\t64\n",
      "\n"
     ]
    }
   ],
   "source": [
    "print(res_Model4_v3.printGeneralStatistics())"
   ]
  },
  {
   "cell_type": "code",
   "execution_count": 58,
   "id": "ac3cd824",
   "metadata": {},
   "outputs": [
    {
     "data": {
      "text/html": [
       "<div>\n",
       "<style scoped>\n",
       "    .dataframe tbody tr th:only-of-type {\n",
       "        vertical-align: middle;\n",
       "    }\n",
       "\n",
       "    .dataframe tbody tr th {\n",
       "        vertical-align: top;\n",
       "    }\n",
       "\n",
       "    .dataframe thead th {\n",
       "        text-align: right;\n",
       "    }\n",
       "</style>\n",
       "<table border=\"1\" class=\"dataframe\">\n",
       "  <thead>\n",
       "    <tr style=\"text-align: right;\">\n",
       "      <th></th>\n",
       "      <th>Value</th>\n",
       "      <th>Rob. Std err</th>\n",
       "      <th>Rob. t-test</th>\n",
       "      <th>Rob. p-value</th>\n",
       "    </tr>\n",
       "  </thead>\n",
       "  <tbody>\n",
       "    <tr>\n",
       "      <th>alpha_motorized_car</th>\n",
       "      <td>0.476319</td>\n",
       "      <td>0.099565</td>\n",
       "      <td>4.784014</td>\n",
       "      <td>1.718285e-06</td>\n",
       "    </tr>\n",
       "    <tr>\n",
       "      <th>beta_cost</th>\n",
       "      <td>-0.090862</td>\n",
       "      <td>0.014995</td>\n",
       "      <td>-6.059643</td>\n",
       "      <td>1.364242e-09</td>\n",
       "    </tr>\n",
       "    <tr>\n",
       "      <th>beta_time_cycling</th>\n",
       "      <td>-2.330014</td>\n",
       "      <td>0.501557</td>\n",
       "      <td>-4.645563</td>\n",
       "      <td>3.391510e-06</td>\n",
       "    </tr>\n",
       "    <tr>\n",
       "      <th>beta_time_driving</th>\n",
       "      <td>-2.318131</td>\n",
       "      <td>0.352254</td>\n",
       "      <td>-6.580842</td>\n",
       "      <td>4.677903e-11</td>\n",
       "    </tr>\n",
       "    <tr>\n",
       "      <th>beta_time_pt</th>\n",
       "      <td>-2.306788</td>\n",
       "      <td>0.366268</td>\n",
       "      <td>-6.298092</td>\n",
       "      <td>3.013321e-10</td>\n",
       "    </tr>\n",
       "    <tr>\n",
       "      <th>beta_time_walking</th>\n",
       "      <td>-4.126894</td>\n",
       "      <td>0.483776</td>\n",
       "      <td>-8.530581</td>\n",
       "      <td>0.000000e+00</td>\n",
       "    </tr>\n",
       "    <tr>\n",
       "      <th>constant_cycling</th>\n",
       "      <td>-2.485102</td>\n",
       "      <td>0.310523</td>\n",
       "      <td>-8.002947</td>\n",
       "      <td>1.110223e-15</td>\n",
       "    </tr>\n",
       "    <tr>\n",
       "      <th>constant_pt</th>\n",
       "      <td>0.964056</td>\n",
       "      <td>0.166274</td>\n",
       "      <td>5.798003</td>\n",
       "      <td>6.710912e-09</td>\n",
       "    </tr>\n",
       "    <tr>\n",
       "      <th>constant_walking</th>\n",
       "      <td>-0.769839</td>\n",
       "      <td>0.439394</td>\n",
       "      <td>-1.752048</td>\n",
       "      <td>7.976561e-02</td>\n",
       "    </tr>\n",
       "    <tr>\n",
       "      <th>lambda_boxcox_c</th>\n",
       "      <td>0.254218</td>\n",
       "      <td>0.155802</td>\n",
       "      <td>1.631679</td>\n",
       "      <td>1.027471e-01</td>\n",
       "    </tr>\n",
       "    <tr>\n",
       "      <th>lambda_boxcox_driving</th>\n",
       "      <td>0.336426</td>\n",
       "      <td>0.072120</td>\n",
       "      <td>4.664812</td>\n",
       "      <td>3.088998e-06</td>\n",
       "    </tr>\n",
       "    <tr>\n",
       "      <th>lambda_boxcox_pt</th>\n",
       "      <td>0.756410</td>\n",
       "      <td>0.151171</td>\n",
       "      <td>5.003664</td>\n",
       "      <td>5.625084e-07</td>\n",
       "    </tr>\n",
       "    <tr>\n",
       "      <th>lambda_boxcox_w</th>\n",
       "      <td>0.286757</td>\n",
       "      <td>0.074213</td>\n",
       "      <td>3.863995</td>\n",
       "      <td>1.115474e-04</td>\n",
       "    </tr>\n",
       "    <tr>\n",
       "      <th>mu_motorized</th>\n",
       "      <td>2.223643</td>\n",
       "      <td>0.388934</td>\n",
       "      <td>5.717280</td>\n",
       "      <td>1.082429e-08</td>\n",
       "    </tr>\n",
       "    <tr>\n",
       "      <th>mu_private</th>\n",
       "      <td>1.211543</td>\n",
       "      <td>0.133614</td>\n",
       "      <td>9.067500</td>\n",
       "      <td>0.000000e+00</td>\n",
       "    </tr>\n",
       "  </tbody>\n",
       "</table>\n",
       "</div>"
      ],
      "text/plain": [
       "                          Value  Rob. Std err  Rob. t-test  Rob. p-value\n",
       "alpha_motorized_car    0.476319      0.099565     4.784014  1.718285e-06\n",
       "beta_cost             -0.090862      0.014995    -6.059643  1.364242e-09\n",
       "beta_time_cycling     -2.330014      0.501557    -4.645563  3.391510e-06\n",
       "beta_time_driving     -2.318131      0.352254    -6.580842  4.677903e-11\n",
       "beta_time_pt          -2.306788      0.366268    -6.298092  3.013321e-10\n",
       "beta_time_walking     -4.126894      0.483776    -8.530581  0.000000e+00\n",
       "constant_cycling      -2.485102      0.310523    -8.002947  1.110223e-15\n",
       "constant_pt            0.964056      0.166274     5.798003  6.710912e-09\n",
       "constant_walking      -0.769839      0.439394    -1.752048  7.976561e-02\n",
       "lambda_boxcox_c        0.254218      0.155802     1.631679  1.027471e-01\n",
       "lambda_boxcox_driving  0.336426      0.072120     4.664812  3.088998e-06\n",
       "lambda_boxcox_pt       0.756410      0.151171     5.003664  5.625084e-07\n",
       "lambda_boxcox_w        0.286757      0.074213     3.863995  1.115474e-04\n",
       "mu_motorized           2.223643      0.388934     5.717280  1.082429e-08\n",
       "mu_private             1.211543      0.133614     9.067500  0.000000e+00"
      ]
     },
     "execution_count": 58,
     "metadata": {},
     "output_type": "execute_result"
    }
   ],
   "source": [
    "res_Model4_v3.getEstimatedParameters()"
   ]
  },
  {
   "attachments": {},
   "cell_type": "markdown",
   "id": "c3ad5dce",
   "metadata": {},
   "source": [
    "The estimation now leaves us satisfied, both because the theoretical constraints are respected (mu_motorized and mu_private are both grater than 1) and, aboveall, the values are reasonable. In particular, the fact that alpha is estimated at 0.476 is in line with our expectations since we think that there is no particular dominance between the two nests regarding the belonging of CAR alternative. So now it's time to test our model in order to determine if this version is better than our actual preferred one. We apply a logliekelihood ratio test."
   ]
  },
  {
   "cell_type": "code",
   "execution_count": 59,
   "id": "59faf17c",
   "metadata": {},
   "outputs": [
    {
     "data": {
      "text/plain": [
       "LRTuple(message='H0 can be rejected at level 5.0%', statistic=14.090894662507708, threshold=7.814727903251179)"
      ]
     },
     "execution_count": 59,
     "metadata": {},
     "output_type": "execute_result"
    }
   ],
   "source": [
    "res_Model4_v3.likelihood_ratio_test(res_Model3, 0.05)"
   ]
  },
  {
   "attachments": {},
   "cell_type": "markdown",
   "id": "44a0d3f2",
   "metadata": {},
   "source": [
    "So now the preferred model is Model 4, in its last version, where we propose a division between PRIVATE and MOTORIZED alternatives, with CAR belonging to both nests."
   ]
  },
  {
   "attachments": {},
   "cell_type": "markdown",
   "id": "260c22de",
   "metadata": {},
   "source": [
    "# Market shares: #"
   ]
  },
  {
   "cell_type": "code",
   "execution_count": 60,
   "id": "b2cf5316",
   "metadata": {},
   "outputs": [
    {
     "name": "stdout",
     "output_type": "stream",
     "text": [
      "Size of S1:  1663 \n",
      "Size of S2:  1004 \n",
      "Size of S3:  1433 \n",
      "Size of S4:  900\n",
      "5000\n"
     ]
    }
   ],
   "source": [
    "condition1 = df['age'] >= 45  \n",
    "condition2 = df['female'] == 1\n",
    "condition3 = df['age'] < 45\n",
    "condition4 = df['female'] == 0  \n",
    "\n",
    "size_S1 = (condition2 & condition3).sum()\n",
    "size_S2 = (condition2 & condition1).sum()\n",
    "size_S3 = (condition4 & condition3).sum()\n",
    "size_S4 = (condition4 & condition1).sum()\n",
    "S = size_S1 + size_S2 + size_S3 + size_S4\n",
    "print(\"Size of S1: \", size_S1, \"\\nSize of S2: \", size_S2, \"\\nSize of S3: \", size_S3, \"\\nSize of S4: \", size_S4)\n",
    "print(S)"
   ]
  },
  {
   "cell_type": "code",
   "execution_count": 61,
   "id": "15f079ee",
   "metadata": {},
   "outputs": [
    {
     "name": "stdout",
     "output_type": "stream",
     "text": [
      "weight of S1:  0.9856918689022015 \n",
      "weight of S2:  0.8733729419061216 \n",
      "weight of S3:  1.1781305028128637 \n",
      "weight of S4:  0.8840744197900654\n"
     ]
    }
   ],
   "source": [
    "P1 = 2841376\n",
    "P2 = 1519948\n",
    "P3 = 2926408\n",
    "P4 = 1379198\n",
    "P = P1 + P2 + P3 + P4\n",
    "\n",
    "w1 = (P1/P)/(size_S1/S)\n",
    "w2 = (P2/P)/(size_S2/S)\n",
    "w3 = (P3/P)/(size_S3/S)\n",
    "w4 = (P4/P)/(size_S4/S)\n",
    "print(\"weight of S1: \", w1, \"\\nweight of S2: \", w2, \"\\nweight of S3: \", w3, \"\\nweight of S4: \", w4)"
   ]
  },
  {
   "cell_type": "code",
   "execution_count": 62,
   "id": "2105e38c",
   "metadata": {},
   "outputs": [],
   "source": [
    "filters = {\n",
    "    'female_44_less' : condition2 & condition3,\n",
    "    'female_44_more' : condition2 & condition1,\n",
    "    'male_44_less' : condition4 & condition3,\n",
    "    'male_44_more' : condition4 & condition1\n",
    "}"
   ]
  },
  {
   "cell_type": "code",
   "execution_count": 63,
   "id": "012e91ac",
   "metadata": {},
   "outputs": [],
   "source": [
    "weights = {\n",
    "    'female_44_less' : w1,\n",
    "    'female_44_more' : w2,\n",
    "    'male_44_less' : w3,\n",
    "    'male_44_more' : w4\n",
    "}\n",
    "\n",
    "for k,f in filters.items():\n",
    "    df.loc[f, 'Weight'] = weights[k]"
   ]
  },
  {
   "cell_type": "code",
   "execution_count": 64,
   "id": "16414210",
   "metadata": {},
   "outputs": [
    {
     "data": {
      "text/html": [
       "<div>\n",
       "<style scoped>\n",
       "    .dataframe tbody tr th:only-of-type {\n",
       "        vertical-align: middle;\n",
       "    }\n",
       "\n",
       "    .dataframe tbody tr th {\n",
       "        vertical-align: top;\n",
       "    }\n",
       "\n",
       "    .dataframe thead th {\n",
       "        text-align: right;\n",
       "    }\n",
       "</style>\n",
       "<table border=\"1\" class=\"dataframe\">\n",
       "  <thead>\n",
       "    <tr style=\"text-align: right;\">\n",
       "      <th></th>\n",
       "      <th>trip_id</th>\n",
       "      <th>household_id</th>\n",
       "      <th>person_n</th>\n",
       "      <th>trip_n</th>\n",
       "      <th>travel_mode</th>\n",
       "      <th>purpose</th>\n",
       "      <th>fueltype</th>\n",
       "      <th>faretype</th>\n",
       "      <th>bus_scale</th>\n",
       "      <th>survey_year</th>\n",
       "      <th>...</th>\n",
       "      <th>dur_pt_bus</th>\n",
       "      <th>dur_pt_int</th>\n",
       "      <th>pt_interchanges</th>\n",
       "      <th>dur_driving</th>\n",
       "      <th>cost_transit</th>\n",
       "      <th>cost_driving_fuel</th>\n",
       "      <th>cost_driving_ccharge</th>\n",
       "      <th>driving_traffic_percent</th>\n",
       "      <th>cost_driving</th>\n",
       "      <th>Weight</th>\n",
       "    </tr>\n",
       "  </thead>\n",
       "  <tbody>\n",
       "    <tr>\n",
       "      <th>0</th>\n",
       "      <td>1</td>\n",
       "      <td>0</td>\n",
       "      <td>0</td>\n",
       "      <td>1</td>\n",
       "      <td>4</td>\n",
       "      <td>3</td>\n",
       "      <td>1</td>\n",
       "      <td>1</td>\n",
       "      <td>1.0</td>\n",
       "      <td>1</td>\n",
       "      <td>...</td>\n",
       "      <td>0.055556</td>\n",
       "      <td>0.000000</td>\n",
       "      <td>0</td>\n",
       "      <td>0.059444</td>\n",
       "      <td>1.5</td>\n",
       "      <td>0.15</td>\n",
       "      <td>0.0</td>\n",
       "      <td>0.112150</td>\n",
       "      <td>0.15</td>\n",
       "      <td>0.873373</td>\n",
       "    </tr>\n",
       "    <tr>\n",
       "      <th>1</th>\n",
       "      <td>13</td>\n",
       "      <td>1</td>\n",
       "      <td>1</td>\n",
       "      <td>1</td>\n",
       "      <td>4</td>\n",
       "      <td>3</td>\n",
       "      <td>1</td>\n",
       "      <td>5</td>\n",
       "      <td>0.0</td>\n",
       "      <td>1</td>\n",
       "      <td>...</td>\n",
       "      <td>0.122222</td>\n",
       "      <td>0.000000</td>\n",
       "      <td>0</td>\n",
       "      <td>0.132222</td>\n",
       "      <td>0.0</td>\n",
       "      <td>0.50</td>\n",
       "      <td>0.0</td>\n",
       "      <td>0.065126</td>\n",
       "      <td>0.50</td>\n",
       "      <td>0.884074</td>\n",
       "    </tr>\n",
       "    <tr>\n",
       "      <th>2</th>\n",
       "      <td>19</td>\n",
       "      <td>4</td>\n",
       "      <td>0</td>\n",
       "      <td>1</td>\n",
       "      <td>3</td>\n",
       "      <td>3</td>\n",
       "      <td>6</td>\n",
       "      <td>5</td>\n",
       "      <td>0.0</td>\n",
       "      <td>1</td>\n",
       "      <td>...</td>\n",
       "      <td>0.312222</td>\n",
       "      <td>0.000000</td>\n",
       "      <td>0</td>\n",
       "      <td>0.221667</td>\n",
       "      <td>0.0</td>\n",
       "      <td>0.56</td>\n",
       "      <td>0.0</td>\n",
       "      <td>0.086466</td>\n",
       "      <td>0.56</td>\n",
       "      <td>0.873373</td>\n",
       "    </tr>\n",
       "    <tr>\n",
       "      <th>3</th>\n",
       "      <td>20</td>\n",
       "      <td>5</td>\n",
       "      <td>1</td>\n",
       "      <td>0</td>\n",
       "      <td>4</td>\n",
       "      <td>3</td>\n",
       "      <td>1</td>\n",
       "      <td>5</td>\n",
       "      <td>0.0</td>\n",
       "      <td>1</td>\n",
       "      <td>...</td>\n",
       "      <td>0.062222</td>\n",
       "      <td>0.000000</td>\n",
       "      <td>0</td>\n",
       "      <td>0.117222</td>\n",
       "      <td>0.0</td>\n",
       "      <td>0.41</td>\n",
       "      <td>0.0</td>\n",
       "      <td>0.097156</td>\n",
       "      <td>0.41</td>\n",
       "      <td>0.873373</td>\n",
       "    </tr>\n",
       "    <tr>\n",
       "      <th>4</th>\n",
       "      <td>39</td>\n",
       "      <td>9</td>\n",
       "      <td>2</td>\n",
       "      <td>0</td>\n",
       "      <td>4</td>\n",
       "      <td>3</td>\n",
       "      <td>1</td>\n",
       "      <td>5</td>\n",
       "      <td>0.0</td>\n",
       "      <td>1</td>\n",
       "      <td>...</td>\n",
       "      <td>0.225000</td>\n",
       "      <td>0.000000</td>\n",
       "      <td>0</td>\n",
       "      <td>0.200833</td>\n",
       "      <td>0.0</td>\n",
       "      <td>0.48</td>\n",
       "      <td>0.0</td>\n",
       "      <td>0.378976</td>\n",
       "      <td>0.48</td>\n",
       "      <td>0.985692</td>\n",
       "    </tr>\n",
       "    <tr>\n",
       "      <th>...</th>\n",
       "      <td>...</td>\n",
       "      <td>...</td>\n",
       "      <td>...</td>\n",
       "      <td>...</td>\n",
       "      <td>...</td>\n",
       "      <td>...</td>\n",
       "      <td>...</td>\n",
       "      <td>...</td>\n",
       "      <td>...</td>\n",
       "      <td>...</td>\n",
       "      <td>...</td>\n",
       "      <td>...</td>\n",
       "      <td>...</td>\n",
       "      <td>...</td>\n",
       "      <td>...</td>\n",
       "      <td>...</td>\n",
       "      <td>...</td>\n",
       "      <td>...</td>\n",
       "      <td>...</td>\n",
       "      <td>...</td>\n",
       "      <td>...</td>\n",
       "    </tr>\n",
       "    <tr>\n",
       "      <th>4995</th>\n",
       "      <td>81035</td>\n",
       "      <td>17603</td>\n",
       "      <td>1</td>\n",
       "      <td>1</td>\n",
       "      <td>3</td>\n",
       "      <td>1</td>\n",
       "      <td>1</td>\n",
       "      <td>1</td>\n",
       "      <td>1.0</td>\n",
       "      <td>3</td>\n",
       "      <td>...</td>\n",
       "      <td>0.000000</td>\n",
       "      <td>0.000000</td>\n",
       "      <td>0</td>\n",
       "      <td>0.392222</td>\n",
       "      <td>2.4</td>\n",
       "      <td>0.98</td>\n",
       "      <td>0.0</td>\n",
       "      <td>0.547450</td>\n",
       "      <td>0.98</td>\n",
       "      <td>0.884074</td>\n",
       "    </tr>\n",
       "    <tr>\n",
       "      <th>4996</th>\n",
       "      <td>81040</td>\n",
       "      <td>17604</td>\n",
       "      <td>2</td>\n",
       "      <td>0</td>\n",
       "      <td>3</td>\n",
       "      <td>1</td>\n",
       "      <td>1</td>\n",
       "      <td>2</td>\n",
       "      <td>0.0</td>\n",
       "      <td>3</td>\n",
       "      <td>...</td>\n",
       "      <td>0.353333</td>\n",
       "      <td>0.176667</td>\n",
       "      <td>1</td>\n",
       "      <td>0.288889</td>\n",
       "      <td>0.0</td>\n",
       "      <td>0.85</td>\n",
       "      <td>0.0</td>\n",
       "      <td>0.175000</td>\n",
       "      <td>0.85</td>\n",
       "      <td>1.178131</td>\n",
       "    </tr>\n",
       "    <tr>\n",
       "      <th>4997</th>\n",
       "      <td>81045</td>\n",
       "      <td>17605</td>\n",
       "      <td>0</td>\n",
       "      <td>1</td>\n",
       "      <td>4</td>\n",
       "      <td>3</td>\n",
       "      <td>1</td>\n",
       "      <td>5</td>\n",
       "      <td>0.0</td>\n",
       "      <td>3</td>\n",
       "      <td>...</td>\n",
       "      <td>0.045833</td>\n",
       "      <td>0.000000</td>\n",
       "      <td>0</td>\n",
       "      <td>0.067778</td>\n",
       "      <td>0.0</td>\n",
       "      <td>0.17</td>\n",
       "      <td>0.0</td>\n",
       "      <td>0.024590</td>\n",
       "      <td>0.17</td>\n",
       "      <td>0.873373</td>\n",
       "    </tr>\n",
       "    <tr>\n",
       "      <th>4998</th>\n",
       "      <td>81066</td>\n",
       "      <td>17608</td>\n",
       "      <td>0</td>\n",
       "      <td>3</td>\n",
       "      <td>3</td>\n",
       "      <td>3</td>\n",
       "      <td>6</td>\n",
       "      <td>1</td>\n",
       "      <td>1.0</td>\n",
       "      <td>3</td>\n",
       "      <td>...</td>\n",
       "      <td>0.389444</td>\n",
       "      <td>0.000000</td>\n",
       "      <td>0</td>\n",
       "      <td>0.193333</td>\n",
       "      <td>1.5</td>\n",
       "      <td>0.61</td>\n",
       "      <td>0.0</td>\n",
       "      <td>0.485632</td>\n",
       "      <td>0.61</td>\n",
       "      <td>0.985692</td>\n",
       "    </tr>\n",
       "    <tr>\n",
       "      <th>4999</th>\n",
       "      <td>81073</td>\n",
       "      <td>17610</td>\n",
       "      <td>1</td>\n",
       "      <td>0</td>\n",
       "      <td>4</td>\n",
       "      <td>3</td>\n",
       "      <td>2</td>\n",
       "      <td>1</td>\n",
       "      <td>1.0</td>\n",
       "      <td>3</td>\n",
       "      <td>...</td>\n",
       "      <td>0.400000</td>\n",
       "      <td>0.000000</td>\n",
       "      <td>0</td>\n",
       "      <td>0.259167</td>\n",
       "      <td>1.5</td>\n",
       "      <td>0.88</td>\n",
       "      <td>0.0</td>\n",
       "      <td>0.233655</td>\n",
       "      <td>0.88</td>\n",
       "      <td>1.178131</td>\n",
       "    </tr>\n",
       "  </tbody>\n",
       "</table>\n",
       "<p>5000 rows × 34 columns</p>\n",
       "</div>"
      ],
      "text/plain": [
       "      trip_id  household_id  person_n  trip_n  travel_mode  purpose  fueltype  \\\n",
       "0           1             0         0       1            4        3         1   \n",
       "1          13             1         1       1            4        3         1   \n",
       "2          19             4         0       1            3        3         6   \n",
       "3          20             5         1       0            4        3         1   \n",
       "4          39             9         2       0            4        3         1   \n",
       "...       ...           ...       ...     ...          ...      ...       ...   \n",
       "4995    81035         17603         1       1            3        1         1   \n",
       "4996    81040         17604         2       0            3        1         1   \n",
       "4997    81045         17605         0       1            4        3         1   \n",
       "4998    81066         17608         0       3            3        3         6   \n",
       "4999    81073         17610         1       0            4        3         2   \n",
       "\n",
       "      faretype  bus_scale  survey_year  ...  dur_pt_bus  dur_pt_int  \\\n",
       "0            1        1.0            1  ...    0.055556    0.000000   \n",
       "1            5        0.0            1  ...    0.122222    0.000000   \n",
       "2            5        0.0            1  ...    0.312222    0.000000   \n",
       "3            5        0.0            1  ...    0.062222    0.000000   \n",
       "4            5        0.0            1  ...    0.225000    0.000000   \n",
       "...        ...        ...          ...  ...         ...         ...   \n",
       "4995         1        1.0            3  ...    0.000000    0.000000   \n",
       "4996         2        0.0            3  ...    0.353333    0.176667   \n",
       "4997         5        0.0            3  ...    0.045833    0.000000   \n",
       "4998         1        1.0            3  ...    0.389444    0.000000   \n",
       "4999         1        1.0            3  ...    0.400000    0.000000   \n",
       "\n",
       "      pt_interchanges  dur_driving  cost_transit  cost_driving_fuel  \\\n",
       "0                   0     0.059444           1.5               0.15   \n",
       "1                   0     0.132222           0.0               0.50   \n",
       "2                   0     0.221667           0.0               0.56   \n",
       "3                   0     0.117222           0.0               0.41   \n",
       "4                   0     0.200833           0.0               0.48   \n",
       "...               ...          ...           ...                ...   \n",
       "4995                0     0.392222           2.4               0.98   \n",
       "4996                1     0.288889           0.0               0.85   \n",
       "4997                0     0.067778           0.0               0.17   \n",
       "4998                0     0.193333           1.5               0.61   \n",
       "4999                0     0.259167           1.5               0.88   \n",
       "\n",
       "      cost_driving_ccharge  driving_traffic_percent  cost_driving    Weight  \n",
       "0                      0.0                 0.112150          0.15  0.873373  \n",
       "1                      0.0                 0.065126          0.50  0.884074  \n",
       "2                      0.0                 0.086466          0.56  0.873373  \n",
       "3                      0.0                 0.097156          0.41  0.873373  \n",
       "4                      0.0                 0.378976          0.48  0.985692  \n",
       "...                    ...                      ...           ...       ...  \n",
       "4995                   0.0                 0.547450          0.98  0.884074  \n",
       "4996                   0.0                 0.175000          0.85  1.178131  \n",
       "4997                   0.0                 0.024590          0.17  0.873373  \n",
       "4998                   0.0                 0.485632          0.61  0.985692  \n",
       "4999                   0.0                 0.233655          0.88  1.178131  \n",
       "\n",
       "[5000 rows x 34 columns]"
      ]
     },
     "execution_count": 64,
     "metadata": {},
     "output_type": "execute_result"
    }
   ],
   "source": [
    "df"
   ]
  },
  {
   "cell_type": "code",
   "execution_count": 65,
   "id": "76c4da57",
   "metadata": {},
   "outputs": [
    {
     "data": {
      "text/plain": [
       "4999.999999999712"
      ]
     },
     "execution_count": 65,
     "metadata": {},
     "output_type": "execute_result"
    }
   ],
   "source": [
    "sum(df['Weight'])"
   ]
  },
  {
   "cell_type": "code",
   "execution_count": 66,
   "id": "8867328c",
   "metadata": {},
   "outputs": [],
   "source": [
    "database_weight = db.Database('lpmc_2', df)"
   ]
  },
  {
   "cell_type": "code",
   "execution_count": 67,
   "id": "ca677da3",
   "metadata": {},
   "outputs": [],
   "source": [
    "Weight = Variable('Weight')\n",
    "prob_walking = models.cnl_avail(v_Model3, None, nests, 1)\n",
    "prob_cycling = models.cnl_avail(v_Model3, None, nests, 2)\n",
    "prob_pt = models.cnl_avail(v_Model3, None, nests, 3)\n",
    "prob_driving = models.cnl_avail(v_Model3, None, nests, 4)\n",
    "\n",
    "simulate = {\n",
    "    'Weight': Weight,\n",
    "    'Prob. walking': prob_walking,\n",
    "    'Prob. cycling': prob_cycling,\n",
    "    'Prob. public transport': prob_pt,\n",
    "    'Prob. driving': prob_driving\n",
    "}\n",
    "\n",
    "biosim = bio.BIOGEME(database_weight, simulate)\n",
    "simulated_values = biosim.simulate(res_Model4_v3.getBetaValues())\n"
   ]
  },
  {
   "cell_type": "code",
   "execution_count": 68,
   "id": "958f55ec",
   "metadata": {},
   "outputs": [
    {
     "data": {
      "text/html": [
       "<div>\n",
       "<style scoped>\n",
       "    .dataframe tbody tr th:only-of-type {\n",
       "        vertical-align: middle;\n",
       "    }\n",
       "\n",
       "    .dataframe tbody tr th {\n",
       "        vertical-align: top;\n",
       "    }\n",
       "\n",
       "    .dataframe thead th {\n",
       "        text-align: right;\n",
       "    }\n",
       "</style>\n",
       "<table border=\"1\" class=\"dataframe\">\n",
       "  <thead>\n",
       "    <tr style=\"text-align: right;\">\n",
       "      <th></th>\n",
       "      <th>Weight</th>\n",
       "      <th>Prob. walking</th>\n",
       "      <th>Prob. cycling</th>\n",
       "      <th>Prob. public transport</th>\n",
       "      <th>Prob. driving</th>\n",
       "    </tr>\n",
       "  </thead>\n",
       "  <tbody>\n",
       "    <tr>\n",
       "      <th>0</th>\n",
       "      <td>0.873373</td>\n",
       "      <td>0.602341</td>\n",
       "      <td>0.027869</td>\n",
       "      <td>0.066058</td>\n",
       "      <td>0.303731</td>\n",
       "    </tr>\n",
       "    <tr>\n",
       "      <th>1</th>\n",
       "      <td>0.884074</td>\n",
       "      <td>0.014402</td>\n",
       "      <td>0.023152</td>\n",
       "      <td>0.261245</td>\n",
       "      <td>0.701202</td>\n",
       "    </tr>\n",
       "    <tr>\n",
       "      <th>2</th>\n",
       "      <td>0.873373</td>\n",
       "      <td>0.047595</td>\n",
       "      <td>0.064701</td>\n",
       "      <td>0.308853</td>\n",
       "      <td>0.578850</td>\n",
       "    </tr>\n",
       "    <tr>\n",
       "      <th>3</th>\n",
       "      <td>0.873373</td>\n",
       "      <td>0.058296</td>\n",
       "      <td>0.032773</td>\n",
       "      <td>0.139061</td>\n",
       "      <td>0.769870</td>\n",
       "    </tr>\n",
       "    <tr>\n",
       "      <th>4</th>\n",
       "      <td>0.985692</td>\n",
       "      <td>0.211380</td>\n",
       "      <td>0.064820</td>\n",
       "      <td>0.353804</td>\n",
       "      <td>0.369996</td>\n",
       "    </tr>\n",
       "    <tr>\n",
       "      <th>...</th>\n",
       "      <td>...</td>\n",
       "      <td>...</td>\n",
       "      <td>...</td>\n",
       "      <td>...</td>\n",
       "      <td>...</td>\n",
       "    </tr>\n",
       "    <tr>\n",
       "      <th>4995</th>\n",
       "      <td>0.884074</td>\n",
       "      <td>0.008484</td>\n",
       "      <td>0.025398</td>\n",
       "      <td>0.624870</td>\n",
       "      <td>0.341247</td>\n",
       "    </tr>\n",
       "    <tr>\n",
       "      <th>4996</th>\n",
       "      <td>1.178131</td>\n",
       "      <td>0.014393</td>\n",
       "      <td>0.038959</td>\n",
       "      <td>0.236167</td>\n",
       "      <td>0.710481</td>\n",
       "    </tr>\n",
       "    <tr>\n",
       "      <th>4997</th>\n",
       "      <td>0.873373</td>\n",
       "      <td>0.500434</td>\n",
       "      <td>0.029927</td>\n",
       "      <td>0.116679</td>\n",
       "      <td>0.352961</td>\n",
       "    </tr>\n",
       "    <tr>\n",
       "      <th>4998</th>\n",
       "      <td>0.985692</td>\n",
       "      <td>0.011595</td>\n",
       "      <td>0.020540</td>\n",
       "      <td>0.267151</td>\n",
       "      <td>0.700714</td>\n",
       "    </tr>\n",
       "    <tr>\n",
       "      <th>4999</th>\n",
       "      <td>1.178131</td>\n",
       "      <td>0.002113</td>\n",
       "      <td>0.013566</td>\n",
       "      <td>0.308986</td>\n",
       "      <td>0.675334</td>\n",
       "    </tr>\n",
       "  </tbody>\n",
       "</table>\n",
       "<p>5000 rows × 5 columns</p>\n",
       "</div>"
      ],
      "text/plain": [
       "        Weight  Prob. walking  Prob. cycling  Prob. public transport  \\\n",
       "0     0.873373       0.602341       0.027869                0.066058   \n",
       "1     0.884074       0.014402       0.023152                0.261245   \n",
       "2     0.873373       0.047595       0.064701                0.308853   \n",
       "3     0.873373       0.058296       0.032773                0.139061   \n",
       "4     0.985692       0.211380       0.064820                0.353804   \n",
       "...        ...            ...            ...                     ...   \n",
       "4995  0.884074       0.008484       0.025398                0.624870   \n",
       "4996  1.178131       0.014393       0.038959                0.236167   \n",
       "4997  0.873373       0.500434       0.029927                0.116679   \n",
       "4998  0.985692       0.011595       0.020540                0.267151   \n",
       "4999  1.178131       0.002113       0.013566                0.308986   \n",
       "\n",
       "      Prob. driving  \n",
       "0          0.303731  \n",
       "1          0.701202  \n",
       "2          0.578850  \n",
       "3          0.769870  \n",
       "4          0.369996  \n",
       "...             ...  \n",
       "4995       0.341247  \n",
       "4996       0.710481  \n",
       "4997       0.352961  \n",
       "4998       0.700714  \n",
       "4999       0.675334  \n",
       "\n",
       "[5000 rows x 5 columns]"
      ]
     },
     "execution_count": 68,
     "metadata": {},
     "output_type": "execute_result"
    }
   ],
   "source": [
    "simulated_values"
   ]
  },
  {
   "cell_type": "code",
   "execution_count": 69,
   "id": "dd8b4dc5",
   "metadata": {},
   "outputs": [
    {
     "name": "stdout",
     "output_type": "stream",
     "text": [
      "Market share of walking:  0.17100866022436484 \n",
      "Market share of cycling:  0.03190479632397999 \n",
      "Market share of public transport:  0.36380676271959894 \n",
      "Market share of driving:  0.43327978073205614\n",
      "0.9999999999999998\n"
     ]
    }
   ],
   "source": [
    "simulated_values['Weighted Prob. walking'] = simulated_values['Weight'] * simulated_values['Prob. walking']\n",
    "simulated_values['Weighted Prob. cycling'] = simulated_values['Weight'] * simulated_values['Prob. cycling']\n",
    "simulated_values['Weighted Prob. public transport'] = simulated_values['Weight'] * simulated_values['Prob. public transport']\n",
    "simulated_values['Weighted Prob. driving'] = simulated_values['Weight'] * simulated_values['Prob. driving']\n",
    "\n",
    "market_share_walking = simulated_values['Weighted Prob. walking'].mean()\n",
    "market_share_cycling = simulated_values['Weighted Prob. cycling'].mean()\n",
    "market_share_pt = simulated_values['Weighted Prob. public transport'].mean()\n",
    "market_share_driving = simulated_values['Weighted Prob. driving'].mean()\n",
    "\n",
    "print(\"Market share of walking: \", market_share_walking, \"\\nMarket share of cycling: \", market_share_cycling, \"\\nMarket share of public transport: \", market_share_pt, \"\\nMarket share of driving: \", market_share_driving)\n",
    "print(market_share_cycling + market_share_driving + market_share_pt + market_share_walking)"
   ]
  },
  {
   "cell_type": "code",
   "execution_count": 70,
   "id": "72028b43",
   "metadata": {},
   "outputs": [],
   "source": [
    "# biogeme_Model4_v3.bootstrap_samples = 100\n",
    "# results_bootstrap = biogeme_Model4_v3.estimate(run_bootstrap=True)\n"
   ]
  },
  {
   "cell_type": "code",
   "execution_count": 71,
   "id": "709f69cb",
   "metadata": {},
   "outputs": [],
   "source": [
    "# betas = biogeme_Model4_v3.freeBetaNames()\n",
    "# b = results_bootstrap.getBetasForSensitivityAnalysis(betas)\n",
    "# left, right = biosim.confidenceIntervals(b, 0.9)"
   ]
  },
  {
   "cell_type": "code",
   "execution_count": 72,
   "id": "040bde97",
   "metadata": {},
   "outputs": [],
   "source": [
    "# left['weighted Prob. walking'] = left['Weight'] * left['Prob. walking']\n",
    "# left['weighted Prob. cycling'] = left['Weight'] * left['Prob. cycling']\n",
    "# left['weighted Prob. public transport'] = left['Weight'] * left['Prob. public transport']\n",
    "# left['weighted Prob. driving'] = left['Weight'] * left['Prob. driving']\n",
    "\n",
    "# right['weighted Prob. walking'] = right['Weight'] * right['Prob. walking']\n",
    "# right['weighted Prob. cycling'] = right['Weight'] * right['Prob. cycling']\n",
    "# right['weighted Prob. public transport'] = right['Weight'] * right['Prob. public transport']\n",
    "# right['weighted Prob. driving'] = right['Weight'] * right['Prob. driving']\n",
    "\n",
    "# left_market_share_walking = left['weighted Prob. walking'].mean()\n",
    "# left_market_share_cycling = left['weighted Prob. cycling'].mean()\n",
    "# left_market_share_pt = left['weighted Prob. public transport'].mean()\n",
    "# left_market_share_driving = left['weighted Prob. driving'].mean()\n",
    "\n",
    "# right_market_share_walking = right['weighted Prob. walking'].mean()\n",
    "# right_market_share_cycling = right['weighted Prob. cycling'].mean()\n",
    "# right_market_share_pt = right['weighted Prob. public transport'].mean()\n",
    "# right_market_share_driving = right['weighted Prob. driving'].mean()\n",
    "\n"
   ]
  },
  {
   "cell_type": "code",
   "execution_count": 73,
   "id": "19e4a1ed",
   "metadata": {},
   "outputs": [],
   "source": [
    "# print('CI for market share of walking: [', left_market_share_walking, right_market_share_walking, ']')\n",
    "# print('CI for market share of cycling: [', left_market_share_cycling, right_market_share_cycling, ']')\n",
    "# print('CI for market share of public transport: [', left_market_share_pt, right_market_share_pt, ']')\n",
    "# print('CI for market share of driving: [', left_market_share_driving, right_market_share_driving, ']')"
   ]
  },
  {
   "attachments": {},
   "cell_type": "markdown",
   "id": "6681ba01",
   "metadata": {},
   "source": [
    "The market shares are in line with our expectetions. Car is the most used alternative, which is reasonable in a big metropolitan city like London. Public transport is the 2nd alternative and it makes sense, as it makes sense that slow modes have a minority market share, in particular the market share for cycling is quite low, but it's reasonable considering the typical weather and traffic condtion of London."
   ]
  },
  {
   "cell_type": "code",
   "execution_count": 74,
   "id": "6a122ce5",
   "metadata": {},
   "outputs": [
    {
     "data": {
      "text/plain": [
       "6       1.178131\n",
       "9       0.985692\n",
       "13      1.178131\n",
       "14      1.178131\n",
       "20      0.873373\n",
       "          ...   \n",
       "4954    0.873373\n",
       "4958    0.985692\n",
       "4960    0.985692\n",
       "4988    0.985692\n",
       "4993    0.985692\n",
       "Name: Weight, Length: 857, dtype: float64"
      ]
     },
     "execution_count": 74,
     "metadata": {},
     "output_type": "execute_result"
    }
   ],
   "source": [
    "df[df['travel_mode'] == 1]['Weight']"
   ]
  },
  {
   "cell_type": "code",
   "execution_count": 75,
   "id": "f6b2920c",
   "metadata": {},
   "outputs": [
    {
     "name": "stdout",
     "output_type": "stream",
     "text": [
      "Data market share of walking:  0.1729534942415637\n",
      "Data market share of cycling:  0.03275558060007598\n",
      "Data market share of public transport:  0.3650968121057645\n",
      "Data market share of driving:  0.4291941130525958\n"
     ]
    }
   ],
   "source": [
    "#compute market shares based on the dataset\n",
    "data_market_share_walking = df[df['travel_mode'] == 1]['Weight'].sum() / len(df)\n",
    "print(\"Data market share of walking: \", data_market_share_walking)\n",
    "data_market_share_cycling = df[df['travel_mode'] == 2]['Weight'].sum() / len(df)\n",
    "print(\"Data market share of cycling: \", data_market_share_cycling)\n",
    "data_market_share_pt = df[df['travel_mode'] == 3]['Weight'].sum() / len(df)\n",
    "print(\"Data market share of public transport: \", data_market_share_pt)\n",
    "data_market_share_driving = df[df['travel_mode'] == 4]['Weight'].sum() / len(df)\n",
    "print('Data market share of driving: ', data_market_share_driving)\n"
   ]
  },
  {
   "attachments": {},
   "cell_type": "markdown",
   "id": "8837d7ce",
   "metadata": {},
   "source": [
    "We notice how much similar the real weighted market shares are to the predicted ones."
   ]
  },
  {
   "attachments": {},
   "cell_type": "markdown",
   "id": "a78cdb66",
   "metadata": {},
   "source": [
    "# Forecasting: #"
   ]
  },
  {
   "attachments": {},
   "cell_type": "markdown",
   "id": "7c4efacb",
   "metadata": {},
   "source": [
    "### Scenario 1\n"
   ]
  },
  {
   "cell_type": "code",
   "execution_count": 76,
   "id": "4044e78f",
   "metadata": {},
   "outputs": [],
   "source": [
    "# we create a new database with the same characteristics as the original one but modifying the cost of driving according to our scenario\n",
    "df_s1 = df.copy()\n",
    "df_s1['cost_driving_ccharge'] = df_s1['cost_driving_ccharge'] + 1.5\n",
    "database_s1 = db.Database('lpmc_s1', df_s1)\n"
   ]
  },
  {
   "cell_type": "code",
   "execution_count": 77,
   "id": "8058cf8f",
   "metadata": {},
   "outputs": [],
   "source": [
    "Weight = Variable('Weight')\n",
    "prob_walking_s1 = models.cnl_avail(v_Model3, None, nests, 1)\n",
    "prob_cycling_s1 = models.cnl_avail(v_Model3, None, nests, 2)\n",
    "prob_pt_s1 = models.cnl_avail(v_Model3, None, nests, 3)\n",
    "prob_driving_s1 = models.cnl_avail(v_Model3, None, nests, 4)\n",
    "\n",
    "simulate_s1 = {\n",
    "    'Weight': Weight,\n",
    "    'Prob. walking': prob_walking_s1,\n",
    "    'Prob. cycling': prob_cycling_s1,\n",
    "    'Prob. public transport': prob_pt_s1,\n",
    "    'Prob. driving': prob_driving_s1,\n",
    "}\n",
    "\n",
    "biosim_s1 = bio.BIOGEME(database_s1, simulate_s1)\n",
    "simulated_values_s1 = biosim_s1.simulate(res_Model4_v3.getBetaValues())"
   ]
  },
  {
   "cell_type": "code",
   "execution_count": 78,
   "id": "38e55030",
   "metadata": {},
   "outputs": [
    {
     "name": "stdout",
     "output_type": "stream",
     "text": [
      "Market share of walking:  0.17100866022436484 \n",
      "Market share of cycling:  0.03190479632397999 \n",
      "Market share of public transport:  0.36380676271959894 \n",
      "Market share of driving:  0.43327978073205614\n",
      "0.9999999999999998\n"
     ]
    }
   ],
   "source": [
    "simulated_values_s1['Weighted Prob. walking'] = simulated_values_s1['Weight'] * simulated_values_s1['Prob. walking']\n",
    "simulated_values_s1['Weighted Prob. cycling'] = simulated_values_s1['Weight'] * simulated_values_s1['Prob. cycling']\n",
    "simulated_values_s1['Weighted Prob. public transport'] = simulated_values_s1['Weight'] * simulated_values_s1['Prob. public transport']\n",
    "simulated_values_s1['Weighted Prob. driving'] = simulated_values_s1['Weight'] * simulated_values_s1['Prob. driving']\n",
    "\n",
    "\n",
    "market_share_walking_s1 = simulated_values_s1['Weighted Prob. walking'].mean()\n",
    "market_share_cycling_s1 = simulated_values_s1['Weighted Prob. cycling'].mean()\n",
    "market_share_pt_s1 = simulated_values_s1['Weighted Prob. public transport'].mean()\n",
    "market_share_driving_s1 = simulated_values_s1['Weighted Prob. driving'].mean()\n",
    "\n",
    "print(\"Market share of walking: \", market_share_walking_s1, \"\\nMarket share of cycling: \", market_share_cycling_s1, \"\\nMarket share of public transport: \", market_share_pt_s1, \"\\nMarket share of driving: \", market_share_driving_s1)\n",
    "print(market_share_cycling_s1 + market_share_driving_s1 + market_share_pt_s1 + market_share_walking_s1)\n"
   ]
  },
  {
   "attachments": {},
   "cell_type": "markdown",
   "id": "875fec41",
   "metadata": {},
   "source": [
    "### Scenario 2"
   ]
  },
  {
   "cell_type": "code",
   "execution_count": 79,
   "id": "543626c9",
   "metadata": {},
   "outputs": [],
   "source": [
    "df_s2 = df.copy()\n",
    "df_s2['cost_transit'] = df_s2['cost_transit'] * 0.8\n",
    "database_s2 = db.Database('lpmc_s2', df_s2)"
   ]
  },
  {
   "cell_type": "code",
   "execution_count": 80,
   "id": "ac4225eb",
   "metadata": {},
   "outputs": [
    {
     "name": "stdout",
     "output_type": "stream",
     "text": [
      "Market share of walking:  0.17049930771890937 \n",
      "Market share of cycling:  0.0315439110278445 \n",
      "Market share of public transport:  0.37127493644825554 \n",
      "Market share of driving:  0.42668184480499055\n",
      "1.0\n"
     ]
    }
   ],
   "source": [
    "Weight = Variable('Weight')\n",
    "prob_walking_s2 = models.cnl_avail(v_Model3, None, nests, 1)\n",
    "prob_cycling_s2 = models.cnl_avail(v_Model3, None, nests, 2)\n",
    "prob_pt_s2 = models.cnl_avail(v_Model3, None, nests, 3)\n",
    "prob_driving_s2 = models.cnl_avail(v_Model3, None, nests, 4)\n",
    "\n",
    "simulate_s2 = {\n",
    "    'Weight': Weight,\n",
    "    'Prob. walking': prob_walking_s2,\n",
    "    'Prob. cycling': prob_cycling_s2,\n",
    "    'Prob. public transport': prob_pt_s2,\n",
    "    'Prob. driving': prob_driving_s2\n",
    "}\n",
    "\n",
    "biosim_s2 = bio.BIOGEME(database_s2, simulate_s2)\n",
    "simulated_values_s2 = biosim_s2.simulate(res_Model4_v3.getBetaValues())\n",
    "\n",
    "\n",
    "\n",
    "simulated_values_s2['Weighted Prob. walking'] = simulated_values_s2['Weight'] * simulated_values_s2['Prob. walking']\n",
    "simulated_values_s2['Weighted Prob. cycling'] = simulated_values_s2['Weight'] * simulated_values_s2['Prob. cycling']\n",
    "simulated_values_s2['Weighted Prob. public transport'] = simulated_values_s2['Weight'] * simulated_values_s2['Prob. public transport']\n",
    "simulated_values_s2['Weighted Prob. driving'] = simulated_values_s2['Weight'] * simulated_values_s2['Prob. driving']\n",
    "\n",
    "market_share_walking_s2 = simulated_values_s2['Weighted Prob. walking'].mean()\n",
    "market_share_cycling_s2 = simulated_values_s2['Weighted Prob. cycling'].mean()\n",
    "market_share_pt_s2 = simulated_values_s2['Weighted Prob. public transport'].mean()\n",
    "market_share_driving_s2 = simulated_values_s2['Weighted Prob. driving'].mean()\n",
    "\n",
    "print(\"Market share of walking: \", market_share_walking_s2, \"\\nMarket share of cycling: \", market_share_cycling_s2, \"\\nMarket share of public transport: \", market_share_pt_s2, \"\\nMarket share of driving: \", market_share_driving_s2)\n",
    "print(market_share_cycling_s2 + market_share_driving_s2 + market_share_pt_s2 + market_share_walking_s2)\n"
   ]
  },
  {
   "attachments": {},
   "cell_type": "markdown",
   "id": "c8f0623c",
   "metadata": {},
   "source": [
    "The market shares of both the scenarios reflect our expetations: in the first case we see a decreasing of market shares of the car due to the increasing of the cost of the car and in the second case we see an increasing in market shares of public transport due to the decreasing in the cost."
   ]
  },
  {
   "attachments": {},
   "cell_type": "markdown",
   "id": "883a79ea",
   "metadata": {},
   "source": [
    "The most effective scenario to decrease the share of car is the first one when we charge an addtional cost for the car users. This is reasonable for us since we think that somehow when an user undergoes a price increase in the choice he's currently using he is more likely to move to other alternatives rather than when the price of his alternative remains the same and another one decreases."
   ]
  },
  {
   "attachments": {},
   "cell_type": "markdown",
   "id": "90be5e79",
   "metadata": {},
   "source": [
    "### PT Revenues Scenario 1"
   ]
  },
  {
   "cell_type": "code",
   "execution_count": 81,
   "id": "b07f8a96",
   "metadata": {},
   "outputs": [],
   "source": [
    "\n",
    "Weight = Variable('Weight')\n",
    "prob_walking_s1_R = models.cnl_avail(v_Model3, None, nests, 1)\n",
    "prob_cycling_s1_R = models.cnl_avail(v_Model3, None, nests, 2)\n",
    "prob_pt_s1_R = models.cnl_avail(v_Model3, None, nests, 3)\n",
    "prob_driving_s1_R = models.cnl_avail(v_Model3, None, nests, 4)\n",
    "simulate_s1_R = {\n",
    "    'Weight': Weight,\n",
    "    'Revenue PT': prob_pt_s1 * cost_transit,\n",
    "}\n",
    "\n",
    "biosim_s1_R = bio.BIOGEME(database_s1, simulate_s1_R)\n",
    "simulated_values_s1_R = biosim_s1_R.simulate(res_Model4_v3.getBetaValues())\n",
    "\n",
    "\n"
   ]
  },
  {
   "cell_type": "code",
   "execution_count": 82,
   "id": "122bd1d6",
   "metadata": {},
   "outputs": [
    {
     "data": {
      "text/plain": [
       "3597.7302882303566"
      ]
     },
     "execution_count": 82,
     "metadata": {},
     "output_type": "execute_result"
    }
   ],
   "source": [
    "simulated_values_s1_R['Weighted Revenue PT'] = simulated_values_s1_R['Weight'] * simulated_values_s1_R['Revenue PT']\n",
    "simulated_values_s1_R['Weighted Revenue PT'].sum()"
   ]
  },
  {
   "attachments": {},
   "cell_type": "markdown",
   "id": "aa5ae634",
   "metadata": {},
   "source": [
    "### PT Revenues Scenario 2"
   ]
  },
  {
   "cell_type": "code",
   "execution_count": 83,
   "id": "7b4e7047",
   "metadata": {},
   "outputs": [],
   "source": [
    "Weight = Variable('Weight')\n",
    "prob_walking_s2_R = models.cnl_avail(v_Model3, None, nests, 1)\n",
    "prob_cycling_s2_R = models.cnl_avail(v_Model3, None, nests, 2)\n",
    "prob_pt_s2_R = models.cnl_avail(v_Model3, None, nests, 3)\n",
    "prob_driving_s2_R = models.cnl_avail(v_Model3, None, nests, 4)\n",
    "simulate_s2_R = {\n",
    "    'Weight': Weight,\n",
    "    'Revenue PT': prob_pt_s2 * cost_transit ,\n",
    "}\n",
    "\n",
    "biosim_s2_R = bio.BIOGEME(database_s2, simulate_s2_R)\n",
    "simulated_values_s2_R = biosim_s2_R.simulate(res_Model4_v3.getBetaValues())\n",
    "\n"
   ]
  },
  {
   "cell_type": "code",
   "execution_count": 84,
   "id": "1440596d",
   "metadata": {},
   "outputs": [
    {
     "data": {
      "text/plain": [
       "2965.0626717256237"
      ]
     },
     "execution_count": 84,
     "metadata": {},
     "output_type": "execute_result"
    }
   ],
   "source": [
    "simulated_values_s2_R['Weighted Revenue PT'] = simulated_values_s2_R['Weight'] * simulated_values_s2_R['Revenue PT']\n",
    "simulated_values_s2_R['Weighted Revenue PT'].sum()"
   ]
  },
  {
   "attachments": {},
   "cell_type": "markdown",
   "id": "e314d59e",
   "metadata": {},
   "source": [
    "### PT Revenues base scenario"
   ]
  },
  {
   "cell_type": "code",
   "execution_count": 85,
   "id": "4dd44d8f",
   "metadata": {},
   "outputs": [],
   "source": [
    "Weight = Variable('Weight')\n",
    "prob_walking_R = models.cnl_avail(v_Model3, None, nests, 1)\n",
    "prob_cycling_R = models.cnl_avail(v_Model3, None, nests, 2)\n",
    "prob_pt_R = models.cnl_avail(v_Model3, None, nests, 3)\n",
    "prob_driving_R = models.cnl_avail(v_Model3, None, nests, 4)\n",
    "simulate_R = {\n",
    "    'Weight': Weight,\n",
    "    'Revenue PT': prob_pt_R * cost_transit,\n",
    "}\n",
    "\n",
    "biosim_R = bio.BIOGEME(database_weight, simulate_R)\n",
    "simulated_values_R = biosim_R.simulate(res_Model4_v3.getBetaValues())\n"
   ]
  },
  {
   "cell_type": "code",
   "execution_count": 86,
   "id": "0d3c635f",
   "metadata": {},
   "outputs": [
    {
     "data": {
      "text/plain": [
       "3597.7302882303566"
      ]
     },
     "execution_count": 86,
     "metadata": {},
     "output_type": "execute_result"
    }
   ],
   "source": [
    "simulated_values_R['Weighted Revenue PT'] = simulated_values_R['Weight'] * simulated_values_R['Revenue PT']\n",
    "simulated_values_R['Weighted Revenue PT'].sum()"
   ]
  },
  {
   "attachments": {},
   "cell_type": "markdown",
   "id": "c963bb0b",
   "metadata": {},
   "source": [
    "The scenario that maximizes the PT total revenue is scenario 1. This is due to the fact that this scenario increases the market shares of around 3% without modifying PT cost. On the other hand the second scenario increases the market shares of PT of a really low percentage and it moreover decreases the price, so a minor revenue is inevitable. Scenario 1 also outperforms the base case since as we said we have an increase of the market shares without a modification of the price."
   ]
  },
  {
   "attachments": {},
   "cell_type": "markdown",
   "id": "10f676d8",
   "metadata": {},
   "source": [
    "## Value of time"
   ]
  },
  {
   "attachments": {},
   "cell_type": "markdown",
   "id": "83470d3d",
   "metadata": {},
   "source": [
    "### Car"
   ]
  },
  {
   "cell_type": "code",
   "execution_count": 87,
   "id": "32dcf6ea",
   "metadata": {},
   "outputs": [
    {
     "data": {
      "text/plain": [
       "87.05656409223022"
      ]
     },
     "execution_count": 87,
     "metadata": {},
     "output_type": "execute_result"
    }
   ],
   "source": [
    "btd = res_Model4_v3.getBetaValues()['beta_time_driving']\n",
    "bc = res_Model4_v3.getBetaValues()['beta_cost']\n",
    "lambda_boxcox_driving = res_Model4_v3.getBetaValues()['lambda_boxcox_driving']\n",
    "\n",
    "VOT_car = ( btd / bc * (df['dur_driving'] ** (lambda_boxcox_driving - 1))).mean()\n",
    "VOT_car"
   ]
  },
  {
   "cell_type": "code",
   "execution_count": 88,
   "id": "e7089560",
   "metadata": {},
   "outputs": [
    {
     "data": {
      "text/plain": [
       "32.789617176319766"
      ]
     },
     "execution_count": 88,
     "metadata": {},
     "output_type": "execute_result"
    }
   ],
   "source": [
    "btpt = res_Model4_v3.getBetaValues()['beta_time_pt']\n",
    "lambda_boxcox_pt = res_Model4_v3.getBetaValues()['lambda_boxcox_pt']\n",
    "dur_pt = df['dur_pt_access'] + df['dur_pt_rail'] + df['dur_pt_bus'] + df['dur_pt_int']\n",
    "\n",
    "VOT_pt = ( btpt / bc * (dur_pt ** (lambda_boxcox_pt - 1))).mean()\n",
    "VOT_pt"
   ]
  },
  {
   "cell_type": "code",
   "execution_count": 89,
   "id": "4cd11cb4",
   "metadata": {},
   "outputs": [],
   "source": [
    "from biogeme.expressions import Derive"
   ]
  },
  {
   "cell_type": "code",
   "execution_count": 92,
   "id": "8e72725a",
   "metadata": {},
   "outputs": [],
   "source": [
    "direct_elas_driving_cost = Derive(prob_driving, 'cost_driving') * cost_driving / prob_driving\n",
    "direct_elas_pt_cost = Derive(prob_pt, 'cost_transit') * cost_transit / prob_pt\n",
    "cross_elas_pt_carcost = Derive(prob_pt, 'cost_driving') * cost_driving / prob_pt\n",
    "cross_elas_cycling_carcost = Derive(prob_cycling, 'cost_driving') * cost_driving / prob_cycling\n",
    "cross_elas_walking_carcost = Derive(prob_walking, 'cost_driving') * cost_driving / prob_walking\n",
    "cross_elas_car_ptcost = Derive(prob_driving, 'cost_transit') * cost_transit / prob_driving\n",
    "cross_elas_cycling_ptcost = Derive(prob_cycling, 'cost_transit') * cost_transit / prob_cycling\n",
    "cross_elas_walking_ptcost = Derive(prob_walking, 'cost_transit') * cost_transit / prob_walking"
   ]
  },
  {
   "cell_type": "code",
   "execution_count": 93,
   "id": "3d32104b",
   "metadata": {},
   "outputs": [],
   "source": [
    "simulate_elas = {\n",
    "    'Weight': Weight,\n",
    "    'Direct elasticity driving cost': direct_elas_driving_cost,\n",
    "    'Direct elasticity PT cost': direct_elas_pt_cost,\n",
    "    'Cross elasticity PT car cost': cross_elas_pt_carcost,\n",
    "    'Cross elasticity cycling car cost': cross_elas_cycling_carcost,\n",
    "    'Cross elasticity walking car cost': cross_elas_walking_carcost,\n",
    "    'Cross elasticity car PT cost': cross_elas_car_ptcost,\n",
    "    'Cross elasticity cycling PT cost': cross_elas_cycling_ptcost,\n",
    "    'Cross elasticity walking PT cost': cross_elas_walking_ptcost,\n",
    "    'prob public transport': prob_pt,\n",
    "    'prob cycling': prob_cycling,\n",
    "    'prob walking': prob_walking,\n",
    "    'prob driving': prob_driving\n",
    "}"
   ]
  },
  {
   "cell_type": "code",
   "execution_count": 94,
   "id": "2eec309c",
   "metadata": {},
   "outputs": [],
   "source": [
    "biosim_elas = bio.BIOGEME(database_weight, simulate_elas)\n",
    "simulated_values_elas = biosim_elas.simulate(res_Model4_v3.getBetaValues())\n"
   ]
  },
  {
   "cell_type": "code",
   "execution_count": 95,
   "id": "a172cfda",
   "metadata": {},
   "outputs": [
    {
     "data": {
      "text/html": [
       "<div>\n",
       "<style scoped>\n",
       "    .dataframe tbody tr th:only-of-type {\n",
       "        vertical-align: middle;\n",
       "    }\n",
       "\n",
       "    .dataframe tbody tr th {\n",
       "        vertical-align: top;\n",
       "    }\n",
       "\n",
       "    .dataframe thead th {\n",
       "        text-align: right;\n",
       "    }\n",
       "</style>\n",
       "<table border=\"1\" class=\"dataframe\">\n",
       "  <thead>\n",
       "    <tr style=\"text-align: right;\">\n",
       "      <th></th>\n",
       "      <th>Weight</th>\n",
       "      <th>Direct elasticity driving cost</th>\n",
       "      <th>Direct elasticity PT cost</th>\n",
       "      <th>Cross elasticity PT car cost</th>\n",
       "      <th>Cross elasticity cycling car cost</th>\n",
       "      <th>Cross elasticity walking car cost</th>\n",
       "      <th>Cross elasticity car PT cost</th>\n",
       "      <th>Cross elasticity cycling PT cost</th>\n",
       "      <th>Cross elasticity walking PT cost</th>\n",
       "      <th>prob public transport</th>\n",
       "      <th>prob cycling</th>\n",
       "      <th>prob walking</th>\n",
       "      <th>prob driving</th>\n",
       "    </tr>\n",
       "  </thead>\n",
       "  <tbody>\n",
       "    <tr>\n",
       "      <th>0</th>\n",
       "      <td>0.873373</td>\n",
       "      <td>-0.013180</td>\n",
       "      <td>-0.243357</td>\n",
       "      <td>0.015746</td>\n",
       "      <td>0.004701</td>\n",
       "      <td>0.004701</td>\n",
       "      <td>0.034247</td>\n",
       "      <td>0.009003</td>\n",
       "      <td>0.009003</td>\n",
       "      <td>0.066058</td>\n",
       "      <td>0.027869</td>\n",
       "      <td>0.602341</td>\n",
       "      <td>0.303731</td>\n",
       "    </tr>\n",
       "    <tr>\n",
       "      <th>1</th>\n",
       "      <td>0.884074</td>\n",
       "      <td>-0.024634</td>\n",
       "      <td>0.000000</td>\n",
       "      <td>0.060269</td>\n",
       "      <td>0.040692</td>\n",
       "      <td>0.040692</td>\n",
       "      <td>0.000000</td>\n",
       "      <td>0.000000</td>\n",
       "      <td>0.000000</td>\n",
       "      <td>0.261245</td>\n",
       "      <td>0.023152</td>\n",
       "      <td>0.014402</td>\n",
       "      <td>0.701202</td>\n",
       "    </tr>\n",
       "    <tr>\n",
       "      <th>2</th>\n",
       "      <td>0.873373</td>\n",
       "      <td>-0.036585</td>\n",
       "      <td>0.000000</td>\n",
       "      <td>0.054864</td>\n",
       "      <td>0.037690</td>\n",
       "      <td>0.037690</td>\n",
       "      <td>0.000000</td>\n",
       "      <td>0.000000</td>\n",
       "      <td>0.000000</td>\n",
       "      <td>0.308853</td>\n",
       "      <td>0.064701</td>\n",
       "      <td>0.047595</td>\n",
       "      <td>0.578850</td>\n",
       "    </tr>\n",
       "    <tr>\n",
       "      <th>3</th>\n",
       "      <td>0.873373</td>\n",
       "      <td>-0.015171</td>\n",
       "      <td>0.000000</td>\n",
       "      <td>0.060942</td>\n",
       "      <td>0.035192</td>\n",
       "      <td>0.035192</td>\n",
       "      <td>0.000000</td>\n",
       "      <td>0.000000</td>\n",
       "      <td>0.000000</td>\n",
       "      <td>0.139061</td>\n",
       "      <td>0.032773</td>\n",
       "      <td>0.058296</td>\n",
       "      <td>0.769870</td>\n",
       "    </tr>\n",
       "    <tr>\n",
       "      <th>4</th>\n",
       "      <td>0.985692</td>\n",
       "      <td>-0.043789</td>\n",
       "      <td>0.000000</td>\n",
       "      <td>0.029785</td>\n",
       "      <td>0.020506</td>\n",
       "      <td>0.020506</td>\n",
       "      <td>0.000000</td>\n",
       "      <td>0.000000</td>\n",
       "      <td>0.000000</td>\n",
       "      <td>0.353804</td>\n",
       "      <td>0.064820</td>\n",
       "      <td>0.211380</td>\n",
       "      <td>0.369996</td>\n",
       "    </tr>\n",
       "    <tr>\n",
       "      <th>...</th>\n",
       "      <td>...</td>\n",
       "      <td>...</td>\n",
       "      <td>...</td>\n",
       "      <td>...</td>\n",
       "      <td>...</td>\n",
       "      <td>...</td>\n",
       "      <td>...</td>\n",
       "      <td>...</td>\n",
       "      <td>...</td>\n",
       "      <td>...</td>\n",
       "      <td>...</td>\n",
       "      <td>...</td>\n",
       "      <td>...</td>\n",
       "    </tr>\n",
       "    <tr>\n",
       "      <th>4995</th>\n",
       "      <td>0.884074</td>\n",
       "      <td>-0.080832</td>\n",
       "      <td>-0.109237</td>\n",
       "      <td>0.041588</td>\n",
       "      <td>0.047120</td>\n",
       "      <td>0.047120</td>\n",
       "      <td>0.186499</td>\n",
       "      <td>0.136265</td>\n",
       "      <td>0.136265</td>\n",
       "      <td>0.624870</td>\n",
       "      <td>0.025398</td>\n",
       "      <td>0.008484</td>\n",
       "      <td>0.341247</td>\n",
       "    </tr>\n",
       "    <tr>\n",
       "      <th>4996</th>\n",
       "      <td>1.178131</td>\n",
       "      <td>-0.040599</td>\n",
       "      <td>0.000000</td>\n",
       "      <td>0.106460</td>\n",
       "      <td>0.069394</td>\n",
       "      <td>0.069394</td>\n",
       "      <td>0.000000</td>\n",
       "      <td>0.000000</td>\n",
       "      <td>0.000000</td>\n",
       "      <td>0.236167</td>\n",
       "      <td>0.038959</td>\n",
       "      <td>0.014393</td>\n",
       "      <td>0.710481</td>\n",
       "    </tr>\n",
       "    <tr>\n",
       "      <th>4997</th>\n",
       "      <td>0.873373</td>\n",
       "      <td>-0.014928</td>\n",
       "      <td>0.000000</td>\n",
       "      <td>0.016449</td>\n",
       "      <td>0.006316</td>\n",
       "      <td>0.006316</td>\n",
       "      <td>0.000000</td>\n",
       "      <td>0.000000</td>\n",
       "      <td>0.000000</td>\n",
       "      <td>0.116679</td>\n",
       "      <td>0.029927</td>\n",
       "      <td>0.500434</td>\n",
       "      <td>0.352961</td>\n",
       "    </tr>\n",
       "    <tr>\n",
       "      <th>4998</th>\n",
       "      <td>0.985692</td>\n",
       "      <td>-0.030116</td>\n",
       "      <td>-0.183906</td>\n",
       "      <td>0.073007</td>\n",
       "      <td>0.049746</td>\n",
       "      <td>0.049746</td>\n",
       "      <td>0.068445</td>\n",
       "      <td>0.036411</td>\n",
       "      <td>0.036411</td>\n",
       "      <td>0.267151</td>\n",
       "      <td>0.020540</td>\n",
       "      <td>0.011595</td>\n",
       "      <td>0.700714</td>\n",
       "    </tr>\n",
       "    <tr>\n",
       "      <th>4999</th>\n",
       "      <td>1.178131</td>\n",
       "      <td>-0.046361</td>\n",
       "      <td>-0.168773</td>\n",
       "      <td>0.097760</td>\n",
       "      <td>0.070312</td>\n",
       "      <td>0.070312</td>\n",
       "      <td>0.076241</td>\n",
       "      <td>0.042113</td>\n",
       "      <td>0.042113</td>\n",
       "      <td>0.308986</td>\n",
       "      <td>0.013566</td>\n",
       "      <td>0.002113</td>\n",
       "      <td>0.675334</td>\n",
       "    </tr>\n",
       "  </tbody>\n",
       "</table>\n",
       "<p>5000 rows × 13 columns</p>\n",
       "</div>"
      ],
      "text/plain": [
       "        Weight  Direct elasticity driving cost  Direct elasticity PT cost  \\\n",
       "0     0.873373                       -0.013180                  -0.243357   \n",
       "1     0.884074                       -0.024634                   0.000000   \n",
       "2     0.873373                       -0.036585                   0.000000   \n",
       "3     0.873373                       -0.015171                   0.000000   \n",
       "4     0.985692                       -0.043789                   0.000000   \n",
       "...        ...                             ...                        ...   \n",
       "4995  0.884074                       -0.080832                  -0.109237   \n",
       "4996  1.178131                       -0.040599                   0.000000   \n",
       "4997  0.873373                       -0.014928                   0.000000   \n",
       "4998  0.985692                       -0.030116                  -0.183906   \n",
       "4999  1.178131                       -0.046361                  -0.168773   \n",
       "\n",
       "      Cross elasticity PT car cost  Cross elasticity cycling car cost  \\\n",
       "0                         0.015746                           0.004701   \n",
       "1                         0.060269                           0.040692   \n",
       "2                         0.054864                           0.037690   \n",
       "3                         0.060942                           0.035192   \n",
       "4                         0.029785                           0.020506   \n",
       "...                            ...                                ...   \n",
       "4995                      0.041588                           0.047120   \n",
       "4996                      0.106460                           0.069394   \n",
       "4997                      0.016449                           0.006316   \n",
       "4998                      0.073007                           0.049746   \n",
       "4999                      0.097760                           0.070312   \n",
       "\n",
       "      Cross elasticity walking car cost  Cross elasticity car PT cost  \\\n",
       "0                              0.004701                      0.034247   \n",
       "1                              0.040692                      0.000000   \n",
       "2                              0.037690                      0.000000   \n",
       "3                              0.035192                      0.000000   \n",
       "4                              0.020506                      0.000000   \n",
       "...                                 ...                           ...   \n",
       "4995                           0.047120                      0.186499   \n",
       "4996                           0.069394                      0.000000   \n",
       "4997                           0.006316                      0.000000   \n",
       "4998                           0.049746                      0.068445   \n",
       "4999                           0.070312                      0.076241   \n",
       "\n",
       "      Cross elasticity cycling PT cost  Cross elasticity walking PT cost  \\\n",
       "0                             0.009003                          0.009003   \n",
       "1                             0.000000                          0.000000   \n",
       "2                             0.000000                          0.000000   \n",
       "3                             0.000000                          0.000000   \n",
       "4                             0.000000                          0.000000   \n",
       "...                                ...                               ...   \n",
       "4995                          0.136265                          0.136265   \n",
       "4996                          0.000000                          0.000000   \n",
       "4997                          0.000000                          0.000000   \n",
       "4998                          0.036411                          0.036411   \n",
       "4999                          0.042113                          0.042113   \n",
       "\n",
       "      prob public transport  prob cycling  prob walking  prob driving  \n",
       "0                  0.066058      0.027869      0.602341      0.303731  \n",
       "1                  0.261245      0.023152      0.014402      0.701202  \n",
       "2                  0.308853      0.064701      0.047595      0.578850  \n",
       "3                  0.139061      0.032773      0.058296      0.769870  \n",
       "4                  0.353804      0.064820      0.211380      0.369996  \n",
       "...                     ...           ...           ...           ...  \n",
       "4995               0.624870      0.025398      0.008484      0.341247  \n",
       "4996               0.236167      0.038959      0.014393      0.710481  \n",
       "4997               0.116679      0.029927      0.500434      0.352961  \n",
       "4998               0.267151      0.020540      0.011595      0.700714  \n",
       "4999               0.308986      0.013566      0.002113      0.675334  \n",
       "\n",
       "[5000 rows x 13 columns]"
      ]
     },
     "execution_count": 95,
     "metadata": {},
     "output_type": "execute_result"
    }
   ],
   "source": [
    "simulated_values_elas"
   ]
  },
  {
   "cell_type": "code",
   "execution_count": 96,
   "id": "b2a33a78",
   "metadata": {},
   "outputs": [],
   "source": [
    "simulated_values_elas['Numerator direct elasticity driving cost'] = simulated_values_elas['Weight'] * simulated_values_elas['Direct elasticity driving cost'] * simulated_values_elas['prob driving']\n",
    "simulated_values_elas['Numerator direct elasticity PT cost'] = simulated_values_elas['Weight'] * simulated_values_elas['Direct elasticity PT cost'] * simulated_values_elas['prob public transport']\n",
    "simulated_values_elas['Numerator cross elasticity PT car cost'] = simulated_values_elas['Weight'] * simulated_values_elas['Cross elasticity PT car cost'] * simulated_values_elas['prob public transport']\n",
    "simulated_values_elas['Numerator cross elasticity cycling car cost'] = simulated_values_elas['Weight'] * simulated_values_elas['Cross elasticity cycling car cost'] * simulated_values_elas['prob cycling']\n",
    "simulated_values_elas['Numerator cross elasticity walking car cost'] = simulated_values_elas['Weight'] * simulated_values_elas['Cross elasticity walking car cost'] * simulated_values_elas['prob walking']\n",
    "simulated_values_elas['Numerator cross elasticity car PT cost'] = simulated_values_elas['Weight'] * simulated_values_elas['Cross elasticity car PT cost'] * simulated_values_elas['prob driving']\n",
    "simulated_values_elas['Numerator cross elasticity cycling PT cost'] = simulated_values_elas['Weight'] * simulated_values_elas['Cross elasticity cycling PT cost'] * simulated_values_elas['prob cycling']\n",
    "simulated_values_elas['Numerator cross elasticity walking PT cost'] = simulated_values_elas['Weight'] * simulated_values_elas['Cross elasticity walking PT cost'] * simulated_values_elas['prob walking']\n"
   ]
  },
  {
   "cell_type": "code",
   "execution_count": 97,
   "id": "e65f85c4",
   "metadata": {},
   "outputs": [],
   "source": [
    "simulated_values_elas['Denominator Driving'] = simulated_values_elas['Weight'] * simulated_values_elas['prob driving']\n",
    "simulated_values_elas['Denominator PT'] = simulated_values_elas['Weight'] * simulated_values_elas['prob public transport']\n",
    "simulated_values_elas['Denominator cycling'] = simulated_values_elas['Weight'] * simulated_values_elas['prob cycling']\n",
    "simulated_values_elas['Denominator walking'] = simulated_values_elas['Weight'] * simulated_values_elas['prob walking']"
   ]
  },
  {
   "cell_type": "code",
   "execution_count": 98,
   "id": "a7571029",
   "metadata": {},
   "outputs": [],
   "source": [
    "aggregate_direct_elasticity_driving_cost = simulated_values_elas['Numerator direct elasticity driving cost'].sum() / simulated_values_elas['Denominator Driving'].sum()\n",
    "aggregate_direct_elasticity_PT_cost = simulated_values_elas['Numerator direct elasticity PT cost'].sum() / simulated_values_elas['Denominator PT'].sum()\n",
    "aggregate_cross_elasticity_PT_carcost = simulated_values_elas['Numerator cross elasticity PT car cost'].sum() / simulated_values_elas['Denominator PT'].sum()\n",
    "aggregate_cross_elasticity_cycling_carcost = simulated_values_elas['Numerator cross elasticity cycling car cost'].sum() / simulated_values_elas['Denominator cycling'].sum()\n",
    "aggregate_cross_elasticity_walking_carcost = simulated_values_elas['Numerator cross elasticity walking car cost'].sum() / simulated_values_elas['Denominator walking'].sum()\n",
    "aggregate_cross_elasticity_car_PTcost = simulated_values_elas['Numerator cross elasticity car PT cost'].sum() / simulated_values_elas['Denominator Driving'].sum()\n",
    "aggregate_cross_elasticity_cycling_PTcost = simulated_values_elas['Numerator cross elasticity cycling PT cost'].sum() / simulated_values_elas['Denominator cycling'].sum()\n",
    "aggregate_cross_elasticity_walking_PTcost = simulated_values_elas['Numerator cross elasticity walking PT cost'].sum() / simulated_values_elas['Denominator walking'].sum()\n"
   ]
  },
  {
   "cell_type": "code",
   "execution_count": 101,
   "id": "6daa6ff4",
   "metadata": {},
   "outputs": [
    {
     "name": "stdout",
     "output_type": "stream",
     "text": [
      "Aggregate direct elasticity driving cost:  -7.564341691012941 % \n",
      "Aggregate direct elasticity PT cost:  -10.271191102168547 % \n",
      "Aggregate cross elasticity PT car cost:  7.708057590278577 % \n",
      "Aggregate cross elasticity cycling car cost:  6.287811186230788 % \n",
      "Aggregate cross elasticity walking car cost:  1.5941970126596983 % \n",
      "Aggregate cross elasticity car PT cost:  7.625601765264518 % \n",
      "Aggregate cross elasticity cycling PT cost:  5.681467868816529 % \n",
      "Aggregate cross elasticity walking PT cost:  1.4703562254962637 %\n"
     ]
    }
   ],
   "source": [
    "print(\n",
    "    'Aggregate direct elasticity driving cost: ', aggregate_direct_elasticity_driving_cost*100 , '%',\n",
    "    '\\nAggregate direct elasticity PT cost: ', aggregate_direct_elasticity_PT_cost*100,'%',\n",
    "    '\\nAggregate cross elasticity PT car cost: ', aggregate_cross_elasticity_PT_carcost *100, '%',\n",
    "    '\\nAggregate cross elasticity cycling car cost: ', aggregate_cross_elasticity_cycling_carcost*100, '%',\n",
    "    '\\nAggregate cross elasticity walking car cost: ', aggregate_cross_elasticity_walking_carcost*100, '%',\n",
    "    '\\nAggregate cross elasticity car PT cost: ', aggregate_cross_elasticity_car_PTcost*100, '%',\n",
    "    '\\nAggregate cross elasticity cycling PT cost: ', aggregate_cross_elasticity_cycling_PTcost*100, '%',\n",
    "    '\\nAggregate cross elasticity walking PT cost: ', aggregate_cross_elasticity_walking_PTcost*100, '%'\n",
    ")"
   ]
  },
  {
   "cell_type": "markdown",
   "id": "9473d6a3",
   "metadata": {},
   "source": []
  }
 ],
 "metadata": {
  "kernelspec": {
   "display_name": "Python3",
   "language": "python",
   "name": "python3"
  },
  "language_info": {
   "codemirror_mode": {
    "name": "ipython",
    "version": 3
   },
   "file_extension": ".py",
   "mimetype": "text/x-python",
   "name": "python",
   "nbconvert_exporter": "python",
   "pygments_lexer": "ipython3",
   "version": "3.10.9"
  }
 },
 "nbformat": 4,
 "nbformat_minor": 5
}
