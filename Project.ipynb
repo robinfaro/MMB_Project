{
 "cells": [
  {
   "cell_type": "markdown",
   "id": "f2135566-ce0d-474b-a8f5-0f44d3286f9b",
   "metadata": {},
   "source": [
    "# PROJECT:"
   ]
  },
  {
   "cell_type": "code",
   "execution_count": 1,
   "id": "51b24542-28a3-45f2-a657-f8a1e515bc7f",
   "metadata": {
    "tags": []
   },
   "outputs": [],
   "source": [
    "import pandas as pd\n",
    "import biogeme.database as db\n",
    "import biogeme.biogeme as bio\n",
    "from biogeme.expressions import Beta, Variable\n",
    "from biogeme import models\n",
    "from biogeme import results as res"
   ]
  },
  {
   "cell_type": "code",
   "execution_count": 2,
   "id": "8c3bc098-5d11-4b19-8a4f-318cd4c7332d",
   "metadata": {
    "tags": []
   },
   "outputs": [
    {
     "data": {
      "text/html": [
       "<div>\n",
       "<style scoped>\n",
       "    .dataframe tbody tr th:only-of-type {\n",
       "        vertical-align: middle;\n",
       "    }\n",
       "\n",
       "    .dataframe tbody tr th {\n",
       "        vertical-align: top;\n",
       "    }\n",
       "\n",
       "    .dataframe thead th {\n",
       "        text-align: right;\n",
       "    }\n",
       "</style>\n",
       "<table border=\"1\" class=\"dataframe\">\n",
       "  <thead>\n",
       "    <tr style=\"text-align: right;\">\n",
       "      <th></th>\n",
       "      <th>trip_id</th>\n",
       "      <th>household_id</th>\n",
       "      <th>person_n</th>\n",
       "      <th>trip_n</th>\n",
       "      <th>travel_mode</th>\n",
       "      <th>purpose</th>\n",
       "      <th>fueltype</th>\n",
       "      <th>faretype</th>\n",
       "      <th>bus_scale</th>\n",
       "      <th>survey_year</th>\n",
       "      <th>...</th>\n",
       "      <th>dur_pt_access</th>\n",
       "      <th>dur_pt_rail</th>\n",
       "      <th>dur_pt_bus</th>\n",
       "      <th>dur_pt_int</th>\n",
       "      <th>pt_interchanges</th>\n",
       "      <th>dur_driving</th>\n",
       "      <th>cost_transit</th>\n",
       "      <th>cost_driving_fuel</th>\n",
       "      <th>cost_driving_ccharge</th>\n",
       "      <th>driving_traffic_percent</th>\n",
       "    </tr>\n",
       "  </thead>\n",
       "  <tbody>\n",
       "    <tr>\n",
       "      <th>0</th>\n",
       "      <td>1</td>\n",
       "      <td>0</td>\n",
       "      <td>0</td>\n",
       "      <td>1</td>\n",
       "      <td>4</td>\n",
       "      <td>3</td>\n",
       "      <td>1</td>\n",
       "      <td>1</td>\n",
       "      <td>1.0</td>\n",
       "      <td>1</td>\n",
       "      <td>...</td>\n",
       "      <td>0.109444</td>\n",
       "      <td>0.000000</td>\n",
       "      <td>0.055556</td>\n",
       "      <td>0.000000</td>\n",
       "      <td>0</td>\n",
       "      <td>0.059444</td>\n",
       "      <td>1.5</td>\n",
       "      <td>0.15</td>\n",
       "      <td>0.0</td>\n",
       "      <td>0.112150</td>\n",
       "    </tr>\n",
       "    <tr>\n",
       "      <th>1</th>\n",
       "      <td>13</td>\n",
       "      <td>1</td>\n",
       "      <td>1</td>\n",
       "      <td>1</td>\n",
       "      <td>4</td>\n",
       "      <td>3</td>\n",
       "      <td>1</td>\n",
       "      <td>5</td>\n",
       "      <td>0.0</td>\n",
       "      <td>1</td>\n",
       "      <td>...</td>\n",
       "      <td>0.241389</td>\n",
       "      <td>0.000000</td>\n",
       "      <td>0.122222</td>\n",
       "      <td>0.000000</td>\n",
       "      <td>0</td>\n",
       "      <td>0.132222</td>\n",
       "      <td>0.0</td>\n",
       "      <td>0.50</td>\n",
       "      <td>0.0</td>\n",
       "      <td>0.065126</td>\n",
       "    </tr>\n",
       "    <tr>\n",
       "      <th>2</th>\n",
       "      <td>19</td>\n",
       "      <td>4</td>\n",
       "      <td>0</td>\n",
       "      <td>1</td>\n",
       "      <td>3</td>\n",
       "      <td>3</td>\n",
       "      <td>6</td>\n",
       "      <td>5</td>\n",
       "      <td>0.0</td>\n",
       "      <td>1</td>\n",
       "      <td>...</td>\n",
       "      <td>0.222500</td>\n",
       "      <td>0.000000</td>\n",
       "      <td>0.312222</td>\n",
       "      <td>0.000000</td>\n",
       "      <td>0</td>\n",
       "      <td>0.221667</td>\n",
       "      <td>0.0</td>\n",
       "      <td>0.56</td>\n",
       "      <td>0.0</td>\n",
       "      <td>0.086466</td>\n",
       "    </tr>\n",
       "    <tr>\n",
       "      <th>3</th>\n",
       "      <td>20</td>\n",
       "      <td>5</td>\n",
       "      <td>1</td>\n",
       "      <td>0</td>\n",
       "      <td>4</td>\n",
       "      <td>3</td>\n",
       "      <td>1</td>\n",
       "      <td>5</td>\n",
       "      <td>0.0</td>\n",
       "      <td>1</td>\n",
       "      <td>...</td>\n",
       "      <td>0.381667</td>\n",
       "      <td>0.000000</td>\n",
       "      <td>0.062222</td>\n",
       "      <td>0.000000</td>\n",
       "      <td>0</td>\n",
       "      <td>0.117222</td>\n",
       "      <td>0.0</td>\n",
       "      <td>0.41</td>\n",
       "      <td>0.0</td>\n",
       "      <td>0.097156</td>\n",
       "    </tr>\n",
       "    <tr>\n",
       "      <th>4</th>\n",
       "      <td>39</td>\n",
       "      <td>9</td>\n",
       "      <td>2</td>\n",
       "      <td>0</td>\n",
       "      <td>4</td>\n",
       "      <td>3</td>\n",
       "      <td>1</td>\n",
       "      <td>5</td>\n",
       "      <td>0.0</td>\n",
       "      <td>1</td>\n",
       "      <td>...</td>\n",
       "      <td>0.146944</td>\n",
       "      <td>0.000000</td>\n",
       "      <td>0.225000</td>\n",
       "      <td>0.000000</td>\n",
       "      <td>0</td>\n",
       "      <td>0.200833</td>\n",
       "      <td>0.0</td>\n",
       "      <td>0.48</td>\n",
       "      <td>0.0</td>\n",
       "      <td>0.378976</td>\n",
       "    </tr>\n",
       "    <tr>\n",
       "      <th>...</th>\n",
       "      <td>...</td>\n",
       "      <td>...</td>\n",
       "      <td>...</td>\n",
       "      <td>...</td>\n",
       "      <td>...</td>\n",
       "      <td>...</td>\n",
       "      <td>...</td>\n",
       "      <td>...</td>\n",
       "      <td>...</td>\n",
       "      <td>...</td>\n",
       "      <td>...</td>\n",
       "      <td>...</td>\n",
       "      <td>...</td>\n",
       "      <td>...</td>\n",
       "      <td>...</td>\n",
       "      <td>...</td>\n",
       "      <td>...</td>\n",
       "      <td>...</td>\n",
       "      <td>...</td>\n",
       "      <td>...</td>\n",
       "      <td>...</td>\n",
       "    </tr>\n",
       "    <tr>\n",
       "      <th>4995</th>\n",
       "      <td>81035</td>\n",
       "      <td>17603</td>\n",
       "      <td>1</td>\n",
       "      <td>1</td>\n",
       "      <td>3</td>\n",
       "      <td>1</td>\n",
       "      <td>1</td>\n",
       "      <td>1</td>\n",
       "      <td>1.0</td>\n",
       "      <td>3</td>\n",
       "      <td>...</td>\n",
       "      <td>0.278056</td>\n",
       "      <td>0.216667</td>\n",
       "      <td>0.000000</td>\n",
       "      <td>0.000000</td>\n",
       "      <td>0</td>\n",
       "      <td>0.392222</td>\n",
       "      <td>2.4</td>\n",
       "      <td>0.98</td>\n",
       "      <td>0.0</td>\n",
       "      <td>0.547450</td>\n",
       "    </tr>\n",
       "    <tr>\n",
       "      <th>4996</th>\n",
       "      <td>81040</td>\n",
       "      <td>17604</td>\n",
       "      <td>2</td>\n",
       "      <td>0</td>\n",
       "      <td>3</td>\n",
       "      <td>1</td>\n",
       "      <td>1</td>\n",
       "      <td>2</td>\n",
       "      <td>0.0</td>\n",
       "      <td>3</td>\n",
       "      <td>...</td>\n",
       "      <td>0.264444</td>\n",
       "      <td>0.000000</td>\n",
       "      <td>0.353333</td>\n",
       "      <td>0.176667</td>\n",
       "      <td>1</td>\n",
       "      <td>0.288889</td>\n",
       "      <td>0.0</td>\n",
       "      <td>0.85</td>\n",
       "      <td>0.0</td>\n",
       "      <td>0.175000</td>\n",
       "    </tr>\n",
       "    <tr>\n",
       "      <th>4997</th>\n",
       "      <td>81045</td>\n",
       "      <td>17605</td>\n",
       "      <td>0</td>\n",
       "      <td>1</td>\n",
       "      <td>4</td>\n",
       "      <td>3</td>\n",
       "      <td>1</td>\n",
       "      <td>5</td>\n",
       "      <td>0.0</td>\n",
       "      <td>3</td>\n",
       "      <td>...</td>\n",
       "      <td>0.128889</td>\n",
       "      <td>0.000000</td>\n",
       "      <td>0.045833</td>\n",
       "      <td>0.000000</td>\n",
       "      <td>0</td>\n",
       "      <td>0.067778</td>\n",
       "      <td>0.0</td>\n",
       "      <td>0.17</td>\n",
       "      <td>0.0</td>\n",
       "      <td>0.024590</td>\n",
       "    </tr>\n",
       "    <tr>\n",
       "      <th>4998</th>\n",
       "      <td>81066</td>\n",
       "      <td>17608</td>\n",
       "      <td>0</td>\n",
       "      <td>3</td>\n",
       "      <td>3</td>\n",
       "      <td>3</td>\n",
       "      <td>6</td>\n",
       "      <td>1</td>\n",
       "      <td>1.0</td>\n",
       "      <td>3</td>\n",
       "      <td>...</td>\n",
       "      <td>0.092222</td>\n",
       "      <td>0.000000</td>\n",
       "      <td>0.389444</td>\n",
       "      <td>0.000000</td>\n",
       "      <td>0</td>\n",
       "      <td>0.193333</td>\n",
       "      <td>1.5</td>\n",
       "      <td>0.61</td>\n",
       "      <td>0.0</td>\n",
       "      <td>0.485632</td>\n",
       "    </tr>\n",
       "    <tr>\n",
       "      <th>4999</th>\n",
       "      <td>81073</td>\n",
       "      <td>17610</td>\n",
       "      <td>1</td>\n",
       "      <td>0</td>\n",
       "      <td>4</td>\n",
       "      <td>3</td>\n",
       "      <td>2</td>\n",
       "      <td>1</td>\n",
       "      <td>1.0</td>\n",
       "      <td>3</td>\n",
       "      <td>...</td>\n",
       "      <td>0.206111</td>\n",
       "      <td>0.000000</td>\n",
       "      <td>0.400000</td>\n",
       "      <td>0.000000</td>\n",
       "      <td>0</td>\n",
       "      <td>0.259167</td>\n",
       "      <td>1.5</td>\n",
       "      <td>0.88</td>\n",
       "      <td>0.0</td>\n",
       "      <td>0.233655</td>\n",
       "    </tr>\n",
       "  </tbody>\n",
       "</table>\n",
       "<p>5000 rows × 32 columns</p>\n",
       "</div>"
      ],
      "text/plain": [
       "      trip_id  household_id  person_n  trip_n  travel_mode  purpose  fueltype  \\\n",
       "0           1             0         0       1            4        3         1   \n",
       "1          13             1         1       1            4        3         1   \n",
       "2          19             4         0       1            3        3         6   \n",
       "3          20             5         1       0            4        3         1   \n",
       "4          39             9         2       0            4        3         1   \n",
       "...       ...           ...       ...     ...          ...      ...       ...   \n",
       "4995    81035         17603         1       1            3        1         1   \n",
       "4996    81040         17604         2       0            3        1         1   \n",
       "4997    81045         17605         0       1            4        3         1   \n",
       "4998    81066         17608         0       3            3        3         6   \n",
       "4999    81073         17610         1       0            4        3         2   \n",
       "\n",
       "      faretype  bus_scale  survey_year  ...  dur_pt_access  dur_pt_rail  \\\n",
       "0            1        1.0            1  ...       0.109444     0.000000   \n",
       "1            5        0.0            1  ...       0.241389     0.000000   \n",
       "2            5        0.0            1  ...       0.222500     0.000000   \n",
       "3            5        0.0            1  ...       0.381667     0.000000   \n",
       "4            5        0.0            1  ...       0.146944     0.000000   \n",
       "...        ...        ...          ...  ...            ...          ...   \n",
       "4995         1        1.0            3  ...       0.278056     0.216667   \n",
       "4996         2        0.0            3  ...       0.264444     0.000000   \n",
       "4997         5        0.0            3  ...       0.128889     0.000000   \n",
       "4998         1        1.0            3  ...       0.092222     0.000000   \n",
       "4999         1        1.0            3  ...       0.206111     0.000000   \n",
       "\n",
       "      dur_pt_bus  dur_pt_int  pt_interchanges  dur_driving  cost_transit  \\\n",
       "0       0.055556    0.000000                0     0.059444           1.5   \n",
       "1       0.122222    0.000000                0     0.132222           0.0   \n",
       "2       0.312222    0.000000                0     0.221667           0.0   \n",
       "3       0.062222    0.000000                0     0.117222           0.0   \n",
       "4       0.225000    0.000000                0     0.200833           0.0   \n",
       "...          ...         ...              ...          ...           ...   \n",
       "4995    0.000000    0.000000                0     0.392222           2.4   \n",
       "4996    0.353333    0.176667                1     0.288889           0.0   \n",
       "4997    0.045833    0.000000                0     0.067778           0.0   \n",
       "4998    0.389444    0.000000                0     0.193333           1.5   \n",
       "4999    0.400000    0.000000                0     0.259167           1.5   \n",
       "\n",
       "      cost_driving_fuel  cost_driving_ccharge  driving_traffic_percent  \n",
       "0                  0.15                   0.0                 0.112150  \n",
       "1                  0.50                   0.0                 0.065126  \n",
       "2                  0.56                   0.0                 0.086466  \n",
       "3                  0.41                   0.0                 0.097156  \n",
       "4                  0.48                   0.0                 0.378976  \n",
       "...                 ...                   ...                      ...  \n",
       "4995               0.98                   0.0                 0.547450  \n",
       "4996               0.85                   0.0                 0.175000  \n",
       "4997               0.17                   0.0                 0.024590  \n",
       "4998               0.61                   0.0                 0.485632  \n",
       "4999               0.88                   0.0                 0.233655  \n",
       "\n",
       "[5000 rows x 32 columns]"
      ]
     },
     "execution_count": 2,
     "metadata": {},
     "output_type": "execute_result"
    }
   ],
   "source": [
    "df = pd.read_table('lpmc11.dat')\n",
    "database = db.Database('lpmc', df)\n",
    "df"
   ]
  },
  {
   "cell_type": "markdown",
   "id": "0bdc5c33-5064-4fca-90d7-0ea950095a47",
   "metadata": {},
   "source": [
    "# Model 0"
   ]
  },
  {
   "cell_type": "markdown",
   "id": "58aaae9a-75d7-4b0b-a949-936d0fb817be",
   "metadata": {},
   "source": [
    "**Variables:**"
   ]
  },
  {
   "cell_type": "code",
   "execution_count": 3,
   "id": "c6effdc7-98fa-4efa-9ed1-bc14b99812d5",
   "metadata": {
    "tags": []
   },
   "outputs": [],
   "source": [
    "dur_walking = Variable('dur_walking') #time for walking\n",
    "dur_cycling = Variable('dur_cycling') #time for cycling\n",
    "\n",
    "dur_pt_access = Variable('dur_pt_access')\n",
    "dur_pt_rail = Variable('dur_pt_rail')\n",
    "dur_pt_bus = Variable('dur_pt_bus')\n",
    "dur_pt_int = Variable('dur_pt_int')\n",
    "\n",
    "dur_pt = dur_pt_access + dur_pt_rail + dur_pt_bus + dur_pt_int #total time for public transport\n",
    "dur_driving = Variable('dur_driving')\n",
    "\n",
    "cost_transit = Variable('cost_transit') #cost for public transport\n",
    "cost_driving_fuel = Variable('cost_driving_fuel')\n",
    "cost_driving_ccharge = Variable('cost_driving_ccharge')\n",
    "\n",
    "cost_driving = cost_driving_fuel + cost_driving_ccharge #total cost for driving\n",
    "\n",
    "travel_mode = Variable('travel_mode') #Choice"
   ]
  },
  {
   "cell_type": "markdown",
   "id": "313a7ef7-dcbe-4a85-8958-839aa6412522",
   "metadata": {},
   "source": [
    "**Parameters:**"
   ]
  },
  {
   "cell_type": "code",
   "execution_count": 4,
   "id": "0e411bac-4df7-4ff2-9bb7-afc8ab4a8d16",
   "metadata": {
    "tags": []
   },
   "outputs": [],
   "source": [
    "constant_walking = Beta('constant_walking', 0, None, None, 0)\n",
    "constant_cycling = Beta('constant_cycling', 0, None, None, 0)\n",
    "constant_pt = Beta('constant_pt', 0, None, None, 0)\n",
    "beta_cost = Beta('beta_cost', 0, None, None, 0)\n",
    "beta_time = Beta('beta_time', 0, None, None, 0)"
   ]
  },
  {
   "cell_type": "code",
   "execution_count": 5,
   "id": "60205714-9fdb-452a-9224-7f0767b8d15c",
   "metadata": {
    "tags": []
   },
   "outputs": [],
   "source": [
    "v_walk_Model0 = (\n",
    "    constant_walking\n",
    "    + beta_time * dur_walking\n",
    ")\n",
    "\n",
    "v_cycling_Model0 = (\n",
    "    constant_cycling\n",
    "    + beta_time * dur_cycling\n",
    ")\n",
    "\n",
    "v_PT_Model0 = (\n",
    "    constant_pt\n",
    "    + beta_cost * cost_transit\n",
    "    + beta_time * dur_pt\n",
    ")\n",
    "\n",
    "v_driving_Model0 = (\n",
    "    beta_cost * cost_driving\n",
    "    + beta_time * dur_driving\n",
    ")"
   ]
  },
  {
   "cell_type": "code",
   "execution_count": 6,
   "id": "af94f7f7-611e-4631-b1c5-dbbe17b49fa1",
   "metadata": {
    "tags": []
   },
   "outputs": [
    {
     "name": "stderr",
     "output_type": "stream",
     "text": [
      "File biogeme.toml has been created\n"
     ]
    }
   ],
   "source": [
    "V_Model0 = {1: v_walk_Model0, 2: v_cycling_Model0, 3: v_PT_Model0, 4: v_driving_Model0}\n",
    "logprob_Model0 = models.loglogit(V_Model0, None, travel_mode)\n",
    "biogeme_Model0 = bio.BIOGEME(database, logprob_Model0) #create the biogeme estimator\n",
    "biogeme_Model0.modelName = 'logit_Model0'\n",
    "res_Model0 = biogeme_Model0.estimate()"
   ]
  },
  {
   "cell_type": "code",
   "execution_count": 7,
   "id": "05742613-6ddd-4724-8c49-a937b44f6dac",
   "metadata": {
    "tags": []
   },
   "outputs": [
    {
     "name": "stdout",
     "output_type": "stream",
     "text": [
      "Number of estimated parameters:\t5\n",
      "Sample size:\t5000\n",
      "Excluded observations:\t0\n",
      "Init log likelihood:\t-6931.472\n",
      "Final log likelihood:\t-4676.875\n",
      "Likelihood ratio test for the init. model:\t4509.193\n",
      "Rho-square for the init. model:\t0.325\n",
      "Rho-square-bar for the init. model:\t0.325\n",
      "Akaike Information Criterion:\t9363.751\n",
      "Bayesian Information Criterion:\t9396.337\n",
      "Final gradient norm:\t2.6771E-04\n",
      "Nbr of threads:\t8\n",
      "\n"
     ]
    }
   ],
   "source": [
    "print(res_Model0.printGeneralStatistics())"
   ]
  },
  {
   "cell_type": "code",
   "execution_count": 8,
   "id": "0703f63d-cde7-4e91-9416-600d21e342e3",
   "metadata": {
    "tags": []
   },
   "outputs": [
    {
     "data": {
      "text/html": [
       "<div>\n",
       "<style scoped>\n",
       "    .dataframe tbody tr th:only-of-type {\n",
       "        vertical-align: middle;\n",
       "    }\n",
       "\n",
       "    .dataframe tbody tr th {\n",
       "        vertical-align: top;\n",
       "    }\n",
       "\n",
       "    .dataframe thead th {\n",
       "        text-align: right;\n",
       "    }\n",
       "</style>\n",
       "<table border=\"1\" class=\"dataframe\">\n",
       "  <thead>\n",
       "    <tr style=\"text-align: right;\">\n",
       "      <th></th>\n",
       "      <th>Value</th>\n",
       "      <th>Rob. Std err</th>\n",
       "      <th>Rob. t-test</th>\n",
       "      <th>Rob. p-value</th>\n",
       "    </tr>\n",
       "  </thead>\n",
       "  <tbody>\n",
       "    <tr>\n",
       "      <th>beta_cost</th>\n",
       "      <td>-0.156585</td>\n",
       "      <td>0.012667</td>\n",
       "      <td>-12.361233</td>\n",
       "      <td>0.0</td>\n",
       "    </tr>\n",
       "    <tr>\n",
       "      <th>beta_time</th>\n",
       "      <td>-5.226955</td>\n",
       "      <td>0.191905</td>\n",
       "      <td>-27.237207</td>\n",
       "      <td>0.0</td>\n",
       "    </tr>\n",
       "    <tr>\n",
       "      <th>constant_cycling</th>\n",
       "      <td>-2.485329</td>\n",
       "      <td>0.086252</td>\n",
       "      <td>-28.814839</td>\n",
       "      <td>0.0</td>\n",
       "    </tr>\n",
       "    <tr>\n",
       "      <th>constant_pt</th>\n",
       "      <td>0.726783</td>\n",
       "      <td>0.047157</td>\n",
       "      <td>15.411971</td>\n",
       "      <td>0.0</td>\n",
       "    </tr>\n",
       "    <tr>\n",
       "      <th>constant_walking</th>\n",
       "      <td>1.187012</td>\n",
       "      <td>0.078799</td>\n",
       "      <td>15.063738</td>\n",
       "      <td>0.0</td>\n",
       "    </tr>\n",
       "  </tbody>\n",
       "</table>\n",
       "</div>"
      ],
      "text/plain": [
       "                     Value  Rob. Std err  Rob. t-test  Rob. p-value\n",
       "beta_cost        -0.156585      0.012667   -12.361233           0.0\n",
       "beta_time        -5.226955      0.191905   -27.237207           0.0\n",
       "constant_cycling -2.485329      0.086252   -28.814839           0.0\n",
       "constant_pt       0.726783      0.047157    15.411971           0.0\n",
       "constant_walking  1.187012      0.078799    15.063738           0.0"
      ]
     },
     "execution_count": 8,
     "metadata": {},
     "output_type": "execute_result"
    }
   ],
   "source": [
    "res_Model0.getEstimatedParameters()"
   ]
  },
  {
   "cell_type": "markdown",
   "id": "a1ef7fec",
   "metadata": {},
   "source": [
    "The sign of the 2 generic coefficent leaves us satisfied. We know it's reasonable that utility is decreased when cost and/or travel time increase. It also seems that time impacts more the utility, since in asbolute value beta_time is higher than beta_cost. Concernig the ASCs, we normalized with respect to ASC_car so this is our baseline. We notice that ASC_walking is the highest so it seems that people, assuiming the same atrributes values, would choose this alternative. Anyway we see that, since the value of beta_time is high in absoulute value, and walking usually requires more time than the others, it will be penalized, as we expected. Cycling seems really disadvantaged, since its ASC is already low, and it has the same beta_time (due to generic coefficent assumption). Significance of value is confirmed by the t-test values that are all above the 1.96 threshold"
   ]
  },
  {
   "cell_type": "markdown",
   "id": "260c1a15-5634-4a9b-aca3-0eb38238a303",
   "metadata": {},
   "source": [
    "# Model 1"
   ]
  },
  {
   "cell_type": "markdown",
   "id": "cda32c68",
   "metadata": {},
   "source": [
    "We decide to split beta_time into 4 alternative specific parameters. Our choice is due to the fact that this coefficent is present in every utility function, and we think it can undergo a wider variation, since time perception is strictly related to the chosen travel mode."
   ]
  },
  {
   "cell_type": "code",
   "execution_count": 9,
   "id": "45dad72b-f02a-4a11-a5e9-c273543d4826",
   "metadata": {
    "tags": []
   },
   "outputs": [],
   "source": [
    "constant_walking = Beta('constant_walking', 0, None, None, 0)\n",
    "constant_cycling = Beta('constant_cycling', 0, None, None, 0)\n",
    "constant_pt = Beta('constant_pt', 0, None, None, 0)\n",
    "beta_cost = Beta('beta_cost', 0, None, None, 0)\n",
    "beta_time_walking = Beta('beta_time_walking', 0, None, None, 0)\n",
    "beta_time_cycling = Beta('beta_time_cycling', 0, None, None, 0)\n",
    "beta_time_pt = Beta('beta_time_pt', 0, None, None, 0)\n",
    "beta_time_driving = Beta('beta_time_driving', 0, None, None, 0)"
   ]
  },
  {
   "cell_type": "code",
   "execution_count": 10,
   "id": "adac2fd2-17cb-4415-9468-a0d876c740fe",
   "metadata": {
    "tags": []
   },
   "outputs": [],
   "source": [
    "v_walk_Model1 = (\n",
    "    constant_walking\n",
    "    + beta_time_walking * dur_walking\n",
    ")\n",
    "\n",
    "v_cycling_Model1 = (\n",
    "    constant_cycling\n",
    "    + beta_time_cycling * dur_cycling\n",
    ")\n",
    "\n",
    "v_PT_Model1 = (\n",
    "    constant_pt\n",
    "    + beta_cost * cost_transit\n",
    "    + beta_time_pt * dur_pt\n",
    ")\n",
    "\n",
    "v_driving_Model1 = (\n",
    "    beta_cost * cost_driving\n",
    "    + beta_time_driving * dur_driving\n",
    ")"
   ]
  },
  {
   "cell_type": "code",
   "execution_count": 11,
   "id": "cca879ec-bb87-4c61-86db-411dbb9b8906",
   "metadata": {
    "tags": []
   },
   "outputs": [],
   "source": [
    "V_Model1 = {1: v_walk_Model1, 2: v_cycling_Model1, 3: v_PT_Model1, 4: v_driving_Model1}\n",
    "logprob_Model1 = models.loglogit(V_Model1, None, travel_mode)\n",
    "biogeme_Model1 = bio.BIOGEME(database, logprob_Model1)\n",
    "biogeme_Model1.modelName = 'logit_Model1'\n",
    "res_Model1 = biogeme_Model1.estimate()"
   ]
  },
  {
   "cell_type": "code",
   "execution_count": 12,
   "id": "200f5cc1-b1e6-4b50-bea7-5c7e66b8106b",
   "metadata": {
    "tags": []
   },
   "outputs": [
    {
     "name": "stdout",
     "output_type": "stream",
     "text": [
      "Number of estimated parameters:\t8\n",
      "Sample size:\t5000\n",
      "Excluded observations:\t0\n",
      "Init log likelihood:\t-6931.472\n",
      "Final log likelihood:\t-4372.911\n",
      "Likelihood ratio test for the init. model:\t5117.122\n",
      "Rho-square for the init. model:\t0.369\n",
      "Rho-square-bar for the init. model:\t0.368\n",
      "Akaike Information Criterion:\t8761.822\n",
      "Bayesian Information Criterion:\t8813.959\n",
      "Final gradient norm:\t2.8918E-03\n",
      "Nbr of threads:\t8\n",
      "\n"
     ]
    }
   ],
   "source": [
    "print(res_Model1.printGeneralStatistics())"
   ]
  },
  {
   "cell_type": "code",
   "execution_count": 13,
   "id": "d38a9658-a255-46d4-b3ba-b71bc8747875",
   "metadata": {
    "tags": []
   },
   "outputs": [
    {
     "data": {
      "text/html": [
       "<div>\n",
       "<style scoped>\n",
       "    .dataframe tbody tr th:only-of-type {\n",
       "        vertical-align: middle;\n",
       "    }\n",
       "\n",
       "    .dataframe tbody tr th {\n",
       "        vertical-align: top;\n",
       "    }\n",
       "\n",
       "    .dataframe thead th {\n",
       "        text-align: right;\n",
       "    }\n",
       "</style>\n",
       "<table border=\"1\" class=\"dataframe\">\n",
       "  <thead>\n",
       "    <tr style=\"text-align: right;\">\n",
       "      <th></th>\n",
       "      <th>Value</th>\n",
       "      <th>Rob. Std err</th>\n",
       "      <th>Rob. t-test</th>\n",
       "      <th>Rob. p-value</th>\n",
       "    </tr>\n",
       "  </thead>\n",
       "  <tbody>\n",
       "    <tr>\n",
       "      <th>beta_cost</th>\n",
       "      <td>-0.136269</td>\n",
       "      <td>0.013923</td>\n",
       "      <td>-9.787478</td>\n",
       "      <td>0.000000e+00</td>\n",
       "    </tr>\n",
       "    <tr>\n",
       "      <th>beta_time_cycling</th>\n",
       "      <td>-5.436177</td>\n",
       "      <td>0.492925</td>\n",
       "      <td>-11.028412</td>\n",
       "      <td>0.000000e+00</td>\n",
       "    </tr>\n",
       "    <tr>\n",
       "      <th>beta_time_driving</th>\n",
       "      <td>-5.794675</td>\n",
       "      <td>0.384636</td>\n",
       "      <td>-15.065358</td>\n",
       "      <td>0.000000e+00</td>\n",
       "    </tr>\n",
       "    <tr>\n",
       "      <th>beta_time_pt</th>\n",
       "      <td>-3.127377</td>\n",
       "      <td>0.243891</td>\n",
       "      <td>-12.822864</td>\n",
       "      <td>0.000000e+00</td>\n",
       "    </tr>\n",
       "    <tr>\n",
       "      <th>beta_time_walking</th>\n",
       "      <td>-8.161128</td>\n",
       "      <td>0.386290</td>\n",
       "      <td>-21.126960</td>\n",
       "      <td>0.000000e+00</td>\n",
       "    </tr>\n",
       "    <tr>\n",
       "      <th>constant_cycling</th>\n",
       "      <td>-2.560688</td>\n",
       "      <td>0.150700</td>\n",
       "      <td>-16.991966</td>\n",
       "      <td>0.000000e+00</td>\n",
       "    </tr>\n",
       "    <tr>\n",
       "      <th>constant_pt</th>\n",
       "      <td>-0.405922</td>\n",
       "      <td>0.069445</td>\n",
       "      <td>-5.845207</td>\n",
       "      <td>5.059401e-09</td>\n",
       "    </tr>\n",
       "    <tr>\n",
       "      <th>constant_walking</th>\n",
       "      <td>1.933359</td>\n",
       "      <td>0.129143</td>\n",
       "      <td>14.970653</td>\n",
       "      <td>0.000000e+00</td>\n",
       "    </tr>\n",
       "  </tbody>\n",
       "</table>\n",
       "</div>"
      ],
      "text/plain": [
       "                      Value  Rob. Std err  Rob. t-test  Rob. p-value\n",
       "beta_cost         -0.136269      0.013923    -9.787478  0.000000e+00\n",
       "beta_time_cycling -5.436177      0.492925   -11.028412  0.000000e+00\n",
       "beta_time_driving -5.794675      0.384636   -15.065358  0.000000e+00\n",
       "beta_time_pt      -3.127377      0.243891   -12.822864  0.000000e+00\n",
       "beta_time_walking -8.161128      0.386290   -21.126960  0.000000e+00\n",
       "constant_cycling  -2.560688      0.150700   -16.991966  0.000000e+00\n",
       "constant_pt       -0.405922      0.069445    -5.845207  5.059401e-09\n",
       "constant_walking   1.933359      0.129143    14.970653  0.000000e+00"
      ]
     },
     "execution_count": 13,
     "metadata": {},
     "output_type": "execute_result"
    }
   ],
   "source": [
    "res_Model1.getEstimatedParameters()"
   ]
  },
  {
   "cell_type": "markdown",
   "id": "68d7cd28",
   "metadata": {},
   "source": [
    "As before, signs are reasonable. Concernign the values of the coefficents, we firstly notice that beta_cost reamined pretty much the same and it seems reasonable becuase people usually care how much money they spend rather than for what they do spend. The wide range of values we can see on beta_time strenghtens our initial assumption, in fact we see how beta_walking is really low, since walking requires phisycal effort, while the two alternatives that just require the individual's focus (driving and cycling) are pretty similar and this seems fine. In the end we see that beta_time_PT is instead the lowest in absolute value, and this is logic for us since when you are in public transport you are able to do other activities or just realx without having to mantain focus. Again, as before, ASC-walking is still bigger than car, as cycling is still the lowest. The only change we notice is the sign of ASC_pt, which is probably due to the value of the beta_time_pt we previously analyzed. Significance of value is confirmed by the t-test values that are all above the 1.96 threshold"
   ]
  },
  {
   "cell_type": "code",
   "execution_count": 14,
   "id": "759a97e0-3d96-4972-8018-f55829e91008",
   "metadata": {
    "tags": []
   },
   "outputs": [
    {
     "data": {
      "text/plain": [
       "LRTuple(message='H0 can be rejected at level 1.0%', statistic=607.9289925585272, threshold=11.344866730144373)"
      ]
     },
     "execution_count": 14,
     "metadata": {},
     "output_type": "execute_result"
    }
   ],
   "source": [
    "res_Model1.likelihood_ratio_test(res_Model0, 0.01)"
   ]
  },
  {
   "cell_type": "markdown",
   "id": "e7140489",
   "metadata": {},
   "source": [
    "To compare the 2 models we used the likelihood ratio test. This is doable since model 0 is a linear restriction of model 1 (assuming all the alternative specific beta_time equal). Our null-hypotesis is that the resricted model (in this case model 0) is the true model. We set the significance level of the test to 0,01 and as we can see from the result the null-hypotesis is rejected, hence our preferred model is model 1"
   ]
  },
  {
   "cell_type": "markdown",
   "id": "8651f7d2-e38a-4a2b-aae9-6c23f8847776",
   "metadata": {},
   "source": [
    "# Model 2:"
   ]
  },
  {
   "cell_type": "markdown",
   "id": "97fcebad-bd04-4984-ae80-0f6eda854854",
   "metadata": {},
   "source": [
    "- Interaction of age with ASCs:"
   ]
  },
  {
   "attachments": {},
   "cell_type": "markdown",
   "id": "7b125619",
   "metadata": {},
   "source": [
    "We select 'age' as socio-economic characteristic since we think it has a stornger correlation with the choice of a transport mode rather than sex, which is the other socio-ecomic characteristic we found in the dataset. In fact, if we assume two individuals have the same age, from our experience, their choice (putting all the other parametres equal) would not probably be different. On the other hand, age can impact the choice both from an availability point of view (i.e. young or really old may not have a driving license) and a physical effort one."
   ]
  },
  {
   "cell_type": "code",
   "execution_count": 15,
   "id": "b4bbf003-86ed-494d-82af-c0afd7b635f8",
   "metadata": {
    "tags": []
   },
   "outputs": [],
   "source": [
    "age = Variable('age')"
   ]
  },
  {
   "cell_type": "code",
   "execution_count": 16,
   "id": "430902b3-589f-4872-886b-f8a5b15bf3d9",
   "metadata": {
    "tags": []
   },
   "outputs": [],
   "source": [
    "beta_cost = Beta('beta_cost', 0, None, None, 0)\n",
    "beta_time_walking = Beta('beta_time_walking', 0, None, None, 0)\n",
    "beta_time_cycling = Beta('beta_time_cycling', 0, None, None, 0)\n",
    "beta_time_pt = Beta('beta_time_pt', 0, None, None, 0)\n",
    "beta_time_driving = Beta('beta_time_driving', 0, None, None, 0)\n",
    "ASC_w = Beta('ASC_w', 0, None, None, 0)\n",
    "ASC_c = Beta('ASC_c', 0, None, None, 0)\n",
    "ASC_pt = Beta('ASC_pt', 0, None, None, 0)\n"
   ]
  },
  {
   "cell_type": "code",
   "execution_count": 17,
   "id": "3c8c53ee",
   "metadata": {
    "tags": []
   },
   "outputs": [],
   "source": [
    "interacted_ASC_w = ASC_w * age/99\n",
    "interacted_ASC_c = ASC_c * age/99\n",
    "interacted_ASC_pt = ASC_pt * age/99\n"
   ]
  },
  {
   "cell_type": "code",
   "execution_count": 18,
   "id": "67a63f5b-49e2-4448-be40-e23f2bb7a510",
   "metadata": {
    "tags": []
   },
   "outputs": [],
   "source": [
    "v_w_Model2_ASC = (\n",
    "    interacted_ASC_w\n",
    "    + beta_time_walking * dur_walking\n",
    ")\n",
    "\n",
    "v_c_Model2_ASC = (\n",
    "    interacted_ASC_c\n",
    "    + beta_time_cycling * dur_cycling\n",
    ")\n",
    "\n",
    "v_pt_Model2_ASC = (\n",
    "    interacted_ASC_pt\n",
    "    + beta_cost * cost_transit\n",
    "    + beta_time_pt * dur_pt\n",
    ")\n",
    "\n",
    "v_driving_Model2_ASC = (\n",
    "    beta_cost * cost_driving\n",
    "    + beta_time_driving * dur_driving\n",
    ")"
   ]
  },
  {
   "cell_type": "code",
   "execution_count": 19,
   "id": "a29997a4-1a79-4907-9c1c-3e9e9c0f7aa8",
   "metadata": {
    "tags": []
   },
   "outputs": [],
   "source": [
    "V_Model2_ASC = {1: v_w_Model2_ASC , 2: v_c_Model2_ASC, 3: v_pt_Model2_ASC, 4: v_driving_Model2_ASC}\n",
    "logprob_Model2_ASC = models.loglogit(V_Model2_ASC, None, travel_mode)\n",
    "biogeme_Model2_ASC = bio.BIOGEME(database, logprob_Model2_ASC)\n",
    "biogeme_Model2_ASC.modelName = 'logit_Model2_ASC'\n",
    "res_Model2_ASC = biogeme_Model2_ASC.estimate()"
   ]
  },
  {
   "cell_type": "code",
   "execution_count": 20,
   "id": "38559766-ba43-4bfd-85c9-153ad53a76ea",
   "metadata": {
    "tags": []
   },
   "outputs": [
    {
     "name": "stdout",
     "output_type": "stream",
     "text": [
      "Number of estimated parameters:\t8\n",
      "Sample size:\t5000\n",
      "Excluded observations:\t0\n",
      "Init log likelihood:\t-6931.472\n",
      "Final log likelihood:\t-4615.576\n",
      "Likelihood ratio test for the init. model:\t4631.793\n",
      "Rho-square for the init. model:\t0.334\n",
      "Rho-square-bar for the init. model:\t0.333\n",
      "Akaike Information Criterion:\t9247.151\n",
      "Bayesian Information Criterion:\t9299.289\n",
      "Final gradient norm:\t4.2811E-03\n",
      "Nbr of threads:\t8\n",
      "\n"
     ]
    }
   ],
   "source": [
    "print(res_Model2_ASC.printGeneralStatistics())"
   ]
  },
  {
   "cell_type": "code",
   "execution_count": 21,
   "id": "fcc05cf5-457c-4e0e-b1ae-456431c56a33",
   "metadata": {
    "tags": []
   },
   "outputs": [
    {
     "data": {
      "text/html": [
       "<div>\n",
       "<style scoped>\n",
       "    .dataframe tbody tr th:only-of-type {\n",
       "        vertical-align: middle;\n",
       "    }\n",
       "\n",
       "    .dataframe tbody tr th {\n",
       "        vertical-align: top;\n",
       "    }\n",
       "\n",
       "    .dataframe thead th {\n",
       "        text-align: right;\n",
       "    }\n",
       "</style>\n",
       "<table border=\"1\" class=\"dataframe\">\n",
       "  <thead>\n",
       "    <tr style=\"text-align: right;\">\n",
       "      <th></th>\n",
       "      <th>Value</th>\n",
       "      <th>Rob. Std err</th>\n",
       "      <th>Rob. t-test</th>\n",
       "      <th>Rob. p-value</th>\n",
       "    </tr>\n",
       "  </thead>\n",
       "  <tbody>\n",
       "    <tr>\n",
       "      <th>ASC_c</th>\n",
       "      <td>-4.876934</td>\n",
       "      <td>0.374371</td>\n",
       "      <td>-13.027024</td>\n",
       "      <td>0.000000e+00</td>\n",
       "    </tr>\n",
       "    <tr>\n",
       "      <th>ASC_pt</th>\n",
       "      <td>-0.998334</td>\n",
       "      <td>0.133146</td>\n",
       "      <td>-7.498069</td>\n",
       "      <td>6.483702e-14</td>\n",
       "    </tr>\n",
       "    <tr>\n",
       "      <th>ASC_w</th>\n",
       "      <td>1.531976</td>\n",
       "      <td>0.158595</td>\n",
       "      <td>9.659663</td>\n",
       "      <td>0.000000e+00</td>\n",
       "    </tr>\n",
       "    <tr>\n",
       "      <th>beta_cost</th>\n",
       "      <td>-0.150734</td>\n",
       "      <td>0.014566</td>\n",
       "      <td>-10.348652</td>\n",
       "      <td>0.000000e+00</td>\n",
       "    </tr>\n",
       "    <tr>\n",
       "      <th>beta_time_cycling</th>\n",
       "      <td>-8.105935</td>\n",
       "      <td>0.665889</td>\n",
       "      <td>-12.173110</td>\n",
       "      <td>0.000000e+00</td>\n",
       "    </tr>\n",
       "    <tr>\n",
       "      <th>beta_time_driving</th>\n",
       "      <td>-5.751921</td>\n",
       "      <td>0.391627</td>\n",
       "      <td>-14.687258</td>\n",
       "      <td>0.000000e+00</td>\n",
       "    </tr>\n",
       "    <tr>\n",
       "      <th>beta_time_pt</th>\n",
       "      <td>-3.123986</td>\n",
       "      <td>0.244501</td>\n",
       "      <td>-12.776987</td>\n",
       "      <td>0.000000e+00</td>\n",
       "    </tr>\n",
       "    <tr>\n",
       "      <th>beta_time_walking</th>\n",
       "      <td>-5.265470</td>\n",
       "      <td>0.197674</td>\n",
       "      <td>-26.637139</td>\n",
       "      <td>0.000000e+00</td>\n",
       "    </tr>\n",
       "  </tbody>\n",
       "</table>\n",
       "</div>"
      ],
      "text/plain": [
       "                      Value  Rob. Std err  Rob. t-test  Rob. p-value\n",
       "ASC_c             -4.876934      0.374371   -13.027024  0.000000e+00\n",
       "ASC_pt            -0.998334      0.133146    -7.498069  6.483702e-14\n",
       "ASC_w              1.531976      0.158595     9.659663  0.000000e+00\n",
       "beta_cost         -0.150734      0.014566   -10.348652  0.000000e+00\n",
       "beta_time_cycling -8.105935      0.665889   -12.173110  0.000000e+00\n",
       "beta_time_driving -5.751921      0.391627   -14.687258  0.000000e+00\n",
       "beta_time_pt      -3.123986      0.244501   -12.776987  0.000000e+00\n",
       "beta_time_walking -5.265470      0.197674   -26.637139  0.000000e+00"
      ]
     },
     "execution_count": 21,
     "metadata": {},
     "output_type": "execute_result"
    }
   ],
   "source": [
    "res_Model2_ASC.getEstimatedParameters()"
   ]
  },
  {
   "attachments": {},
   "cell_type": "markdown",
   "id": "d8ff2e78",
   "metadata": {},
   "source": [
    "The estimated signs leaves us satisfied. Moreover, from this estimation we can notice that walking is still the highest among the ASCs, but it is also a lot penalized by its beta_time, which we could expect. Anyway the fact that beta_time_cycling is so low seems pretty strange to us, since we thinik that time has a bigger impact in other contexts such as walking. We can also see that beta_cost has a less signifcant impact on the choices."
   ]
  },
  {
   "cell_type": "markdown",
   "id": "ee2aabc8-11da-419b-b2c7-d5cde9005715",
   "metadata": {},
   "source": [
    "- Interaction of age with cost:"
   ]
  },
  {
   "cell_type": "markdown",
   "id": "b07bbb68",
   "metadata": {},
   "source": [
    "When we have to analyze the interaction of the age with one of the variables, we decided to link it with cost, since we think that indviduals may have a differtent perception of money depending on their age. For example, when you're a student you give a different value to money than the one you give them when you've been working for several years."
   ]
  },
  {
   "cell_type": "code",
   "execution_count": 22,
   "id": "f960be71-f87b-4083-9358-bed32cc0e178",
   "metadata": {
    "tags": []
   },
   "outputs": [],
   "source": [
    "constant_walking = Beta('constant_walking', 0, None, None, 0)\n",
    "constant_cycling = Beta('constant_cycling', 0, None, None, 0)\n",
    "constant_pt = Beta('constant_pt', 0, None, None, 0)\n",
    "beta_time_walking = Beta('beta_time_walking', 0, None, None, 0)\n",
    "beta_time_cycling = Beta('beta_time_cycling', 0, None, None, 0)\n",
    "beta_time_pt = Beta('beta_time_pt', 0, None, None, 0)\n",
    "beta_time_driving = Beta('beta_time_driving', 0, None, None, 0)\n",
    "beta_cost_int = Beta('beta_cost_int', 0, None, None, 0)"
   ]
  },
  {
   "cell_type": "code",
   "execution_count": 23,
   "id": "c2012e1b",
   "metadata": {
    "tags": []
   },
   "outputs": [],
   "source": [
    "beta_cost_interacted = beta_cost_int * age/99"
   ]
  },
  {
   "cell_type": "code",
   "execution_count": 24,
   "id": "6920eb2d-9c78-4a9c-8845-cb8c49763f04",
   "metadata": {
    "tags": []
   },
   "outputs": [],
   "source": [
    "v_w_Model2_cost = (\n",
    "    constant_walking\n",
    "    + beta_time_walking * dur_walking\n",
    ")\n",
    "\n",
    "v_c_Model2_cost = (\n",
    "    constant_cycling\n",
    "    + beta_time_cycling * dur_cycling\n",
    ")\n",
    "\n",
    "v_pt_Model2_cost= (\n",
    "    constant_pt\n",
    "    + beta_cost_interacted * cost_transit    \n",
    "    + beta_time_pt * dur_pt\n",
    ")\n",
    "\n",
    "v_driving_Model2_cost = (\n",
    "    beta_cost_interacted * cost_driving\n",
    "    + beta_time_driving * dur_driving\n",
    ")"
   ]
  },
  {
   "cell_type": "code",
   "execution_count": 25,
   "id": "22a1a457-3a10-4a4a-b3cf-3c51db0e1a01",
   "metadata": {
    "tags": []
   },
   "outputs": [],
   "source": [
    "V_Model2_cost = {1: v_w_Model2_cost, 2: v_c_Model2_cost, 3: v_pt_Model2_cost, 4: v_driving_Model2_cost}\n",
    "logprob_Model2_cost = models.loglogit(V_Model2_cost, None, travel_mode)\n",
    "biogeme_Model2_cost = bio.BIOGEME(database, logprob_Model2_cost)\n",
    "biogeme_Model2_cost.modelName = 'logit_Model2_cost'\n",
    "res_Model2_cost = biogeme_Model2_cost.estimate()"
   ]
  },
  {
   "cell_type": "code",
   "execution_count": 26,
   "id": "9f3a7626-7803-4afb-821e-4c9cb10266f2",
   "metadata": {
    "tags": []
   },
   "outputs": [
    {
     "name": "stdout",
     "output_type": "stream",
     "text": [
      "Number of estimated parameters:\t8\n",
      "Sample size:\t5000\n",
      "Excluded observations:\t0\n",
      "Init log likelihood:\t-6931.472\n",
      "Final log likelihood:\t-4387.311\n",
      "Likelihood ratio test for the init. model:\t5088.321\n",
      "Rho-square for the init. model:\t0.367\n",
      "Rho-square-bar for the init. model:\t0.366\n",
      "Akaike Information Criterion:\t8790.622\n",
      "Bayesian Information Criterion:\t8842.76\n",
      "Final gradient norm:\t1.8462E-03\n",
      "Nbr of threads:\t8\n",
      "\n"
     ]
    }
   ],
   "source": [
    "print(res_Model2_cost.printGeneralStatistics())"
   ]
  },
  {
   "cell_type": "code",
   "execution_count": 27,
   "id": "99b9a2a6-d5e0-4b42-a982-add708b3be44",
   "metadata": {
    "tags": []
   },
   "outputs": [
    {
     "data": {
      "text/html": [
       "<div>\n",
       "<style scoped>\n",
       "    .dataframe tbody tr th:only-of-type {\n",
       "        vertical-align: middle;\n",
       "    }\n",
       "\n",
       "    .dataframe tbody tr th {\n",
       "        vertical-align: top;\n",
       "    }\n",
       "\n",
       "    .dataframe thead th {\n",
       "        text-align: right;\n",
       "    }\n",
       "</style>\n",
       "<table border=\"1\" class=\"dataframe\">\n",
       "  <thead>\n",
       "    <tr style=\"text-align: right;\">\n",
       "      <th></th>\n",
       "      <th>Value</th>\n",
       "      <th>Rob. Std err</th>\n",
       "      <th>Rob. t-test</th>\n",
       "      <th>Rob. p-value</th>\n",
       "    </tr>\n",
       "  </thead>\n",
       "  <tbody>\n",
       "    <tr>\n",
       "      <th>beta_cost_int</th>\n",
       "      <td>-0.287265</td>\n",
       "      <td>0.039548</td>\n",
       "      <td>-7.263774</td>\n",
       "      <td>3.763656e-13</td>\n",
       "    </tr>\n",
       "    <tr>\n",
       "      <th>beta_time_cycling</th>\n",
       "      <td>-5.430248</td>\n",
       "      <td>0.494069</td>\n",
       "      <td>-10.990875</td>\n",
       "      <td>0.000000e+00</td>\n",
       "    </tr>\n",
       "    <tr>\n",
       "      <th>beta_time_driving</th>\n",
       "      <td>-5.958971</td>\n",
       "      <td>0.382057</td>\n",
       "      <td>-15.597075</td>\n",
       "      <td>0.000000e+00</td>\n",
       "    </tr>\n",
       "    <tr>\n",
       "      <th>beta_time_pt</th>\n",
       "      <td>-3.218752</td>\n",
       "      <td>0.242768</td>\n",
       "      <td>-13.258575</td>\n",
       "      <td>0.000000e+00</td>\n",
       "    </tr>\n",
       "    <tr>\n",
       "      <th>beta_time_walking</th>\n",
       "      <td>-8.180582</td>\n",
       "      <td>0.386817</td>\n",
       "      <td>-21.148430</td>\n",
       "      <td>0.000000e+00</td>\n",
       "    </tr>\n",
       "    <tr>\n",
       "      <th>constant_cycling</th>\n",
       "      <td>-2.566973</td>\n",
       "      <td>0.150922</td>\n",
       "      <td>-17.008640</td>\n",
       "      <td>0.000000e+00</td>\n",
       "    </tr>\n",
       "    <tr>\n",
       "      <th>constant_pt</th>\n",
       "      <td>-0.407455</td>\n",
       "      <td>0.069331</td>\n",
       "      <td>-5.876925</td>\n",
       "      <td>4.179564e-09</td>\n",
       "    </tr>\n",
       "    <tr>\n",
       "      <th>constant_walking</th>\n",
       "      <td>1.939261</td>\n",
       "      <td>0.129410</td>\n",
       "      <td>14.985393</td>\n",
       "      <td>0.000000e+00</td>\n",
       "    </tr>\n",
       "  </tbody>\n",
       "</table>\n",
       "</div>"
      ],
      "text/plain": [
       "                      Value  Rob. Std err  Rob. t-test  Rob. p-value\n",
       "beta_cost_int     -0.287265      0.039548    -7.263774  3.763656e-13\n",
       "beta_time_cycling -5.430248      0.494069   -10.990875  0.000000e+00\n",
       "beta_time_driving -5.958971      0.382057   -15.597075  0.000000e+00\n",
       "beta_time_pt      -3.218752      0.242768   -13.258575  0.000000e+00\n",
       "beta_time_walking -8.180582      0.386817   -21.148430  0.000000e+00\n",
       "constant_cycling  -2.566973      0.150922   -17.008640  0.000000e+00\n",
       "constant_pt       -0.407455      0.069331    -5.876925  4.179564e-09\n",
       "constant_walking   1.939261      0.129410    14.985393  0.000000e+00"
      ]
     },
     "execution_count": 27,
     "metadata": {},
     "output_type": "execute_result"
    }
   ],
   "source": [
    "res_Model2_cost.getEstimatedParameters()"
   ]
  },
  {
   "attachments": {},
   "cell_type": "markdown",
   "id": "b02e8bd3",
   "metadata": {},
   "source": [
    "The signs we get are still ok for us, then we can also see that this time beta_cost is lower than before, and this is due to the fact that we are considering the interaction with age. We can also see that the ASCs are still pretty much the same. "
   ]
  },
  {
   "attachments": {},
   "cell_type": "markdown",
   "id": "88d72ca7",
   "metadata": {},
   "source": [
    "Now it's the tome of testing the models. Since the previous preferred model is Model1, and none of our last two models can be seen as a restriction of Model 1, we cannot apply loglikelihood ratio test directly. We instead want to perfrom a Cox test, where we define a third model, as the sum of model 1 and the interaction term. We then perform the likelihood ratio test between the model 1 and the cox model and then between the interacted model and the cox model. The null hypotesis for each of this test is that the restricted model is the better one. We set the significance level of the test to 0,05. If the cox_model results to be the best in both case we have to look for better models, if the models are not rejected in both case we need to change our test and in the other cases we'll be able to state the preferred model. Of course this has to be done for both the interactions we defined. "
   ]
  },
  {
   "cell_type": "code",
   "execution_count": 28,
   "id": "92586e49",
   "metadata": {
    "tags": []
   },
   "outputs": [],
   "source": [
    "v_w_cox1 = v_walk_Model1 + interacted_ASC_w\n",
    "v_c_cox1 = v_cycling_Model1 + interacted_ASC_c\n",
    "v_pt_cox1 = v_PT_Model1 + interacted_ASC_pt\n",
    "v_driving_cox1 = v_driving_Model1"
   ]
  },
  {
   "cell_type": "code",
   "execution_count": 29,
   "id": "d1da8dd2",
   "metadata": {
    "tags": []
   },
   "outputs": [],
   "source": [
    "V_cox1 = {1: v_w_cox1, 2: v_c_cox1, 3: v_pt_cox1, 4: v_driving_cox1}\n",
    "logprob_cox1 = models.loglogit(V_cox1, None, travel_mode)\n",
    "biogeme_cox1 = bio.BIOGEME(database, logprob_cox1)\n",
    "biogeme_cox1.modelName = 'logit_cox1'\n",
    "res_cox1 = biogeme_cox1.estimate()"
   ]
  },
  {
   "cell_type": "code",
   "execution_count": 30,
   "id": "7728e97c-08f1-4d19-81b4-e4f553d53408",
   "metadata": {
    "tags": []
   },
   "outputs": [
    {
     "name": "stdout",
     "output_type": "stream",
     "text": [
      "Number of estimated parameters:\t11\n",
      "Sample size:\t5000\n",
      "Excluded observations:\t0\n",
      "Init log likelihood:\t-6931.472\n",
      "Final log likelihood:\t-4348.347\n",
      "Likelihood ratio test for the init. model:\t5166.249\n",
      "Rho-square for the init. model:\t0.373\n",
      "Rho-square-bar for the init. model:\t0.371\n",
      "Akaike Information Criterion:\t8718.694\n",
      "Bayesian Information Criterion:\t8790.383\n",
      "Final gradient norm:\t2.3308E-03\n",
      "Nbr of threads:\t8\n",
      "\n"
     ]
    }
   ],
   "source": [
    "print(res_cox1.printGeneralStatistics())"
   ]
  },
  {
   "cell_type": "code",
   "execution_count": 31,
   "id": "fb87f70a-c3eb-4c3b-8942-684294340493",
   "metadata": {
    "tags": []
   },
   "outputs": [
    {
     "data": {
      "text/html": [
       "<div>\n",
       "<style scoped>\n",
       "    .dataframe tbody tr th:only-of-type {\n",
       "        vertical-align: middle;\n",
       "    }\n",
       "\n",
       "    .dataframe tbody tr th {\n",
       "        vertical-align: top;\n",
       "    }\n",
       "\n",
       "    .dataframe thead th {\n",
       "        text-align: right;\n",
       "    }\n",
       "</style>\n",
       "<table border=\"1\" class=\"dataframe\">\n",
       "  <thead>\n",
       "    <tr style=\"text-align: right;\">\n",
       "      <th></th>\n",
       "      <th>Value</th>\n",
       "      <th>Rob. Std err</th>\n",
       "      <th>Rob. t-test</th>\n",
       "      <th>Rob. p-value</th>\n",
       "    </tr>\n",
       "  </thead>\n",
       "  <tbody>\n",
       "    <tr>\n",
       "      <th>ASC_c</th>\n",
       "      <td>-1.056331</td>\n",
       "      <td>0.365441</td>\n",
       "      <td>-2.890563</td>\n",
       "      <td>3.845519e-03</td>\n",
       "    </tr>\n",
       "    <tr>\n",
       "      <th>ASC_pt</th>\n",
       "      <td>-0.959524</td>\n",
       "      <td>0.187752</td>\n",
       "      <td>-5.110597</td>\n",
       "      <td>3.211423e-07</td>\n",
       "    </tr>\n",
       "    <tr>\n",
       "      <th>ASC_w</th>\n",
       "      <td>-1.397502</td>\n",
       "      <td>0.236492</td>\n",
       "      <td>-5.909296</td>\n",
       "      <td>3.435729e-09</td>\n",
       "    </tr>\n",
       "    <tr>\n",
       "      <th>beta_cost</th>\n",
       "      <td>-0.137210</td>\n",
       "      <td>0.013975</td>\n",
       "      <td>-9.818290</td>\n",
       "      <td>0.000000e+00</td>\n",
       "    </tr>\n",
       "    <tr>\n",
       "      <th>beta_time_cycling</th>\n",
       "      <td>-5.425166</td>\n",
       "      <td>0.493299</td>\n",
       "      <td>-10.997715</td>\n",
       "      <td>0.000000e+00</td>\n",
       "    </tr>\n",
       "    <tr>\n",
       "      <th>beta_time_driving</th>\n",
       "      <td>-5.742581</td>\n",
       "      <td>0.383501</td>\n",
       "      <td>-14.974113</td>\n",
       "      <td>0.000000e+00</td>\n",
       "    </tr>\n",
       "    <tr>\n",
       "      <th>beta_time_pt</th>\n",
       "      <td>-3.113525</td>\n",
       "      <td>0.243493</td>\n",
       "      <td>-12.786929</td>\n",
       "      <td>0.000000e+00</td>\n",
       "    </tr>\n",
       "    <tr>\n",
       "      <th>beta_time_walking</th>\n",
       "      <td>-8.186674</td>\n",
       "      <td>0.389671</td>\n",
       "      <td>-21.009213</td>\n",
       "      <td>0.000000e+00</td>\n",
       "    </tr>\n",
       "    <tr>\n",
       "      <th>constant_cycling</th>\n",
       "      <td>-2.131890</td>\n",
       "      <td>0.210885</td>\n",
       "      <td>-10.109264</td>\n",
       "      <td>0.000000e+00</td>\n",
       "    </tr>\n",
       "    <tr>\n",
       "      <th>constant_pt</th>\n",
       "      <td>-0.012516</td>\n",
       "      <td>0.102428</td>\n",
       "      <td>-0.122195</td>\n",
       "      <td>9.027448e-01</td>\n",
       "    </tr>\n",
       "    <tr>\n",
       "      <th>constant_walking</th>\n",
       "      <td>2.502574</td>\n",
       "      <td>0.169588</td>\n",
       "      <td>14.756785</td>\n",
       "      <td>0.000000e+00</td>\n",
       "    </tr>\n",
       "  </tbody>\n",
       "</table>\n",
       "</div>"
      ],
      "text/plain": [
       "                      Value  Rob. Std err  Rob. t-test  Rob. p-value\n",
       "ASC_c             -1.056331      0.365441    -2.890563  3.845519e-03\n",
       "ASC_pt            -0.959524      0.187752    -5.110597  3.211423e-07\n",
       "ASC_w             -1.397502      0.236492    -5.909296  3.435729e-09\n",
       "beta_cost         -0.137210      0.013975    -9.818290  0.000000e+00\n",
       "beta_time_cycling -5.425166      0.493299   -10.997715  0.000000e+00\n",
       "beta_time_driving -5.742581      0.383501   -14.974113  0.000000e+00\n",
       "beta_time_pt      -3.113525      0.243493   -12.786929  0.000000e+00\n",
       "beta_time_walking -8.186674      0.389671   -21.009213  0.000000e+00\n",
       "constant_cycling  -2.131890      0.210885   -10.109264  0.000000e+00\n",
       "constant_pt       -0.012516      0.102428    -0.122195  9.027448e-01\n",
       "constant_walking   2.502574      0.169588    14.756785  0.000000e+00"
      ]
     },
     "execution_count": 31,
     "metadata": {},
     "output_type": "execute_result"
    }
   ],
   "source": [
    "res_cox1.getEstimatedParameters()"
   ]
  },
  {
   "cell_type": "code",
   "execution_count": 38,
   "id": "2a7494f4",
   "metadata": {
    "tags": []
   },
   "outputs": [
    {
     "name": "stdout",
     "output_type": "stream",
     "text": [
      "LRTuple(message='H0 can be rejected at level 5.0%', statistic=49.127263927997774, threshold=7.814727903251179)\n",
      "LRTuple(message='H0 can be rejected at level 5.0%', statistic=534.4566876591743, threshold=7.814727903251179)\n"
     ]
    }
   ],
   "source": [
    "print(res_cox1.likelihood_ratio_test(res_Model1, 0.05))\n",
    "print(res_cox1.likelihood_ratio_test(res_Model2_ASC, 0.05))"
   ]
  },
  {
   "attachments": {},
   "cell_type": "markdown",
   "id": "767fa616",
   "metadata": {},
   "source": [
    "In this case both model are rejected and so, as we said, we need to keep looking for other models"
   ]
  },
  {
   "cell_type": "code",
   "execution_count": 33,
   "id": "774f91e1",
   "metadata": {
    "tags": []
   },
   "outputs": [],
   "source": [
    "v_w_cox2 = v_walk_Model1  \n",
    "v_c_cox2 = v_cycling_Model1\n",
    "v_pt_cox2 = v_PT_Model1 + beta_cost_interacted * cost_transit\n",
    "v_driving_cox2 = v_driving_Model1 + beta_cost_interacted * cost_driving"
   ]
  },
  {
   "cell_type": "code",
   "execution_count": 34,
   "id": "b04eefff",
   "metadata": {
    "tags": []
   },
   "outputs": [],
   "source": [
    "V_cox2 = {1: v_w_cox2, 2: v_c_cox2, 3: v_pt_cox2, 4: v_driving_cox2}\n",
    "logprob_cox2 = models.loglogit(V_cox2, None, travel_mode)\n",
    "biogeme_cox2 = bio.BIOGEME(database, logprob_cox2)\n",
    "biogeme_cox2.modelName = 'logit_cox2'\n",
    "res_cox2 = biogeme_cox2.estimate()"
   ]
  },
  {
   "cell_type": "code",
   "execution_count": 35,
   "id": "6b9b80d3-4de1-4ca3-82a5-1168cc2b3e1e",
   "metadata": {
    "tags": []
   },
   "outputs": [
    {
     "name": "stdout",
     "output_type": "stream",
     "text": [
      "Number of estimated parameters:\t9\n",
      "Sample size:\t5000\n",
      "Excluded observations:\t0\n",
      "Init log likelihood:\t-6931.472\n",
      "Final log likelihood:\t-4371.267\n",
      "Likelihood ratio test for the init. model:\t5120.411\n",
      "Rho-square for the init. model:\t0.369\n",
      "Rho-square-bar for the init. model:\t0.368\n",
      "Akaike Information Criterion:\t8760.533\n",
      "Bayesian Information Criterion:\t8819.188\n",
      "Final gradient norm:\t8.6372E-04\n",
      "Nbr of threads:\t8\n",
      "\n"
     ]
    }
   ],
   "source": [
    "print(res_cox2.printGeneralStatistics())"
   ]
  },
  {
   "cell_type": "code",
   "execution_count": 36,
   "id": "35194997-a48d-45fb-9744-c9b99f50c92f",
   "metadata": {
    "tags": []
   },
   "outputs": [
    {
     "data": {
      "text/html": [
       "<div>\n",
       "<style scoped>\n",
       "    .dataframe tbody tr th:only-of-type {\n",
       "        vertical-align: middle;\n",
       "    }\n",
       "\n",
       "    .dataframe tbody tr th {\n",
       "        vertical-align: top;\n",
       "    }\n",
       "\n",
       "    .dataframe thead th {\n",
       "        text-align: right;\n",
       "    }\n",
       "</style>\n",
       "<table border=\"1\" class=\"dataframe\">\n",
       "  <thead>\n",
       "    <tr style=\"text-align: right;\">\n",
       "      <th></th>\n",
       "      <th>Value</th>\n",
       "      <th>Rob. Std err</th>\n",
       "      <th>Rob. t-test</th>\n",
       "      <th>Rob. p-value</th>\n",
       "    </tr>\n",
       "  </thead>\n",
       "  <tbody>\n",
       "    <tr>\n",
       "      <th>beta_cost</th>\n",
       "      <td>-0.194854</td>\n",
       "      <td>0.033653</td>\n",
       "      <td>-5.790010</td>\n",
       "      <td>7.038225e-09</td>\n",
       "    </tr>\n",
       "    <tr>\n",
       "      <th>beta_cost_int</th>\n",
       "      <td>0.147775</td>\n",
       "      <td>0.079102</td>\n",
       "      <td>1.868163</td>\n",
       "      <td>6.173939e-02</td>\n",
       "    </tr>\n",
       "    <tr>\n",
       "      <th>beta_time_cycling</th>\n",
       "      <td>-5.450925</td>\n",
       "      <td>0.493378</td>\n",
       "      <td>-11.048165</td>\n",
       "      <td>0.000000e+00</td>\n",
       "    </tr>\n",
       "    <tr>\n",
       "      <th>beta_time_driving</th>\n",
       "      <td>-5.797144</td>\n",
       "      <td>0.384984</td>\n",
       "      <td>-15.058141</td>\n",
       "      <td>0.000000e+00</td>\n",
       "    </tr>\n",
       "    <tr>\n",
       "      <th>beta_time_pt</th>\n",
       "      <td>-3.124660</td>\n",
       "      <td>0.244302</td>\n",
       "      <td>-12.790159</td>\n",
       "      <td>0.000000e+00</td>\n",
       "    </tr>\n",
       "    <tr>\n",
       "      <th>beta_time_walking</th>\n",
       "      <td>-8.165163</td>\n",
       "      <td>0.386227</td>\n",
       "      <td>-21.140848</td>\n",
       "      <td>0.000000e+00</td>\n",
       "    </tr>\n",
       "    <tr>\n",
       "      <th>constant_cycling</th>\n",
       "      <td>-2.559675</td>\n",
       "      <td>0.150780</td>\n",
       "      <td>-16.976168</td>\n",
       "      <td>0.000000e+00</td>\n",
       "    </tr>\n",
       "    <tr>\n",
       "      <th>constant_pt</th>\n",
       "      <td>-0.406721</td>\n",
       "      <td>0.069511</td>\n",
       "      <td>-5.851144</td>\n",
       "      <td>4.882045e-09</td>\n",
       "    </tr>\n",
       "    <tr>\n",
       "      <th>constant_walking</th>\n",
       "      <td>1.933683</td>\n",
       "      <td>0.129094</td>\n",
       "      <td>14.978860</td>\n",
       "      <td>0.000000e+00</td>\n",
       "    </tr>\n",
       "  </tbody>\n",
       "</table>\n",
       "</div>"
      ],
      "text/plain": [
       "                      Value  Rob. Std err  Rob. t-test  Rob. p-value\n",
       "beta_cost         -0.194854      0.033653    -5.790010  7.038225e-09\n",
       "beta_cost_int      0.147775      0.079102     1.868163  6.173939e-02\n",
       "beta_time_cycling -5.450925      0.493378   -11.048165  0.000000e+00\n",
       "beta_time_driving -5.797144      0.384984   -15.058141  0.000000e+00\n",
       "beta_time_pt      -3.124660      0.244302   -12.790159  0.000000e+00\n",
       "beta_time_walking -8.165163      0.386227   -21.140848  0.000000e+00\n",
       "constant_cycling  -2.559675      0.150780   -16.976168  0.000000e+00\n",
       "constant_pt       -0.406721      0.069511    -5.851144  4.882045e-09\n",
       "constant_walking   1.933683      0.129094    14.978860  0.000000e+00"
      ]
     },
     "execution_count": 36,
     "metadata": {},
     "output_type": "execute_result"
    }
   ],
   "source": [
    "res_cox2.getEstimatedParameters()"
   ]
  },
  {
   "cell_type": "code",
   "execution_count": 37,
   "id": "f41d8b18",
   "metadata": {
    "tags": []
   },
   "outputs": [
    {
     "name": "stdout",
     "output_type": "stream",
     "text": [
      "LRTuple(message='H0 cannot be rejected at level 5.0%', statistic=3.288482000320073, threshold=3.841458820694124)\n",
      "LRTuple(message='H0 can be rejected at level 5.0%', statistic=32.08931386668337, threshold=3.841458820694124)\n"
     ]
    }
   ],
   "source": [
    "print(res_cox2.likelihood_ratio_test(res_Model1, 0.05))\n",
    "print(res_cox2.likelihood_ratio_test(res_Model2_cost, 0.05))"
   ]
  },
  {
   "attachments": {},
   "cell_type": "markdown",
   "id": "d8549643-3da9-4bdf-9471-e053b4f7d5e2",
   "metadata": {},
   "source": [
    "Preferred model is Model 1"
   ]
  },
  {
   "attachments": {},
   "cell_type": "markdown",
   "id": "2f486b81",
   "metadata": {},
   "source": [
    "# Model 3: #"
   ]
  },
  {
   "attachments": {},
   "cell_type": "markdown",
   "id": "5a4ee618",
   "metadata": {},
   "source": [
    "We would like to apply the boxcox transofrmation to the time variables. Our choice is based on the fact that we think it's more likely to change the perception of time in a non linear way, when the duration of a travel increases, especially in context such as walking or cycling. Anyway, since we want to be sure that our assumption does not bias the model too much, we are going to apply the boxcox transformation which depending on lambda parameter will give us a wider range of correlation between the time and its perception. "
   ]
  },
  {
   "cell_type": "code",
   "execution_count": 42,
   "id": "33d17d32",
   "metadata": {},
   "outputs": [],
   "source": [
    "lambda_boxcox_w = Beta('lambda_boxcox_w', 1, -10, 10, 0)\n",
    "lambda_boxcox_c = Beta('lambda_boxcox_c', 1, -10, 10, 0)\n",
    "lambda_boxcox_pt = Beta('lambda_boxcox_pt', 1, -10, 10, 0)\n",
    "lambda_boxcox_driving = Beta('lambda_boxcox_driving', 1, -10, 10, 0)\n",
    "boxcox_time_w = models.boxcox(dur_walking, lambda_boxcox_w)\n",
    "boxcox_time_c = models.boxcox(dur_cycling, lambda_boxcox_c)\n",
    "boxcox_time_pt = models.boxcox(dur_pt, lambda_boxcox_pt)\n",
    "boxcox_time_driving = models.boxcox(dur_driving, lambda_boxcox_driving)"
   ]
  },
  {
   "cell_type": "code",
   "execution_count": 43,
   "id": "eac9210e",
   "metadata": {},
   "outputs": [],
   "source": [
    "v_w_Model3 = (\n",
    "    constant_walking\n",
    "    + beta_time_walking * boxcox_time_w\n",
    ")\n",
    "\n",
    "v_c_Model3 = (\n",
    "    constant_cycling\n",
    "    + beta_time_cycling * boxcox_time_c\n",
    ")\n",
    "\n",
    "v_pt_Model3= (\n",
    "    constant_pt\n",
    "    + beta_cost * cost_transit    \n",
    "    + beta_time_pt * boxcox_time_pt\n",
    ")\n",
    "\n",
    "v_driving_Model3 = (\n",
    "    beta_cost * cost_driving\n",
    "    + beta_time_driving * boxcox_time_driving\n",
    ")"
   ]
  },
  {
   "cell_type": "code",
   "execution_count": 44,
   "id": "6a1165d0",
   "metadata": {},
   "outputs": [],
   "source": [
    "v_Model3 = {1: v_w_Model3, 2: v_c_Model3, 3: v_pt_Model3, 4: v_driving_Model3}\n",
    "logprob_Model3 = models.loglogit(v_Model3, None, travel_mode)\n",
    "biogeme_Model3 = bio.BIOGEME(database, logprob_Model3)\n",
    "biogeme_Model3.modelName = 'logit_Model3'\n",
    "res_Model3 = biogeme_Model3.estimate()\n"
   ]
  },
  {
   "cell_type": "code",
   "execution_count": 45,
   "id": "e1905ad9",
   "metadata": {},
   "outputs": [
    {
     "data": {
      "text/html": [
       "<div>\n",
       "<style scoped>\n",
       "    .dataframe tbody tr th:only-of-type {\n",
       "        vertical-align: middle;\n",
       "    }\n",
       "\n",
       "    .dataframe tbody tr th {\n",
       "        vertical-align: top;\n",
       "    }\n",
       "\n",
       "    .dataframe thead th {\n",
       "        text-align: right;\n",
       "    }\n",
       "</style>\n",
       "<table border=\"1\" class=\"dataframe\">\n",
       "  <thead>\n",
       "    <tr style=\"text-align: right;\">\n",
       "      <th></th>\n",
       "      <th>Value</th>\n",
       "      <th>Rob. Std err</th>\n",
       "      <th>Rob. t-test</th>\n",
       "      <th>Rob. p-value</th>\n",
       "    </tr>\n",
       "  </thead>\n",
       "  <tbody>\n",
       "    <tr>\n",
       "      <th>beta_cost</th>\n",
       "      <td>-0.121931</td>\n",
       "      <td>0.013848</td>\n",
       "      <td>-8.805163</td>\n",
       "      <td>0.000000e+00</td>\n",
       "    </tr>\n",
       "    <tr>\n",
       "      <th>beta_time_cycling</th>\n",
       "      <td>-3.219416</td>\n",
       "      <td>0.508661</td>\n",
       "      <td>-6.329198</td>\n",
       "      <td>2.464391e-10</td>\n",
       "    </tr>\n",
       "    <tr>\n",
       "      <th>beta_time_driving</th>\n",
       "      <td>-3.376682</td>\n",
       "      <td>0.296580</td>\n",
       "      <td>-11.385409</td>\n",
       "      <td>0.000000e+00</td>\n",
       "    </tr>\n",
       "    <tr>\n",
       "      <th>beta_time_pt</th>\n",
       "      <td>-3.551234</td>\n",
       "      <td>0.337464</td>\n",
       "      <td>-10.523293</td>\n",
       "      <td>0.000000e+00</td>\n",
       "    </tr>\n",
       "    <tr>\n",
       "      <th>beta_time_walking</th>\n",
       "      <td>-5.256316</td>\n",
       "      <td>0.379644</td>\n",
       "      <td>-13.845368</td>\n",
       "      <td>0.000000e+00</td>\n",
       "    </tr>\n",
       "    <tr>\n",
       "      <th>constant_cycling</th>\n",
       "      <td>-2.329929</td>\n",
       "      <td>0.260703</td>\n",
       "      <td>-8.937104</td>\n",
       "      <td>0.000000e+00</td>\n",
       "    </tr>\n",
       "    <tr>\n",
       "      <th>constant_pt</th>\n",
       "      <td>1.539500</td>\n",
       "      <td>0.140732</td>\n",
       "      <td>10.939190</td>\n",
       "      <td>0.000000e+00</td>\n",
       "    </tr>\n",
       "    <tr>\n",
       "      <th>constant_walking</th>\n",
       "      <td>0.099235</td>\n",
       "      <td>0.282442</td>\n",
       "      <td>0.351345</td>\n",
       "      <td>7.253293e-01</td>\n",
       "    </tr>\n",
       "    <tr>\n",
       "      <th>lambda_boxcox_c</th>\n",
       "      <td>0.279432</td>\n",
       "      <td>0.129578</td>\n",
       "      <td>2.156483</td>\n",
       "      <td>3.104598e-02</td>\n",
       "    </tr>\n",
       "    <tr>\n",
       "      <th>lambda_boxcox_driving</th>\n",
       "      <td>0.320108</td>\n",
       "      <td>0.057551</td>\n",
       "      <td>5.562126</td>\n",
       "      <td>2.665073e-08</td>\n",
       "    </tr>\n",
       "    <tr>\n",
       "      <th>lambda_boxcox_pt</th>\n",
       "      <td>0.753032</td>\n",
       "      <td>0.133095</td>\n",
       "      <td>5.657848</td>\n",
       "      <td>1.532827e-08</td>\n",
       "    </tr>\n",
       "    <tr>\n",
       "      <th>lambda_boxcox_w</th>\n",
       "      <td>0.306419</td>\n",
       "      <td>0.069256</td>\n",
       "      <td>4.424418</td>\n",
       "      <td>9.670259e-06</td>\n",
       "    </tr>\n",
       "  </tbody>\n",
       "</table>\n",
       "</div>"
      ],
      "text/plain": [
       "                          Value  Rob. Std err  Rob. t-test  Rob. p-value\n",
       "beta_cost             -0.121931      0.013848    -8.805163  0.000000e+00\n",
       "beta_time_cycling     -3.219416      0.508661    -6.329198  2.464391e-10\n",
       "beta_time_driving     -3.376682      0.296580   -11.385409  0.000000e+00\n",
       "beta_time_pt          -3.551234      0.337464   -10.523293  0.000000e+00\n",
       "beta_time_walking     -5.256316      0.379644   -13.845368  0.000000e+00\n",
       "constant_cycling      -2.329929      0.260703    -8.937104  0.000000e+00\n",
       "constant_pt            1.539500      0.140732    10.939190  0.000000e+00\n",
       "constant_walking       0.099235      0.282442     0.351345  7.253293e-01\n",
       "lambda_boxcox_c        0.279432      0.129578     2.156483  3.104598e-02\n",
       "lambda_boxcox_driving  0.320108      0.057551     5.562126  2.665073e-08\n",
       "lambda_boxcox_pt       0.753032      0.133095     5.657848  1.532827e-08\n",
       "lambda_boxcox_w        0.306419      0.069256     4.424418  9.670259e-06"
      ]
     },
     "execution_count": 45,
     "metadata": {},
     "output_type": "execute_result"
    }
   ],
   "source": [
    "res_Model3.getEstimatedParameters()"
   ]
  },
  {
   "attachments": {},
   "cell_type": "markdown",
   "id": "8c896f20",
   "metadata": {},
   "source": [
    "The estiamted lambdas are quite different, and this leaves us happy, especially the lambda_boxcox_pt is close to 1 that means it's close to be linear (whihc we expected since on public transport you may not feel too much difference between the first minutes and the last ones, since as we've already said you're able to rest or to do other stuffs). Another interesting fact we can notice is that all lambdas are smaller than 1 which means that the more we increase the time the less impact we get on the individual. The signs of the betas are still coherent and the order of ASCs reamins as usual. Looking at t-test values, we see that all of them are gratetr in absoulte value than 1.96, except for ASC_walking, which results to be quite low meaning that this is not really significant."
   ]
  },
  {
   "cell_type": "code",
   "execution_count": 48,
   "id": "c1abe91f",
   "metadata": {},
   "outputs": [
    {
     "data": {
      "text/plain": [
       "LRTuple(message='H0 can be rejected at level 5.0%', statistic=190.7572699829543, threshold=9.487729036781154)"
      ]
     },
     "execution_count": 48,
     "metadata": {},
     "output_type": "execute_result"
    }
   ],
   "source": [
    "res_Model3.likelihood_ratio_test(res_Model1, 0.05)"
   ]
  },
  {
   "attachments": {},
   "cell_type": "markdown",
   "id": "b53972c5",
   "metadata": {},
   "source": [
    "We applied the likelihood ratio test since boxcox transformation can be resricted to model 1 (linear) by putting all the lambdas to 1. The result seems good and so now our preferred model in Model3, this confirms our intial assumptions about different perception of time."
   ]
  },
  {
   "attachments": {},
   "cell_type": "markdown",
   "id": "7fc415d7",
   "metadata": {},
   "source": [
    "# Model 4: #"
   ]
  },
  {
   "attachments": {},
   "cell_type": "markdown",
   "id": "106c0c82",
   "metadata": {},
   "source": [
    "We choose to test a nested structure. Divding our options in MOTORIZED and UNMOTORIZED (fare grafi su latex). The division seems reasonable to us since when you have to decide a travel mode, at least in our case, the flow of thoughts usually starts from deciding if we want to go with a motorized or unmotorized alternative, depending on how fast do we have to be, on how do we phisically fell and on other factors such as weather conditions.\n",
    "We also thought about a division between public and private transport choices but we prefered the above mentioned one since public transport modes are all put together under a single alternative and hence the division would not be a lot siginficant"
   ]
  },
  {
   "cell_type": "code",
   "execution_count": null,
   "id": "5b509ee8",
   "metadata": {},
   "outputs": [],
   "source": [
    "motorized = Beta('motorized', 0, None, None, 0)"
   ]
  }
 ],
 "metadata": {
  "kernelspec": {
   "display_name": "Python3",
   "language": "python",
   "name": "python3"
  },
  "language_info": {
   "codemirror_mode": {
    "name": "ipython",
    "version": 3
   },
   "file_extension": ".py",
   "mimetype": "text/x-python",
   "name": "python",
   "nbconvert_exporter": "python",
   "pygments_lexer": "ipython3",
   "version": "3.10.9"
  }
 },
 "nbformat": 4,
 "nbformat_minor": 5
}
