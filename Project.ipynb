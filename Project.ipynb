{
 "cells": [
  {
   "cell_type": "markdown",
   "id": "f2135566-ce0d-474b-a8f5-0f44d3286f9b",
   "metadata": {},
   "source": [
    "# PROJECT:"
   ]
  },
  {
   "cell_type": "code",
   "execution_count": 2,
   "id": "51b24542-28a3-45f2-a657-f8a1e515bc7f",
   "metadata": {
    "tags": []
   },
   "outputs": [],
   "source": [
    "import pandas as pd\n",
    "import biogeme.database as db\n",
    "import biogeme.biogeme as bio\n",
    "from biogeme.expressions import Beta, Variable\n",
    "from biogeme import models\n",
    "from biogeme import results as res"
   ]
  },
  {
   "cell_type": "code",
   "execution_count": 3,
   "id": "8c3bc098-5d11-4b19-8a4f-318cd4c7332d",
   "metadata": {
    "tags": []
   },
   "outputs": [
    {
     "data": {
      "text/html": [
       "<div>\n",
       "<style scoped>\n",
       "    .dataframe tbody tr th:only-of-type {\n",
       "        vertical-align: middle;\n",
       "    }\n",
       "\n",
       "    .dataframe tbody tr th {\n",
       "        vertical-align: top;\n",
       "    }\n",
       "\n",
       "    .dataframe thead th {\n",
       "        text-align: right;\n",
       "    }\n",
       "</style>\n",
       "<table border=\"1\" class=\"dataframe\">\n",
       "  <thead>\n",
       "    <tr style=\"text-align: right;\">\n",
       "      <th></th>\n",
       "      <th>trip_id</th>\n",
       "      <th>household_id</th>\n",
       "      <th>person_n</th>\n",
       "      <th>trip_n</th>\n",
       "      <th>travel_mode</th>\n",
       "      <th>purpose</th>\n",
       "      <th>fueltype</th>\n",
       "      <th>faretype</th>\n",
       "      <th>bus_scale</th>\n",
       "      <th>survey_year</th>\n",
       "      <th>...</th>\n",
       "      <th>dur_pt_access</th>\n",
       "      <th>dur_pt_rail</th>\n",
       "      <th>dur_pt_bus</th>\n",
       "      <th>dur_pt_int</th>\n",
       "      <th>pt_interchanges</th>\n",
       "      <th>dur_driving</th>\n",
       "      <th>cost_transit</th>\n",
       "      <th>cost_driving_fuel</th>\n",
       "      <th>cost_driving_ccharge</th>\n",
       "      <th>driving_traffic_percent</th>\n",
       "    </tr>\n",
       "  </thead>\n",
       "  <tbody>\n",
       "    <tr>\n",
       "      <th>0</th>\n",
       "      <td>1</td>\n",
       "      <td>0</td>\n",
       "      <td>0</td>\n",
       "      <td>1</td>\n",
       "      <td>4</td>\n",
       "      <td>3</td>\n",
       "      <td>1</td>\n",
       "      <td>1</td>\n",
       "      <td>1.0</td>\n",
       "      <td>1</td>\n",
       "      <td>...</td>\n",
       "      <td>0.109444</td>\n",
       "      <td>0.000000</td>\n",
       "      <td>0.055556</td>\n",
       "      <td>0.000000</td>\n",
       "      <td>0</td>\n",
       "      <td>0.059444</td>\n",
       "      <td>1.5</td>\n",
       "      <td>0.15</td>\n",
       "      <td>0.0</td>\n",
       "      <td>0.112150</td>\n",
       "    </tr>\n",
       "    <tr>\n",
       "      <th>1</th>\n",
       "      <td>13</td>\n",
       "      <td>1</td>\n",
       "      <td>1</td>\n",
       "      <td>1</td>\n",
       "      <td>4</td>\n",
       "      <td>3</td>\n",
       "      <td>1</td>\n",
       "      <td>5</td>\n",
       "      <td>0.0</td>\n",
       "      <td>1</td>\n",
       "      <td>...</td>\n",
       "      <td>0.241389</td>\n",
       "      <td>0.000000</td>\n",
       "      <td>0.122222</td>\n",
       "      <td>0.000000</td>\n",
       "      <td>0</td>\n",
       "      <td>0.132222</td>\n",
       "      <td>0.0</td>\n",
       "      <td>0.50</td>\n",
       "      <td>0.0</td>\n",
       "      <td>0.065126</td>\n",
       "    </tr>\n",
       "    <tr>\n",
       "      <th>2</th>\n",
       "      <td>19</td>\n",
       "      <td>4</td>\n",
       "      <td>0</td>\n",
       "      <td>1</td>\n",
       "      <td>3</td>\n",
       "      <td>3</td>\n",
       "      <td>6</td>\n",
       "      <td>5</td>\n",
       "      <td>0.0</td>\n",
       "      <td>1</td>\n",
       "      <td>...</td>\n",
       "      <td>0.222500</td>\n",
       "      <td>0.000000</td>\n",
       "      <td>0.312222</td>\n",
       "      <td>0.000000</td>\n",
       "      <td>0</td>\n",
       "      <td>0.221667</td>\n",
       "      <td>0.0</td>\n",
       "      <td>0.56</td>\n",
       "      <td>0.0</td>\n",
       "      <td>0.086466</td>\n",
       "    </tr>\n",
       "    <tr>\n",
       "      <th>3</th>\n",
       "      <td>20</td>\n",
       "      <td>5</td>\n",
       "      <td>1</td>\n",
       "      <td>0</td>\n",
       "      <td>4</td>\n",
       "      <td>3</td>\n",
       "      <td>1</td>\n",
       "      <td>5</td>\n",
       "      <td>0.0</td>\n",
       "      <td>1</td>\n",
       "      <td>...</td>\n",
       "      <td>0.381667</td>\n",
       "      <td>0.000000</td>\n",
       "      <td>0.062222</td>\n",
       "      <td>0.000000</td>\n",
       "      <td>0</td>\n",
       "      <td>0.117222</td>\n",
       "      <td>0.0</td>\n",
       "      <td>0.41</td>\n",
       "      <td>0.0</td>\n",
       "      <td>0.097156</td>\n",
       "    </tr>\n",
       "    <tr>\n",
       "      <th>4</th>\n",
       "      <td>39</td>\n",
       "      <td>9</td>\n",
       "      <td>2</td>\n",
       "      <td>0</td>\n",
       "      <td>4</td>\n",
       "      <td>3</td>\n",
       "      <td>1</td>\n",
       "      <td>5</td>\n",
       "      <td>0.0</td>\n",
       "      <td>1</td>\n",
       "      <td>...</td>\n",
       "      <td>0.146944</td>\n",
       "      <td>0.000000</td>\n",
       "      <td>0.225000</td>\n",
       "      <td>0.000000</td>\n",
       "      <td>0</td>\n",
       "      <td>0.200833</td>\n",
       "      <td>0.0</td>\n",
       "      <td>0.48</td>\n",
       "      <td>0.0</td>\n",
       "      <td>0.378976</td>\n",
       "    </tr>\n",
       "    <tr>\n",
       "      <th>...</th>\n",
       "      <td>...</td>\n",
       "      <td>...</td>\n",
       "      <td>...</td>\n",
       "      <td>...</td>\n",
       "      <td>...</td>\n",
       "      <td>...</td>\n",
       "      <td>...</td>\n",
       "      <td>...</td>\n",
       "      <td>...</td>\n",
       "      <td>...</td>\n",
       "      <td>...</td>\n",
       "      <td>...</td>\n",
       "      <td>...</td>\n",
       "      <td>...</td>\n",
       "      <td>...</td>\n",
       "      <td>...</td>\n",
       "      <td>...</td>\n",
       "      <td>...</td>\n",
       "      <td>...</td>\n",
       "      <td>...</td>\n",
       "      <td>...</td>\n",
       "    </tr>\n",
       "    <tr>\n",
       "      <th>4995</th>\n",
       "      <td>81035</td>\n",
       "      <td>17603</td>\n",
       "      <td>1</td>\n",
       "      <td>1</td>\n",
       "      <td>3</td>\n",
       "      <td>1</td>\n",
       "      <td>1</td>\n",
       "      <td>1</td>\n",
       "      <td>1.0</td>\n",
       "      <td>3</td>\n",
       "      <td>...</td>\n",
       "      <td>0.278056</td>\n",
       "      <td>0.216667</td>\n",
       "      <td>0.000000</td>\n",
       "      <td>0.000000</td>\n",
       "      <td>0</td>\n",
       "      <td>0.392222</td>\n",
       "      <td>2.4</td>\n",
       "      <td>0.98</td>\n",
       "      <td>0.0</td>\n",
       "      <td>0.547450</td>\n",
       "    </tr>\n",
       "    <tr>\n",
       "      <th>4996</th>\n",
       "      <td>81040</td>\n",
       "      <td>17604</td>\n",
       "      <td>2</td>\n",
       "      <td>0</td>\n",
       "      <td>3</td>\n",
       "      <td>1</td>\n",
       "      <td>1</td>\n",
       "      <td>2</td>\n",
       "      <td>0.0</td>\n",
       "      <td>3</td>\n",
       "      <td>...</td>\n",
       "      <td>0.264444</td>\n",
       "      <td>0.000000</td>\n",
       "      <td>0.353333</td>\n",
       "      <td>0.176667</td>\n",
       "      <td>1</td>\n",
       "      <td>0.288889</td>\n",
       "      <td>0.0</td>\n",
       "      <td>0.85</td>\n",
       "      <td>0.0</td>\n",
       "      <td>0.175000</td>\n",
       "    </tr>\n",
       "    <tr>\n",
       "      <th>4997</th>\n",
       "      <td>81045</td>\n",
       "      <td>17605</td>\n",
       "      <td>0</td>\n",
       "      <td>1</td>\n",
       "      <td>4</td>\n",
       "      <td>3</td>\n",
       "      <td>1</td>\n",
       "      <td>5</td>\n",
       "      <td>0.0</td>\n",
       "      <td>3</td>\n",
       "      <td>...</td>\n",
       "      <td>0.128889</td>\n",
       "      <td>0.000000</td>\n",
       "      <td>0.045833</td>\n",
       "      <td>0.000000</td>\n",
       "      <td>0</td>\n",
       "      <td>0.067778</td>\n",
       "      <td>0.0</td>\n",
       "      <td>0.17</td>\n",
       "      <td>0.0</td>\n",
       "      <td>0.024590</td>\n",
       "    </tr>\n",
       "    <tr>\n",
       "      <th>4998</th>\n",
       "      <td>81066</td>\n",
       "      <td>17608</td>\n",
       "      <td>0</td>\n",
       "      <td>3</td>\n",
       "      <td>3</td>\n",
       "      <td>3</td>\n",
       "      <td>6</td>\n",
       "      <td>1</td>\n",
       "      <td>1.0</td>\n",
       "      <td>3</td>\n",
       "      <td>...</td>\n",
       "      <td>0.092222</td>\n",
       "      <td>0.000000</td>\n",
       "      <td>0.389444</td>\n",
       "      <td>0.000000</td>\n",
       "      <td>0</td>\n",
       "      <td>0.193333</td>\n",
       "      <td>1.5</td>\n",
       "      <td>0.61</td>\n",
       "      <td>0.0</td>\n",
       "      <td>0.485632</td>\n",
       "    </tr>\n",
       "    <tr>\n",
       "      <th>4999</th>\n",
       "      <td>81073</td>\n",
       "      <td>17610</td>\n",
       "      <td>1</td>\n",
       "      <td>0</td>\n",
       "      <td>4</td>\n",
       "      <td>3</td>\n",
       "      <td>2</td>\n",
       "      <td>1</td>\n",
       "      <td>1.0</td>\n",
       "      <td>3</td>\n",
       "      <td>...</td>\n",
       "      <td>0.206111</td>\n",
       "      <td>0.000000</td>\n",
       "      <td>0.400000</td>\n",
       "      <td>0.000000</td>\n",
       "      <td>0</td>\n",
       "      <td>0.259167</td>\n",
       "      <td>1.5</td>\n",
       "      <td>0.88</td>\n",
       "      <td>0.0</td>\n",
       "      <td>0.233655</td>\n",
       "    </tr>\n",
       "  </tbody>\n",
       "</table>\n",
       "<p>5000 rows × 32 columns</p>\n",
       "</div>"
      ],
      "text/plain": [
       "      trip_id  household_id  person_n  trip_n  travel_mode  purpose  fueltype  \\\n",
       "0           1             0         0       1            4        3         1   \n",
       "1          13             1         1       1            4        3         1   \n",
       "2          19             4         0       1            3        3         6   \n",
       "3          20             5         1       0            4        3         1   \n",
       "4          39             9         2       0            4        3         1   \n",
       "...       ...           ...       ...     ...          ...      ...       ...   \n",
       "4995    81035         17603         1       1            3        1         1   \n",
       "4996    81040         17604         2       0            3        1         1   \n",
       "4997    81045         17605         0       1            4        3         1   \n",
       "4998    81066         17608         0       3            3        3         6   \n",
       "4999    81073         17610         1       0            4        3         2   \n",
       "\n",
       "      faretype  bus_scale  survey_year  ...  dur_pt_access  dur_pt_rail  \\\n",
       "0            1        1.0            1  ...       0.109444     0.000000   \n",
       "1            5        0.0            1  ...       0.241389     0.000000   \n",
       "2            5        0.0            1  ...       0.222500     0.000000   \n",
       "3            5        0.0            1  ...       0.381667     0.000000   \n",
       "4            5        0.0            1  ...       0.146944     0.000000   \n",
       "...        ...        ...          ...  ...            ...          ...   \n",
       "4995         1        1.0            3  ...       0.278056     0.216667   \n",
       "4996         2        0.0            3  ...       0.264444     0.000000   \n",
       "4997         5        0.0            3  ...       0.128889     0.000000   \n",
       "4998         1        1.0            3  ...       0.092222     0.000000   \n",
       "4999         1        1.0            3  ...       0.206111     0.000000   \n",
       "\n",
       "      dur_pt_bus  dur_pt_int  pt_interchanges  dur_driving  cost_transit  \\\n",
       "0       0.055556    0.000000                0     0.059444           1.5   \n",
       "1       0.122222    0.000000                0     0.132222           0.0   \n",
       "2       0.312222    0.000000                0     0.221667           0.0   \n",
       "3       0.062222    0.000000                0     0.117222           0.0   \n",
       "4       0.225000    0.000000                0     0.200833           0.0   \n",
       "...          ...         ...              ...          ...           ...   \n",
       "4995    0.000000    0.000000                0     0.392222           2.4   \n",
       "4996    0.353333    0.176667                1     0.288889           0.0   \n",
       "4997    0.045833    0.000000                0     0.067778           0.0   \n",
       "4998    0.389444    0.000000                0     0.193333           1.5   \n",
       "4999    0.400000    0.000000                0     0.259167           1.5   \n",
       "\n",
       "      cost_driving_fuel  cost_driving_ccharge  driving_traffic_percent  \n",
       "0                  0.15                   0.0                 0.112150  \n",
       "1                  0.50                   0.0                 0.065126  \n",
       "2                  0.56                   0.0                 0.086466  \n",
       "3                  0.41                   0.0                 0.097156  \n",
       "4                  0.48                   0.0                 0.378976  \n",
       "...                 ...                   ...                      ...  \n",
       "4995               0.98                   0.0                 0.547450  \n",
       "4996               0.85                   0.0                 0.175000  \n",
       "4997               0.17                   0.0                 0.024590  \n",
       "4998               0.61                   0.0                 0.485632  \n",
       "4999               0.88                   0.0                 0.233655  \n",
       "\n",
       "[5000 rows x 32 columns]"
      ]
     },
     "execution_count": 3,
     "metadata": {},
     "output_type": "execute_result"
    }
   ],
   "source": [
    "df = pd.read_table('lpmc11.dat')\n",
    "database = db.Database('lpmc', df)\n",
    "df"
   ]
  },
  {
   "cell_type": "markdown",
   "id": "0bdc5c33-5064-4fca-90d7-0ea950095a47",
   "metadata": {},
   "source": [
    "# Model 0"
   ]
  },
  {
   "cell_type": "markdown",
   "id": "58aaae9a-75d7-4b0b-a949-936d0fb817be",
   "metadata": {},
   "source": [
    "**Variables:**"
   ]
  },
  {
   "cell_type": "code",
   "execution_count": 4,
   "id": "c6effdc7-98fa-4efa-9ed1-bc14b99812d5",
   "metadata": {
    "tags": []
   },
   "outputs": [],
   "source": [
    "dur_walking = Variable('dur_walking') #time for walking\n",
    "dur_cycling = Variable('dur_cycling') #time for cycling\n",
    "\n",
    "dur_pt_access = Variable('dur_pt_access')\n",
    "dur_pt_rail = Variable('dur_pt_rail')\n",
    "dur_pt_bus = Variable('dur_pt_bus')\n",
    "dur_pt_int = Variable('dur_pt_int')\n",
    "\n",
    "dur_pt = dur_pt_access + dur_pt_rail + dur_pt_bus + dur_pt_int #total time for public transport\n",
    "dur_driving = Variable('dur_driving')\n",
    "\n",
    "cost_transit = Variable('cost_transit') #cost for public transport\n",
    "cost_driving_fuel = Variable('cost_driving_fuel')\n",
    "cost_driving_ccharge = Variable('cost_driving_ccharge')\n",
    "\n",
    "cost_driving = cost_driving_fuel + cost_driving_ccharge #total cost for driving\n",
    "\n",
    "travel_mode = Variable('travel_mode') #Choice"
   ]
  },
  {
   "cell_type": "markdown",
   "id": "313a7ef7-dcbe-4a85-8958-839aa6412522",
   "metadata": {},
   "source": [
    "**Parameters:**"
   ]
  },
  {
   "cell_type": "code",
   "execution_count": 5,
   "id": "0e411bac-4df7-4ff2-9bb7-afc8ab4a8d16",
   "metadata": {
    "tags": []
   },
   "outputs": [],
   "source": [
    "constant_walking = Beta('constant_walking', 0, None, None, 0)\n",
    "constant_cycling = Beta('constant_cycling', 0, None, None, 0)\n",
    "constant_pt = Beta('constant_pt', 0, None, None, 0)\n",
    "beta_cost = Beta('beta_cost', 0, None, None, 0)\n",
    "beta_time = Beta('beta_time', 0, None, None, 0)"
   ]
  },
  {
   "cell_type": "code",
   "execution_count": 6,
   "id": "60205714-9fdb-452a-9224-7f0767b8d15c",
   "metadata": {
    "tags": []
   },
   "outputs": [],
   "source": [
    "v_walk_Model0 = (\n",
    "    constant_walking\n",
    "    + beta_time * dur_walking\n",
    ")\n",
    "\n",
    "v_cycling_Model0 = (\n",
    "    constant_cycling\n",
    "    + beta_time * dur_cycling\n",
    ")\n",
    "\n",
    "v_PT_Model0 = (\n",
    "    constant_pt\n",
    "    + beta_cost * cost_transit\n",
    "    + beta_time * dur_pt\n",
    ")\n",
    "\n",
    "v_driving_Model0 = (\n",
    "    beta_cost * cost_driving\n",
    "    + beta_time * dur_driving\n",
    ")"
   ]
  },
  {
   "cell_type": "code",
   "execution_count": 7,
   "id": "af94f7f7-611e-4631-b1c5-dbbe17b49fa1",
   "metadata": {
    "tags": []
   },
   "outputs": [],
   "source": [
    "V_Model0 = {1: v_walk_Model0, 2: v_cycling_Model0, 3: v_PT_Model0, 4: v_driving_Model0}\n",
    "logprob_Model0 = models.loglogit(V_Model0, None, travel_mode)\n",
    "biogeme_Model0 = bio.BIOGEME(database, logprob_Model0) #create the biogeme estimator\n",
    "biogeme_Model0.modelName = 'logit_Model0'\n",
    "res_Model0 = biogeme_Model0.estimate()"
   ]
  },
  {
   "cell_type": "code",
   "execution_count": 8,
   "id": "05742613-6ddd-4724-8c49-a937b44f6dac",
   "metadata": {
    "tags": []
   },
   "outputs": [
    {
     "name": "stdout",
     "output_type": "stream",
     "text": [
      "Number of estimated parameters:\t5\n",
      "Sample size:\t5000\n",
      "Excluded observations:\t0\n",
      "Init log likelihood:\t-4676.875\n",
      "Final log likelihood:\t-4676.875\n",
      "Likelihood ratio test for the init. model:\t-0\n",
      "Rho-square for the init. model:\t0\n",
      "Rho-square-bar for the init. model:\t-0.00107\n",
      "Akaike Information Criterion:\t9363.751\n",
      "Bayesian Information Criterion:\t9396.337\n",
      "Final gradient norm:\t2.6771E-04\n",
      "Nbr of threads:\t16\n",
      "\n"
     ]
    }
   ],
   "source": [
    "print(res_Model0.printGeneralStatistics())"
   ]
  },
  {
   "cell_type": "code",
   "execution_count": 9,
   "id": "0703f63d-cde7-4e91-9416-600d21e342e3",
   "metadata": {
    "tags": []
   },
   "outputs": [
    {
     "data": {
      "text/html": [
       "<div>\n",
       "<style scoped>\n",
       "    .dataframe tbody tr th:only-of-type {\n",
       "        vertical-align: middle;\n",
       "    }\n",
       "\n",
       "    .dataframe tbody tr th {\n",
       "        vertical-align: top;\n",
       "    }\n",
       "\n",
       "    .dataframe thead th {\n",
       "        text-align: right;\n",
       "    }\n",
       "</style>\n",
       "<table border=\"1\" class=\"dataframe\">\n",
       "  <thead>\n",
       "    <tr style=\"text-align: right;\">\n",
       "      <th></th>\n",
       "      <th>Value</th>\n",
       "      <th>Rob. Std err</th>\n",
       "      <th>Rob. t-test</th>\n",
       "      <th>Rob. p-value</th>\n",
       "    </tr>\n",
       "  </thead>\n",
       "  <tbody>\n",
       "    <tr>\n",
       "      <th>beta_cost</th>\n",
       "      <td>-0.156585</td>\n",
       "      <td>0.012667</td>\n",
       "      <td>-12.361233</td>\n",
       "      <td>0.0</td>\n",
       "    </tr>\n",
       "    <tr>\n",
       "      <th>beta_time</th>\n",
       "      <td>-5.226955</td>\n",
       "      <td>0.191905</td>\n",
       "      <td>-27.237207</td>\n",
       "      <td>0.0</td>\n",
       "    </tr>\n",
       "    <tr>\n",
       "      <th>constant_cycling</th>\n",
       "      <td>-2.485329</td>\n",
       "      <td>0.086252</td>\n",
       "      <td>-28.814839</td>\n",
       "      <td>0.0</td>\n",
       "    </tr>\n",
       "    <tr>\n",
       "      <th>constant_pt</th>\n",
       "      <td>0.726783</td>\n",
       "      <td>0.047157</td>\n",
       "      <td>15.411971</td>\n",
       "      <td>0.0</td>\n",
       "    </tr>\n",
       "    <tr>\n",
       "      <th>constant_walking</th>\n",
       "      <td>1.187012</td>\n",
       "      <td>0.078799</td>\n",
       "      <td>15.063738</td>\n",
       "      <td>0.0</td>\n",
       "    </tr>\n",
       "  </tbody>\n",
       "</table>\n",
       "</div>"
      ],
      "text/plain": [
       "                     Value  Rob. Std err  Rob. t-test  Rob. p-value\n",
       "beta_cost        -0.156585      0.012667   -12.361233           0.0\n",
       "beta_time        -5.226955      0.191905   -27.237207           0.0\n",
       "constant_cycling -2.485329      0.086252   -28.814839           0.0\n",
       "constant_pt       0.726783      0.047157    15.411971           0.0\n",
       "constant_walking  1.187012      0.078799    15.063738           0.0"
      ]
     },
     "execution_count": 9,
     "metadata": {},
     "output_type": "execute_result"
    }
   ],
   "source": [
    "res_Model0.getEstimatedParameters()"
   ]
  },
  {
   "cell_type": "markdown",
   "id": "a1ef7fec",
   "metadata": {},
   "source": [
    "The sign of the 2 generic coefficent leaves us satisfied. We know it's reasonable that utility is decreased when cost and/or travel time increase. It also seems that time impacts more the utility, since in asbolute value beta_time is higher than beta_cost. Concernig the ASCs, we normalized with respect to ASC_car so this is our baseline. We notice that ASC_walking is the highest so it seems that people, assuiming the same atrributes values, would choose this alternative. Anyway we see that, since the value of beta_time is high in absoulute value, and walking usually requires more time than the others, it will be penalized, as we expected. Cycling seems really disadvantaged, since its ASC is already low, and it has the same beta_time (due to generic coefficent assumption). Significance of value is confirmed by the t-test values that are all above the 1.96 threshold"
   ]
  },
  {
   "cell_type": "markdown",
   "id": "260c1a15-5634-4a9b-aca3-0eb38238a303",
   "metadata": {},
   "source": [
    "# Model 1"
   ]
  },
  {
   "cell_type": "markdown",
   "id": "cda32c68",
   "metadata": {},
   "source": [
    "We decide to split beta_time into 4 alternative specific parameters. Our choice is due to the fact that this coefficent is present in every utility function, and we think it can undergo a wider variation, since time perception is strictly related to the chosen travel mode."
   ]
  },
  {
   "cell_type": "code",
   "execution_count": 10,
   "id": "45dad72b-f02a-4a11-a5e9-c273543d4826",
   "metadata": {
    "tags": []
   },
   "outputs": [],
   "source": [
    "constant_walking = Beta('constant_walking', 0, None, None, 0)\n",
    "constant_cycling = Beta('constant_cycling', 0, None, None, 0)\n",
    "constant_pt = Beta('constant_pt', 0, None, None, 0)\n",
    "beta_cost = Beta('beta_cost', 0, None, None, 0)\n",
    "beta_time_walking = Beta('beta_time_walking', 0, None, None, 0)\n",
    "beta_time_cycling = Beta('beta_time_cycling', 0, None, None, 0)\n",
    "beta_time_pt = Beta('beta_time_pt', 0, None, None, 0)\n",
    "beta_time_driving = Beta('beta_time_driving', 0, None, None, 0)"
   ]
  },
  {
   "cell_type": "code",
   "execution_count": 11,
   "id": "adac2fd2-17cb-4415-9468-a0d876c740fe",
   "metadata": {
    "tags": []
   },
   "outputs": [],
   "source": [
    "v_walk_Model1 = (\n",
    "    constant_walking\n",
    "    + beta_time_walking * dur_walking\n",
    ")\n",
    "\n",
    "v_cycling_Model1 = (\n",
    "    constant_cycling\n",
    "    + beta_time_cycling * dur_cycling\n",
    ")\n",
    "\n",
    "v_PT_Model1 = (\n",
    "    constant_pt\n",
    "    + beta_cost * cost_transit\n",
    "    + beta_time_pt * dur_pt\n",
    ")\n",
    "\n",
    "v_driving_Model1 = (\n",
    "    beta_cost * cost_driving\n",
    "    + beta_time_driving * dur_driving\n",
    ")"
   ]
  },
  {
   "cell_type": "code",
   "execution_count": 12,
   "id": "cca879ec-bb87-4c61-86db-411dbb9b8906",
   "metadata": {
    "tags": []
   },
   "outputs": [],
   "source": [
    "V_Model1 = {1: v_walk_Model1, 2: v_cycling_Model1, 3: v_PT_Model1, 4: v_driving_Model1}\n",
    "logprob_Model1 = models.loglogit(V_Model1, None, travel_mode)\n",
    "biogeme_Model1 = bio.BIOGEME(database, logprob_Model1)\n",
    "biogeme_Model1.modelName = 'logit_Model1'\n",
    "res_Model1 = biogeme_Model1.estimate()"
   ]
  },
  {
   "cell_type": "code",
   "execution_count": 13,
   "id": "200f5cc1-b1e6-4b50-bea7-5c7e66b8106b",
   "metadata": {
    "tags": []
   },
   "outputs": [
    {
     "name": "stdout",
     "output_type": "stream",
     "text": [
      "Number of estimated parameters:\t8\n",
      "Sample size:\t5000\n",
      "Excluded observations:\t0\n",
      "Init log likelihood:\t-4372.911\n",
      "Final log likelihood:\t-4372.911\n",
      "Likelihood ratio test for the init. model:\t4.809772e-07\n",
      "Rho-square for the init. model:\t5.5e-11\n",
      "Rho-square-bar for the init. model:\t-0.00183\n",
      "Akaike Information Criterion:\t8761.822\n",
      "Bayesian Information Criterion:\t8813.959\n",
      "Final gradient norm:\t1.9142E-02\n",
      "Nbr of threads:\t16\n",
      "\n"
     ]
    }
   ],
   "source": [
    "print(res_Model1.printGeneralStatistics())"
   ]
  },
  {
   "cell_type": "code",
   "execution_count": 14,
   "id": "d38a9658-a255-46d4-b3ba-b71bc8747875",
   "metadata": {
    "tags": []
   },
   "outputs": [
    {
     "data": {
      "text/html": [
       "<div>\n",
       "<style scoped>\n",
       "    .dataframe tbody tr th:only-of-type {\n",
       "        vertical-align: middle;\n",
       "    }\n",
       "\n",
       "    .dataframe tbody tr th {\n",
       "        vertical-align: top;\n",
       "    }\n",
       "\n",
       "    .dataframe thead th {\n",
       "        text-align: right;\n",
       "    }\n",
       "</style>\n",
       "<table border=\"1\" class=\"dataframe\">\n",
       "  <thead>\n",
       "    <tr style=\"text-align: right;\">\n",
       "      <th></th>\n",
       "      <th>Value</th>\n",
       "      <th>Rob. Std err</th>\n",
       "      <th>Rob. t-test</th>\n",
       "      <th>Rob. p-value</th>\n",
       "    </tr>\n",
       "  </thead>\n",
       "  <tbody>\n",
       "    <tr>\n",
       "      <th>beta_cost</th>\n",
       "      <td>-0.136285</td>\n",
       "      <td>0.013922</td>\n",
       "      <td>-9.789189</td>\n",
       "      <td>0.000000e+00</td>\n",
       "    </tr>\n",
       "    <tr>\n",
       "      <th>beta_time_cycling</th>\n",
       "      <td>-5.435234</td>\n",
       "      <td>0.492872</td>\n",
       "      <td>-11.027672</td>\n",
       "      <td>0.000000e+00</td>\n",
       "    </tr>\n",
       "    <tr>\n",
       "      <th>beta_time_driving</th>\n",
       "      <td>-5.792795</td>\n",
       "      <td>0.384528</td>\n",
       "      <td>-15.064673</td>\n",
       "      <td>0.000000e+00</td>\n",
       "    </tr>\n",
       "    <tr>\n",
       "      <th>beta_time_pt</th>\n",
       "      <td>-3.126093</td>\n",
       "      <td>0.243834</td>\n",
       "      <td>-12.820570</td>\n",
       "      <td>0.000000e+00</td>\n",
       "    </tr>\n",
       "    <tr>\n",
       "      <th>beta_time_walking</th>\n",
       "      <td>-8.160384</td>\n",
       "      <td>0.386256</td>\n",
       "      <td>-21.126855</td>\n",
       "      <td>0.000000e+00</td>\n",
       "    </tr>\n",
       "    <tr>\n",
       "      <th>constant_cycling</th>\n",
       "      <td>-2.560498</td>\n",
       "      <td>0.150687</td>\n",
       "      <td>-16.992113</td>\n",
       "      <td>0.000000e+00</td>\n",
       "    </tr>\n",
       "    <tr>\n",
       "      <th>constant_pt</th>\n",
       "      <td>-0.406017</td>\n",
       "      <td>0.069442</td>\n",
       "      <td>-5.846820</td>\n",
       "      <td>5.010597e-09</td>\n",
       "    </tr>\n",
       "    <tr>\n",
       "      <th>constant_walking</th>\n",
       "      <td>1.933296</td>\n",
       "      <td>0.129137</td>\n",
       "      <td>14.970913</td>\n",
       "      <td>0.000000e+00</td>\n",
       "    </tr>\n",
       "  </tbody>\n",
       "</table>\n",
       "</div>"
      ],
      "text/plain": [
       "                      Value  Rob. Std err  Rob. t-test  Rob. p-value\n",
       "beta_cost         -0.136285      0.013922    -9.789189  0.000000e+00\n",
       "beta_time_cycling -5.435234      0.492872   -11.027672  0.000000e+00\n",
       "beta_time_driving -5.792795      0.384528   -15.064673  0.000000e+00\n",
       "beta_time_pt      -3.126093      0.243834   -12.820570  0.000000e+00\n",
       "beta_time_walking -8.160384      0.386256   -21.126855  0.000000e+00\n",
       "constant_cycling  -2.560498      0.150687   -16.992113  0.000000e+00\n",
       "constant_pt       -0.406017      0.069442    -5.846820  5.010597e-09\n",
       "constant_walking   1.933296      0.129137    14.970913  0.000000e+00"
      ]
     },
     "execution_count": 14,
     "metadata": {},
     "output_type": "execute_result"
    }
   ],
   "source": [
    "res_Model1.getEstimatedParameters()"
   ]
  },
  {
   "cell_type": "markdown",
   "id": "68d7cd28",
   "metadata": {},
   "source": [
    "As before, signs are reasonable. Concernign the values of the coefficents, we firstly notice that beta_cost reamined pretty much the same and it seems reasonable becuase people usually care how much money they spend rather than for what they do spend. The wide range of values we can see on beta_time strenghtens our initial assumption, in fact we see how beta_walking is really low, since walking requires phisycal effort, while the two alternatives that just require the individual's focus (driving and cycling) are pretty similar and this seems fine. In the end we see that beta_time_PT is instead the lowest in absolute value, and this is logic for us since when you are in public transport you are able to do other activities or just realx without having to mantain focus. Again, as before, ASC-walking is still bigger than car, as cycling is still the lowest. The only change we notice is the sign of ASC_pt, which is probably due to the value of the beta_time_pt we previously analyzed. Significance of value is confirmed by the t-test values that are all above the 1.96 threshold"
   ]
  },
  {
   "cell_type": "code",
   "execution_count": 16,
   "id": "759a97e0-3d96-4972-8018-f55829e91008",
   "metadata": {
    "tags": []
   },
   "outputs": [
    {
     "data": {
      "text/plain": [
       "LRTuple(message='H0 can be rejected at level 1.0%', statistic=607.9289547911903, threshold=11.344866730144373)"
      ]
     },
     "execution_count": 16,
     "metadata": {},
     "output_type": "execute_result"
    }
   ],
   "source": [
    "res_Model1.likelihood_ratio_test(res_Model0, 0.01)"
   ]
  },
  {
   "cell_type": "markdown",
   "id": "e7140489",
   "metadata": {},
   "source": [
    "To compare the 2 models we used the likelihood ratio test. This is doable since model 0 is a linear restriction of model 1 (assuming all the alternative specific beta_time equal). Our null-hypotesis is that the resricted model (in this case model 0) is the true model. We set the significance level of the test to 0,01 and as we can see from the result the null-hypotesis is rejected, hence our preferred model is model 1"
   ]
  },
  {
   "cell_type": "markdown",
   "id": "8651f7d2-e38a-4a2b-aae9-6c23f8847776",
   "metadata": {},
   "source": [
    "# Model 2:"
   ]
  },
  {
   "cell_type": "markdown",
   "id": "97fcebad-bd04-4984-ae80-0f6eda854854",
   "metadata": {},
   "source": [
    "- Interaction of age with ASCs:"
   ]
  },
  {
   "cell_type": "markdown",
   "id": "7b125619",
   "metadata": {},
   "source": [
    "We select 'age' as socio-economic characteristic since we think it has a stornger correlation with the choice of a transport mode rather than sex, which is the other socio-ecomic characteristci we found in the dataset. In fact, if we assume two individuals have the same age, from our experience, their choice (putting all the other parametres equal) would not probably be different. On the other hand, age can impact the choice both from an availability point of view (i.e. young or really old may not have a driving license) and a physical effort one."
   ]
  },
  {
   "cell_type": "code",
   "execution_count": 17,
   "id": "b4bbf003-86ed-494d-82af-c0afd7b635f8",
   "metadata": {
    "tags": []
   },
   "outputs": [],
   "source": [
    "age = Variable('age')"
   ]
  },
  {
   "cell_type": "code",
   "execution_count": 18,
   "id": "430902b3-589f-4872-886b-f8a5b15bf3d9",
   "metadata": {
    "tags": []
   },
   "outputs": [],
   "source": [
    "beta_cost = Beta('beta_cost', 0, None, None, 0)\n",
    "beta_time_walking = Beta('beta_time_walking', 0, None, None, 0)\n",
    "beta_time_cycling = Beta('beta_time_cycling', 0, None, None, 0)\n",
    "beta_time_pt = Beta('beta_time_pt', 0, None, None, 0)\n",
    "beta_time_driving = Beta('beta_time_driving', 0, None, None, 0)\n",
    "ASC_w = Beta('ASC_w', 0, None, None, 0)\n",
    "ASC_c = Beta('ASC_c', 0, None, None, 0)\n",
    "ASC_pt = Beta('ASC_pt', 0, None, None, 0)\n"
   ]
  },
  {
   "cell_type": "code",
   "execution_count": 19,
   "id": "3c8c53ee",
   "metadata": {
    "tags": []
   },
   "outputs": [],
   "source": [
    "interacted_ASC_w = ASC_w * age/99\n",
    "interacted_ASC_c = ASC_c * age/99\n",
    "interacted_ASC_pt = ASC_pt * age/99\n"
   ]
  },
  {
   "cell_type": "code",
   "execution_count": 20,
   "id": "67a63f5b-49e2-4448-be40-e23f2bb7a510",
   "metadata": {
    "tags": []
   },
   "outputs": [],
   "source": [
    "v_w_Model2_ASC = (\n",
    "    interacted_ASC_w\n",
    "    + beta_time_walking * dur_walking\n",
    ")\n",
    "\n",
    "v_c_Model2_ASC = (\n",
    "    interacted_ASC_c\n",
    "    + beta_time_cycling * dur_cycling\n",
    ")\n",
    "\n",
    "v_pt_Model2_ASC = (\n",
    "    interacted_ASC_pt\n",
    "    + beta_cost * cost_transit\n",
    "    + beta_time_pt * dur_pt\n",
    ")\n",
    "\n",
    "v_driving_Model2_ASC = (\n",
    "    beta_cost * cost_driving\n",
    "    + beta_time_driving * dur_driving\n",
    ")"
   ]
  },
  {
   "cell_type": "code",
   "execution_count": 21,
   "id": "a29997a4-1a79-4907-9c1c-3e9e9c0f7aa8",
   "metadata": {
    "tags": []
   },
   "outputs": [],
   "source": [
    "V_Model2_ASC = {1: v_w_Model2_ASC , 2: v_c_Model2_ASC, 3: v_pt_Model2_ASC, 4: v_driving_Model2_ASC}\n",
    "logprob_Model2_ASC = models.loglogit(V_Model2_ASC, None, travel_mode)\n",
    "biogeme_Model2_ASC = bio.BIOGEME(database, logprob_Model2_ASC)\n",
    "biogeme_Model2_ASC.modelName = 'logit_Model2_ASC'\n",
    "res_Model2_ASC = biogeme_Model2_ASC.estimate()"
   ]
  },
  {
   "cell_type": "code",
   "execution_count": 22,
   "id": "38559766-ba43-4bfd-85c9-153ad53a76ea",
   "metadata": {
    "tags": []
   },
   "outputs": [
    {
     "name": "stdout",
     "output_type": "stream",
     "text": [
      "Number of estimated parameters:\t8\n",
      "Sample size:\t5000\n",
      "Excluded observations:\t0\n",
      "Init log likelihood:\t-5359.186\n",
      "Final log likelihood:\t-4615.576\n",
      "Likelihood ratio test for the init. model:\t1487.222\n",
      "Rho-square for the init. model:\t0.139\n",
      "Rho-square-bar for the init. model:\t0.137\n",
      "Akaike Information Criterion:\t9247.151\n",
      "Bayesian Information Criterion:\t9299.289\n",
      "Final gradient norm:\t1.8048E-02\n",
      "Nbr of threads:\t16\n",
      "\n"
     ]
    }
   ],
   "source": [
    "print(res_Model2_ASC.printGeneralStatistics())"
   ]
  },
  {
   "cell_type": "code",
   "execution_count": 23,
   "id": "fcc05cf5-457c-4e0e-b1ae-456431c56a33",
   "metadata": {
    "tags": []
   },
   "outputs": [
    {
     "data": {
      "text/html": [
       "<div>\n",
       "<style scoped>\n",
       "    .dataframe tbody tr th:only-of-type {\n",
       "        vertical-align: middle;\n",
       "    }\n",
       "\n",
       "    .dataframe tbody tr th {\n",
       "        vertical-align: top;\n",
       "    }\n",
       "\n",
       "    .dataframe thead th {\n",
       "        text-align: right;\n",
       "    }\n",
       "</style>\n",
       "<table border=\"1\" class=\"dataframe\">\n",
       "  <thead>\n",
       "    <tr style=\"text-align: right;\">\n",
       "      <th></th>\n",
       "      <th>Value</th>\n",
       "      <th>Rob. Std err</th>\n",
       "      <th>Rob. t-test</th>\n",
       "      <th>Rob. p-value</th>\n",
       "    </tr>\n",
       "  </thead>\n",
       "  <tbody>\n",
       "    <tr>\n",
       "      <th>ASC_c</th>\n",
       "      <td>-4.875802</td>\n",
       "      <td>0.374318</td>\n",
       "      <td>-13.025825</td>\n",
       "      <td>0.000000e+00</td>\n",
       "    </tr>\n",
       "    <tr>\n",
       "      <th>ASC_pt</th>\n",
       "      <td>-0.998232</td>\n",
       "      <td>0.133145</td>\n",
       "      <td>-7.497356</td>\n",
       "      <td>6.505907e-14</td>\n",
       "    </tr>\n",
       "    <tr>\n",
       "      <th>ASC_w</th>\n",
       "      <td>1.532035</td>\n",
       "      <td>0.158595</td>\n",
       "      <td>9.660054</td>\n",
       "      <td>0.000000e+00</td>\n",
       "    </tr>\n",
       "    <tr>\n",
       "      <th>beta_cost</th>\n",
       "      <td>-0.150735</td>\n",
       "      <td>0.014565</td>\n",
       "      <td>-10.348804</td>\n",
       "      <td>0.000000e+00</td>\n",
       "    </tr>\n",
       "    <tr>\n",
       "      <th>beta_time_cycling</th>\n",
       "      <td>-8.107216</td>\n",
       "      <td>0.666032</td>\n",
       "      <td>-12.172418</td>\n",
       "      <td>0.000000e+00</td>\n",
       "    </tr>\n",
       "    <tr>\n",
       "      <th>beta_time_driving</th>\n",
       "      <td>-5.751766</td>\n",
       "      <td>0.391619</td>\n",
       "      <td>-14.687163</td>\n",
       "      <td>0.000000e+00</td>\n",
       "    </tr>\n",
       "    <tr>\n",
       "      <th>beta_time_pt</th>\n",
       "      <td>-3.123984</td>\n",
       "      <td>0.244500</td>\n",
       "      <td>-12.777041</td>\n",
       "      <td>0.000000e+00</td>\n",
       "    </tr>\n",
       "    <tr>\n",
       "      <th>beta_time_walking</th>\n",
       "      <td>-5.265422</td>\n",
       "      <td>0.197671</td>\n",
       "      <td>-26.637345</td>\n",
       "      <td>0.000000e+00</td>\n",
       "    </tr>\n",
       "  </tbody>\n",
       "</table>\n",
       "</div>"
      ],
      "text/plain": [
       "                      Value  Rob. Std err  Rob. t-test  Rob. p-value\n",
       "ASC_c             -4.875802      0.374318   -13.025825  0.000000e+00\n",
       "ASC_pt            -0.998232      0.133145    -7.497356  6.505907e-14\n",
       "ASC_w              1.532035      0.158595     9.660054  0.000000e+00\n",
       "beta_cost         -0.150735      0.014565   -10.348804  0.000000e+00\n",
       "beta_time_cycling -8.107216      0.666032   -12.172418  0.000000e+00\n",
       "beta_time_driving -5.751766      0.391619   -14.687163  0.000000e+00\n",
       "beta_time_pt      -3.123984      0.244500   -12.777041  0.000000e+00\n",
       "beta_time_walking -5.265422      0.197671   -26.637345  0.000000e+00"
      ]
     },
     "execution_count": 23,
     "metadata": {},
     "output_type": "execute_result"
    }
   ],
   "source": [
    "res_Model2_ASC.getEstimatedParameters()"
   ]
  },
  {
   "cell_type": "markdown",
   "id": "5c342e17-2a41-475f-a96c-32ade9686ec9",
   "metadata": {},
   "source": [
    "Need to find a test! (Probably a Cox test would be ok)"
   ]
  },
  {
   "cell_type": "markdown",
   "id": "b07bbb68",
   "metadata": {},
   "source": [
    "When we have to analyze the interaction of the age with one of the variables, we decided to link it with cost, since we think that indviduals may have a differtent perception of money depending on their age. For example, when you're a student you give a different value to money than the one you give them when you've been working for several years."
   ]
  },
  {
   "cell_type": "markdown",
   "id": "ee2aabc8-11da-419b-b2c7-d5cde9005715",
   "metadata": {},
   "source": [
    "- Interaction of age with cost:"
   ]
  },
  {
   "cell_type": "code",
   "execution_count": 62,
   "id": "f960be71-f87b-4083-9358-bed32cc0e178",
   "metadata": {
    "tags": []
   },
   "outputs": [],
   "source": [
    "constant_walking = Beta('constant_walking', 0, None, None, 0)\n",
    "constant_cycling = Beta('constant_cycling', 0, None, None, 0)\n",
    "constant_pt = Beta('constant_pt', 0, None, None, 0)\n",
    "beta_time_walking = Beta('beta_time_walking', 0, None, None, 0)\n",
    "beta_time_cycling = Beta('beta_time_cycling', 0, None, None, 0)\n",
    "beta_time_pt = Beta('beta_time_pt', 0, None, None, 0)\n",
    "beta_time_driving = Beta('beta_time_driving', 0, None, None, 0)\n",
    "beta_cost_int = Beta('beta_cost_int', 0, None, None, 0)"
   ]
  },
  {
   "cell_type": "code",
   "execution_count": 63,
   "id": "c2012e1b",
   "metadata": {
    "tags": []
   },
   "outputs": [],
   "source": [
    "beta_cost_interacted = beta_cost_int * age/99"
   ]
  },
  {
   "cell_type": "code",
   "execution_count": 64,
   "id": "6920eb2d-9c78-4a9c-8845-cb8c49763f04",
   "metadata": {
    "tags": []
   },
   "outputs": [],
   "source": [
    "v_w_Model2_cost = (\n",
    "    constant_walking\n",
    "    + beta_time_walking * dur_walking\n",
    ")\n",
    "\n",
    "v_c_Model2_cost = (\n",
    "    constant_cycling\n",
    "    + beta_time_cycling * dur_cycling\n",
    ")\n",
    "\n",
    "v_pt_Model2_cost= (\n",
    "    constant_pt\n",
    "    + beta_cost_interacted * cost_transit    \n",
    "    + beta_time_pt * dur_pt\n",
    ")\n",
    "\n",
    "v_driving_Model2_cost = (\n",
    "    beta_cost_interacted * cost_driving\n",
    "    + beta_time_driving * dur_driving\n",
    ")"
   ]
  },
  {
   "cell_type": "code",
   "execution_count": 65,
   "id": "22a1a457-3a10-4a4a-b3cf-3c51db0e1a01",
   "metadata": {
    "tags": []
   },
   "outputs": [],
   "source": [
    "V_Model2_cost = {1: v_w_Model2_cost, 2: v_c_Model2_cost, 3: v_pt_Model2_cost, 4: v_driving_Model2_cost}\n",
    "logprob_Model2_cost = models.loglogit(V_Model2_cost, None, travel_mode)\n",
    "biogeme_Model2_cost = bio.BIOGEME(database, logprob_Model2_cost)\n",
    "biogeme_Model2_cost.modelName = 'logit_Model2_cost'\n",
    "res_Model2_cost = biogeme_Model2_cost.estimate()"
   ]
  },
  {
   "cell_type": "code",
   "execution_count": 66,
   "id": "9f3a7626-7803-4afb-821e-4c9cb10266f2",
   "metadata": {
    "tags": []
   },
   "outputs": [
    {
     "name": "stdout",
     "output_type": "stream",
     "text": [
      "Number of estimated parameters:\t8\n",
      "Sample size:\t5000\n",
      "Excluded observations:\t0\n",
      "Init log likelihood:\t-4436.935\n",
      "Final log likelihood:\t-4387.311\n",
      "Likelihood ratio test for the init. model:\t99.24852\n",
      "Rho-square for the init. model:\t0.0112\n",
      "Rho-square-bar for the init. model:\t0.00938\n",
      "Akaike Information Criterion:\t8790.622\n",
      "Bayesian Information Criterion:\t8842.76\n",
      "Final gradient norm:\t1.4147E-02\n",
      "Nbr of threads:\t16\n",
      "\n"
     ]
    }
   ],
   "source": [
    "print(res_Model2_cost.printGeneralStatistics())"
   ]
  },
  {
   "cell_type": "code",
   "execution_count": 67,
   "id": "99b9a2a6-d5e0-4b42-a982-add708b3be44",
   "metadata": {
    "tags": []
   },
   "outputs": [
    {
     "data": {
      "text/html": [
       "<div>\n",
       "<style scoped>\n",
       "    .dataframe tbody tr th:only-of-type {\n",
       "        vertical-align: middle;\n",
       "    }\n",
       "\n",
       "    .dataframe tbody tr th {\n",
       "        vertical-align: top;\n",
       "    }\n",
       "\n",
       "    .dataframe thead th {\n",
       "        text-align: right;\n",
       "    }\n",
       "</style>\n",
       "<table border=\"1\" class=\"dataframe\">\n",
       "  <thead>\n",
       "    <tr style=\"text-align: right;\">\n",
       "      <th></th>\n",
       "      <th>Value</th>\n",
       "      <th>Rob. Std err</th>\n",
       "      <th>Rob. t-test</th>\n",
       "      <th>Rob. p-value</th>\n",
       "    </tr>\n",
       "  </thead>\n",
       "  <tbody>\n",
       "    <tr>\n",
       "      <th>beta_cost_int</th>\n",
       "      <td>-0.287269</td>\n",
       "      <td>0.039547</td>\n",
       "      <td>-7.263920</td>\n",
       "      <td>3.759215e-13</td>\n",
       "    </tr>\n",
       "    <tr>\n",
       "      <th>beta_time_cycling</th>\n",
       "      <td>-5.430090</td>\n",
       "      <td>0.494063</td>\n",
       "      <td>-10.990692</td>\n",
       "      <td>0.000000e+00</td>\n",
       "    </tr>\n",
       "    <tr>\n",
       "      <th>beta_time_driving</th>\n",
       "      <td>-5.958668</td>\n",
       "      <td>0.382040</td>\n",
       "      <td>-15.596975</td>\n",
       "      <td>0.000000e+00</td>\n",
       "    </tr>\n",
       "    <tr>\n",
       "      <th>beta_time_pt</th>\n",
       "      <td>-3.218564</td>\n",
       "      <td>0.242759</td>\n",
       "      <td>-13.258273</td>\n",
       "      <td>0.000000e+00</td>\n",
       "    </tr>\n",
       "    <tr>\n",
       "      <th>beta_time_walking</th>\n",
       "      <td>-8.181055</td>\n",
       "      <td>0.386868</td>\n",
       "      <td>-21.146877</td>\n",
       "      <td>0.000000e+00</td>\n",
       "    </tr>\n",
       "    <tr>\n",
       "      <th>constant_cycling</th>\n",
       "      <td>-2.566942</td>\n",
       "      <td>0.150921</td>\n",
       "      <td>-17.008496</td>\n",
       "      <td>0.000000e+00</td>\n",
       "    </tr>\n",
       "    <tr>\n",
       "      <th>constant_pt</th>\n",
       "      <td>-0.407450</td>\n",
       "      <td>0.069331</td>\n",
       "      <td>-5.876861</td>\n",
       "      <td>4.181197e-09</td>\n",
       "    </tr>\n",
       "    <tr>\n",
       "      <th>constant_walking</th>\n",
       "      <td>1.939450</td>\n",
       "      <td>0.129423</td>\n",
       "      <td>14.985404</td>\n",
       "      <td>0.000000e+00</td>\n",
       "    </tr>\n",
       "  </tbody>\n",
       "</table>\n",
       "</div>"
      ],
      "text/plain": [
       "                      Value  Rob. Std err  Rob. t-test  Rob. p-value\n",
       "beta_cost_int     -0.287269      0.039547    -7.263920  3.759215e-13\n",
       "beta_time_cycling -5.430090      0.494063   -10.990692  0.000000e+00\n",
       "beta_time_driving -5.958668      0.382040   -15.596975  0.000000e+00\n",
       "beta_time_pt      -3.218564      0.242759   -13.258273  0.000000e+00\n",
       "beta_time_walking -8.181055      0.386868   -21.146877  0.000000e+00\n",
       "constant_cycling  -2.566942      0.150921   -17.008496  0.000000e+00\n",
       "constant_pt       -0.407450      0.069331    -5.876861  4.181197e-09\n",
       "constant_walking   1.939450      0.129423    14.985404  0.000000e+00"
      ]
     },
     "execution_count": 67,
     "metadata": {},
     "output_type": "execute_result"
    }
   ],
   "source": [
    "res_Model2_cost.getEstimatedParameters()"
   ]
  },
  {
   "cell_type": "code",
   "execution_count": 68,
   "id": "92586e49",
   "metadata": {
    "tags": []
   },
   "outputs": [],
   "source": [
    "v_w_cox1 = v_walk_Model1 + interacted_ASC_w\n",
    "v_c_cox1 = v_cycling_Model1 + interacted_ASC_c\n",
    "v_pt_cox1 = v_PT_Model1 + interacted_ASC_pt\n",
    "v_driving_cox1 = v_driving_Model1"
   ]
  },
  {
   "cell_type": "code",
   "execution_count": 69,
   "id": "d1da8dd2",
   "metadata": {
    "tags": []
   },
   "outputs": [],
   "source": [
    "V_cox1 = {1: v_w_cox1, 2: v_c_cox1, 3: v_pt_cox1, 4: v_driving_cox1}\n",
    "logprob_cox1 = models.loglogit(V_cox1, None, travel_mode)\n",
    "biogeme_cox1 = bio.BIOGEME(database, logprob_cox1)\n",
    "biogeme_cox1.modelName = 'logit_cox1'\n",
    "res_cox1 = biogeme_cox1.estimate()"
   ]
  },
  {
   "cell_type": "code",
   "execution_count": 70,
   "id": "7728e97c-08f1-4d19-81b4-e4f553d53408",
   "metadata": {
    "tags": []
   },
   "outputs": [
    {
     "name": "stdout",
     "output_type": "stream",
     "text": [
      "Number of estimated parameters:\t11\n",
      "Sample size:\t5000\n",
      "Excluded observations:\t0\n",
      "Init log likelihood:\t-4348.347\n",
      "Final log likelihood:\t-4348.347\n",
      "Likelihood ratio test for the init. model:\t-0\n",
      "Rho-square for the init. model:\t0\n",
      "Rho-square-bar for the init. model:\t-0.00253\n",
      "Akaike Information Criterion:\t8718.694\n",
      "Bayesian Information Criterion:\t8790.383\n",
      "Final gradient norm:\t1.9072E-02\n",
      "Nbr of threads:\t16\n",
      "\n"
     ]
    }
   ],
   "source": [
    "print(res_cox1.printGeneralStatistics())"
   ]
  },
  {
   "cell_type": "code",
   "execution_count": 71,
   "id": "fb87f70a-c3eb-4c3b-8942-684294340493",
   "metadata": {
    "tags": []
   },
   "outputs": [
    {
     "data": {
      "text/html": [
       "<div>\n",
       "<style scoped>\n",
       "    .dataframe tbody tr th:only-of-type {\n",
       "        vertical-align: middle;\n",
       "    }\n",
       "\n",
       "    .dataframe tbody tr th {\n",
       "        vertical-align: top;\n",
       "    }\n",
       "\n",
       "    .dataframe thead th {\n",
       "        text-align: right;\n",
       "    }\n",
       "</style>\n",
       "<table border=\"1\" class=\"dataframe\">\n",
       "  <thead>\n",
       "    <tr style=\"text-align: right;\">\n",
       "      <th></th>\n",
       "      <th>Value</th>\n",
       "      <th>Rob. Std err</th>\n",
       "      <th>Rob. t-test</th>\n",
       "      <th>Rob. p-value</th>\n",
       "    </tr>\n",
       "  </thead>\n",
       "  <tbody>\n",
       "    <tr>\n",
       "      <th>ASC_c</th>\n",
       "      <td>-1.056145</td>\n",
       "      <td>0.365415</td>\n",
       "      <td>-2.890259</td>\n",
       "      <td>3.849241e-03</td>\n",
       "    </tr>\n",
       "    <tr>\n",
       "      <th>ASC_pt</th>\n",
       "      <td>-0.959394</td>\n",
       "      <td>0.187749</td>\n",
       "      <td>-5.109975</td>\n",
       "      <td>3.222010e-07</td>\n",
       "    </tr>\n",
       "    <tr>\n",
       "      <th>ASC_w</th>\n",
       "      <td>-1.397086</td>\n",
       "      <td>0.236484</td>\n",
       "      <td>-5.907733</td>\n",
       "      <td>3.468465e-09</td>\n",
       "    </tr>\n",
       "    <tr>\n",
       "      <th>beta_cost</th>\n",
       "      <td>-0.137214</td>\n",
       "      <td>0.013975</td>\n",
       "      <td>-9.818825</td>\n",
       "      <td>0.000000e+00</td>\n",
       "    </tr>\n",
       "    <tr>\n",
       "      <th>beta_time_cycling</th>\n",
       "      <td>-5.424776</td>\n",
       "      <td>0.493259</td>\n",
       "      <td>-10.997821</td>\n",
       "      <td>0.000000e+00</td>\n",
       "    </tr>\n",
       "    <tr>\n",
       "      <th>beta_time_driving</th>\n",
       "      <td>-5.741925</td>\n",
       "      <td>0.383465</td>\n",
       "      <td>-14.973784</td>\n",
       "      <td>0.000000e+00</td>\n",
       "    </tr>\n",
       "    <tr>\n",
       "      <th>beta_time_pt</th>\n",
       "      <td>-3.112958</td>\n",
       "      <td>0.243471</td>\n",
       "      <td>-12.785768</td>\n",
       "      <td>0.000000e+00</td>\n",
       "    </tr>\n",
       "    <tr>\n",
       "      <th>beta_time_walking</th>\n",
       "      <td>-8.186291</td>\n",
       "      <td>0.389650</td>\n",
       "      <td>-21.009325</td>\n",
       "      <td>0.000000e+00</td>\n",
       "    </tr>\n",
       "    <tr>\n",
       "      <th>constant_cycling</th>\n",
       "      <td>-2.131860</td>\n",
       "      <td>0.210870</td>\n",
       "      <td>-10.109854</td>\n",
       "      <td>0.000000e+00</td>\n",
       "    </tr>\n",
       "    <tr>\n",
       "      <th>constant_pt</th>\n",
       "      <td>-0.012663</td>\n",
       "      <td>0.102425</td>\n",
       "      <td>-0.123633</td>\n",
       "      <td>9.016062e-01</td>\n",
       "    </tr>\n",
       "    <tr>\n",
       "      <th>constant_walking</th>\n",
       "      <td>2.502330</td>\n",
       "      <td>0.169579</td>\n",
       "      <td>14.756130</td>\n",
       "      <td>0.000000e+00</td>\n",
       "    </tr>\n",
       "  </tbody>\n",
       "</table>\n",
       "</div>"
      ],
      "text/plain": [
       "                      Value  Rob. Std err  Rob. t-test  Rob. p-value\n",
       "ASC_c             -1.056145      0.365415    -2.890259  3.849241e-03\n",
       "ASC_pt            -0.959394      0.187749    -5.109975  3.222010e-07\n",
       "ASC_w             -1.397086      0.236484    -5.907733  3.468465e-09\n",
       "beta_cost         -0.137214      0.013975    -9.818825  0.000000e+00\n",
       "beta_time_cycling -5.424776      0.493259   -10.997821  0.000000e+00\n",
       "beta_time_driving -5.741925      0.383465   -14.973784  0.000000e+00\n",
       "beta_time_pt      -3.112958      0.243471   -12.785768  0.000000e+00\n",
       "beta_time_walking -8.186291      0.389650   -21.009325  0.000000e+00\n",
       "constant_cycling  -2.131860      0.210870   -10.109854  0.000000e+00\n",
       "constant_pt       -0.012663      0.102425    -0.123633  9.016062e-01\n",
       "constant_walking   2.502330      0.169579    14.756130  0.000000e+00"
      ]
     },
     "execution_count": 71,
     "metadata": {},
     "output_type": "execute_result"
    }
   ],
   "source": [
    "res_cox1.getEstimatedParameters()"
   ]
  },
  {
   "cell_type": "code",
   "execution_count": 72,
   "id": "2a7494f4",
   "metadata": {
    "tags": []
   },
   "outputs": [
    {
     "name": "stdout",
     "output_type": "stream",
     "text": [
      "LRTuple(message='H0 can be rejected at level 10.0%', statistic=49.127291194823556, threshold=6.251388631170325)\n",
      "LRTuple(message='H0 can be rejected at level 10.0%', statistic=534.4566912179689, threshold=6.251388631170325)\n"
     ]
    }
   ],
   "source": [
    "print(res_cox1.likelihood_ratio_test(res_Model1, 0.1))\n",
    "print(res_cox1.likelihood_ratio_test(res_Model2_ASC, 0.1))"
   ]
  },
  {
   "cell_type": "code",
   "execution_count": 73,
   "id": "774f91e1",
   "metadata": {
    "tags": []
   },
   "outputs": [],
   "source": [
    "v_w_cox2 = v_walk_Model1  \n",
    "v_c_cox2 = v_cycling_Model1\n",
    "v_pt_cox2 = v_PT_Model1 + beta_cost_interacted * cost_transit\n",
    "v_driving_cox2 = v_driving_Model1 + beta_cost_interacted * cost_driving"
   ]
  },
  {
   "cell_type": "code",
   "execution_count": 74,
   "id": "b04eefff",
   "metadata": {
    "tags": []
   },
   "outputs": [],
   "source": [
    "V_cox2 = {1: v_w_cox2, 2: v_c_cox2, 3: v_pt_cox2, 4: v_driving_cox2}\n",
    "logprob_cox2 = models.loglogit(V_cox2, None, travel_mode)\n",
    "biogeme_cox2 = bio.BIOGEME(database, logprob_cox2)\n",
    "biogeme_cox2.modelName = 'logit_cox2'\n",
    "res_cox2 = biogeme_cox2.estimate()"
   ]
  },
  {
   "cell_type": "code",
   "execution_count": 75,
   "id": "6b9b80d3-4de1-4ca3-82a5-1168cc2b3e1e",
   "metadata": {
    "tags": []
   },
   "outputs": [
    {
     "name": "stdout",
     "output_type": "stream",
     "text": [
      "Number of estimated parameters:\t9\n",
      "Sample size:\t5000\n",
      "Excluded observations:\t0\n",
      "Init log likelihood:\t-4378.043\n",
      "Final log likelihood:\t-4371.267\n",
      "Likelihood ratio test for the init. model:\t13.55326\n",
      "Rho-square for the init. model:\t0.00155\n",
      "Rho-square-bar for the init. model:\t-0.000508\n",
      "Akaike Information Criterion:\t8760.533\n",
      "Bayesian Information Criterion:\t8819.188\n",
      "Final gradient norm:\t2.2540E-02\n",
      "Nbr of threads:\t16\n",
      "\n"
     ]
    }
   ],
   "source": [
    "print(res_cox2.printGeneralStatistics())"
   ]
  },
  {
   "cell_type": "code",
   "execution_count": 77,
   "id": "35194997-a48d-45fb-9744-c9b99f50c92f",
   "metadata": {
    "tags": []
   },
   "outputs": [
    {
     "data": {
      "text/html": [
       "<div>\n",
       "<style scoped>\n",
       "    .dataframe tbody tr th:only-of-type {\n",
       "        vertical-align: middle;\n",
       "    }\n",
       "\n",
       "    .dataframe tbody tr th {\n",
       "        vertical-align: top;\n",
       "    }\n",
       "\n",
       "    .dataframe thead th {\n",
       "        text-align: right;\n",
       "    }\n",
       "</style>\n",
       "<table border=\"1\" class=\"dataframe\">\n",
       "  <thead>\n",
       "    <tr style=\"text-align: right;\">\n",
       "      <th></th>\n",
       "      <th>Value</th>\n",
       "      <th>Rob. Std err</th>\n",
       "      <th>Rob. t-test</th>\n",
       "      <th>Rob. p-value</th>\n",
       "    </tr>\n",
       "  </thead>\n",
       "  <tbody>\n",
       "    <tr>\n",
       "      <th>beta_cost</th>\n",
       "      <td>-0.194856</td>\n",
       "      <td>0.033653</td>\n",
       "      <td>-5.790107</td>\n",
       "      <td>7.034140e-09</td>\n",
       "    </tr>\n",
       "    <tr>\n",
       "      <th>beta_cost_int</th>\n",
       "      <td>0.147765</td>\n",
       "      <td>0.079102</td>\n",
       "      <td>1.868034</td>\n",
       "      <td>6.175739e-02</td>\n",
       "    </tr>\n",
       "    <tr>\n",
       "      <th>beta_time_cycling</th>\n",
       "      <td>-5.450453</td>\n",
       "      <td>0.493338</td>\n",
       "      <td>-11.048104</td>\n",
       "      <td>0.000000e+00</td>\n",
       "    </tr>\n",
       "    <tr>\n",
       "      <th>beta_time_driving</th>\n",
       "      <td>-5.796577</td>\n",
       "      <td>0.384952</td>\n",
       "      <td>-15.057928</td>\n",
       "      <td>0.000000e+00</td>\n",
       "    </tr>\n",
       "    <tr>\n",
       "      <th>beta_time_pt</th>\n",
       "      <td>-3.124264</td>\n",
       "      <td>0.244284</td>\n",
       "      <td>-12.789455</td>\n",
       "      <td>0.000000e+00</td>\n",
       "    </tr>\n",
       "    <tr>\n",
       "      <th>beta_time_walking</th>\n",
       "      <td>-8.164724</td>\n",
       "      <td>0.386195</td>\n",
       "      <td>-21.141438</td>\n",
       "      <td>0.000000e+00</td>\n",
       "    </tr>\n",
       "    <tr>\n",
       "      <th>constant_cycling</th>\n",
       "      <td>-2.559685</td>\n",
       "      <td>0.150777</td>\n",
       "      <td>-16.976647</td>\n",
       "      <td>0.000000e+00</td>\n",
       "    </tr>\n",
       "    <tr>\n",
       "      <th>constant_pt</th>\n",
       "      <td>-0.406755</td>\n",
       "      <td>0.069510</td>\n",
       "      <td>-5.851700</td>\n",
       "      <td>4.865730e-09</td>\n",
       "    </tr>\n",
       "    <tr>\n",
       "      <th>constant_walking</th>\n",
       "      <td>1.933598</td>\n",
       "      <td>0.129087</td>\n",
       "      <td>14.979019</td>\n",
       "      <td>0.000000e+00</td>\n",
       "    </tr>\n",
       "  </tbody>\n",
       "</table>\n",
       "</div>"
      ],
      "text/plain": [
       "                      Value  Rob. Std err  Rob. t-test  Rob. p-value\n",
       "beta_cost         -0.194856      0.033653    -5.790107  7.034140e-09\n",
       "beta_cost_int      0.147765      0.079102     1.868034  6.175739e-02\n",
       "beta_time_cycling -5.450453      0.493338   -11.048104  0.000000e+00\n",
       "beta_time_driving -5.796577      0.384952   -15.057928  0.000000e+00\n",
       "beta_time_pt      -3.124264      0.244284   -12.789455  0.000000e+00\n",
       "beta_time_walking -8.164724      0.386195   -21.141438  0.000000e+00\n",
       "constant_cycling  -2.559685      0.150777   -16.976647  0.000000e+00\n",
       "constant_pt       -0.406755      0.069510    -5.851700  4.865730e-09\n",
       "constant_walking   1.933598      0.129087    14.979019  0.000000e+00"
      ]
     },
     "execution_count": 77,
     "metadata": {},
     "output_type": "execute_result"
    }
   ],
   "source": [
    "res_cox2.getEstimatedParameters()"
   ]
  },
  {
   "cell_type": "code",
   "execution_count": 78,
   "id": "f41d8b18",
   "metadata": {
    "tags": []
   },
   "outputs": [
    {
     "name": "stdout",
     "output_type": "stream",
     "text": [
      "LRTuple(message='H0 cannot be rejected at level 5.0%', statistic=3.2885149200665182, threshold=3.841458820694124)\n",
      "LRTuple(message='H0 can be rejected at level 5.0%', statistic=32.08931322417084, threshold=3.841458820694124)\n"
     ]
    }
   ],
   "source": [
    "print(res_cox2.likelihood_ratio_test(res_Model1, 0.05))\n",
    "print(res_cox2.likelihood_ratio_test(res_Model2_cost, 0.05))"
   ]
  },
  {
   "cell_type": "markdown",
   "id": "d8549643-3da9-4bdf-9471-e053b4f7d5e2",
   "metadata": {},
   "source": [
    "Preferred model is Model 1"
   ]
  },
  {
   "cell_type": "code",
   "execution_count": null,
   "id": "c9bab83c-eaf3-4408-93ed-0e54bf4c24a3",
   "metadata": {},
   "outputs": [],
   "source": []
  }
 ],
 "metadata": {
  "kernelspec": {
   "display_name": "Python3",
   "language": "python",
   "name": "python3"
  },
  "language_info": {
   "codemirror_mode": {
    "name": "ipython",
    "version": 3
   },
   "file_extension": ".py",
   "mimetype": "text/x-python",
   "name": "python",
   "nbconvert_exporter": "python",
   "pygments_lexer": "ipython3",
   "version": "3.11.5"
  }
 },
 "nbformat": 4,
 "nbformat_minor": 5
}
