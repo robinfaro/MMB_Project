{
 "cells": [
  {
   "cell_type": "markdown",
   "id": "f2135566-ce0d-474b-a8f5-0f44d3286f9b",
   "metadata": {},
   "source": [
    "# PROJECT:"
   ]
  },
  {
   "cell_type": "code",
   "execution_count": 1,
   "id": "51b24542-28a3-45f2-a657-f8a1e515bc7f",
   "metadata": {
    "tags": []
   },
   "outputs": [],
   "source": [
    "import pandas as pd\n",
    "import biogeme.database as db\n",
    "import biogeme.biogeme as bio\n",
    "from biogeme.expressions import Beta, Variable\n",
    "from biogeme import models\n",
    "from biogeme import results as res"
   ]
  },
  {
   "cell_type": "code",
   "execution_count": 2,
   "id": "8c3bc098-5d11-4b19-8a4f-318cd4c7332d",
   "metadata": {
    "tags": []
   },
   "outputs": [
    {
     "data": {
      "text/html": [
       "<div>\n",
       "<style scoped>\n",
       "    .dataframe tbody tr th:only-of-type {\n",
       "        vertical-align: middle;\n",
       "    }\n",
       "\n",
       "    .dataframe tbody tr th {\n",
       "        vertical-align: top;\n",
       "    }\n",
       "\n",
       "    .dataframe thead th {\n",
       "        text-align: right;\n",
       "    }\n",
       "</style>\n",
       "<table border=\"1\" class=\"dataframe\">\n",
       "  <thead>\n",
       "    <tr style=\"text-align: right;\">\n",
       "      <th></th>\n",
       "      <th>trip_id</th>\n",
       "      <th>household_id</th>\n",
       "      <th>person_n</th>\n",
       "      <th>trip_n</th>\n",
       "      <th>travel_mode</th>\n",
       "      <th>purpose</th>\n",
       "      <th>fueltype</th>\n",
       "      <th>faretype</th>\n",
       "      <th>bus_scale</th>\n",
       "      <th>survey_year</th>\n",
       "      <th>...</th>\n",
       "      <th>dur_pt_access</th>\n",
       "      <th>dur_pt_rail</th>\n",
       "      <th>dur_pt_bus</th>\n",
       "      <th>dur_pt_int</th>\n",
       "      <th>pt_interchanges</th>\n",
       "      <th>dur_driving</th>\n",
       "      <th>cost_transit</th>\n",
       "      <th>cost_driving_fuel</th>\n",
       "      <th>cost_driving_ccharge</th>\n",
       "      <th>driving_traffic_percent</th>\n",
       "    </tr>\n",
       "  </thead>\n",
       "  <tbody>\n",
       "    <tr>\n",
       "      <th>0</th>\n",
       "      <td>1</td>\n",
       "      <td>0</td>\n",
       "      <td>0</td>\n",
       "      <td>1</td>\n",
       "      <td>4</td>\n",
       "      <td>3</td>\n",
       "      <td>1</td>\n",
       "      <td>1</td>\n",
       "      <td>1.0</td>\n",
       "      <td>1</td>\n",
       "      <td>...</td>\n",
       "      <td>0.109444</td>\n",
       "      <td>0.000000</td>\n",
       "      <td>0.055556</td>\n",
       "      <td>0.000000</td>\n",
       "      <td>0</td>\n",
       "      <td>0.059444</td>\n",
       "      <td>1.5</td>\n",
       "      <td>0.15</td>\n",
       "      <td>0.0</td>\n",
       "      <td>0.112150</td>\n",
       "    </tr>\n",
       "    <tr>\n",
       "      <th>1</th>\n",
       "      <td>13</td>\n",
       "      <td>1</td>\n",
       "      <td>1</td>\n",
       "      <td>1</td>\n",
       "      <td>4</td>\n",
       "      <td>3</td>\n",
       "      <td>1</td>\n",
       "      <td>5</td>\n",
       "      <td>0.0</td>\n",
       "      <td>1</td>\n",
       "      <td>...</td>\n",
       "      <td>0.241389</td>\n",
       "      <td>0.000000</td>\n",
       "      <td>0.122222</td>\n",
       "      <td>0.000000</td>\n",
       "      <td>0</td>\n",
       "      <td>0.132222</td>\n",
       "      <td>0.0</td>\n",
       "      <td>0.50</td>\n",
       "      <td>0.0</td>\n",
       "      <td>0.065126</td>\n",
       "    </tr>\n",
       "    <tr>\n",
       "      <th>2</th>\n",
       "      <td>19</td>\n",
       "      <td>4</td>\n",
       "      <td>0</td>\n",
       "      <td>1</td>\n",
       "      <td>3</td>\n",
       "      <td>3</td>\n",
       "      <td>6</td>\n",
       "      <td>5</td>\n",
       "      <td>0.0</td>\n",
       "      <td>1</td>\n",
       "      <td>...</td>\n",
       "      <td>0.222500</td>\n",
       "      <td>0.000000</td>\n",
       "      <td>0.312222</td>\n",
       "      <td>0.000000</td>\n",
       "      <td>0</td>\n",
       "      <td>0.221667</td>\n",
       "      <td>0.0</td>\n",
       "      <td>0.56</td>\n",
       "      <td>0.0</td>\n",
       "      <td>0.086466</td>\n",
       "    </tr>\n",
       "    <tr>\n",
       "      <th>3</th>\n",
       "      <td>20</td>\n",
       "      <td>5</td>\n",
       "      <td>1</td>\n",
       "      <td>0</td>\n",
       "      <td>4</td>\n",
       "      <td>3</td>\n",
       "      <td>1</td>\n",
       "      <td>5</td>\n",
       "      <td>0.0</td>\n",
       "      <td>1</td>\n",
       "      <td>...</td>\n",
       "      <td>0.381667</td>\n",
       "      <td>0.000000</td>\n",
       "      <td>0.062222</td>\n",
       "      <td>0.000000</td>\n",
       "      <td>0</td>\n",
       "      <td>0.117222</td>\n",
       "      <td>0.0</td>\n",
       "      <td>0.41</td>\n",
       "      <td>0.0</td>\n",
       "      <td>0.097156</td>\n",
       "    </tr>\n",
       "    <tr>\n",
       "      <th>4</th>\n",
       "      <td>39</td>\n",
       "      <td>9</td>\n",
       "      <td>2</td>\n",
       "      <td>0</td>\n",
       "      <td>4</td>\n",
       "      <td>3</td>\n",
       "      <td>1</td>\n",
       "      <td>5</td>\n",
       "      <td>0.0</td>\n",
       "      <td>1</td>\n",
       "      <td>...</td>\n",
       "      <td>0.146944</td>\n",
       "      <td>0.000000</td>\n",
       "      <td>0.225000</td>\n",
       "      <td>0.000000</td>\n",
       "      <td>0</td>\n",
       "      <td>0.200833</td>\n",
       "      <td>0.0</td>\n",
       "      <td>0.48</td>\n",
       "      <td>0.0</td>\n",
       "      <td>0.378976</td>\n",
       "    </tr>\n",
       "    <tr>\n",
       "      <th>...</th>\n",
       "      <td>...</td>\n",
       "      <td>...</td>\n",
       "      <td>...</td>\n",
       "      <td>...</td>\n",
       "      <td>...</td>\n",
       "      <td>...</td>\n",
       "      <td>...</td>\n",
       "      <td>...</td>\n",
       "      <td>...</td>\n",
       "      <td>...</td>\n",
       "      <td>...</td>\n",
       "      <td>...</td>\n",
       "      <td>...</td>\n",
       "      <td>...</td>\n",
       "      <td>...</td>\n",
       "      <td>...</td>\n",
       "      <td>...</td>\n",
       "      <td>...</td>\n",
       "      <td>...</td>\n",
       "      <td>...</td>\n",
       "      <td>...</td>\n",
       "    </tr>\n",
       "    <tr>\n",
       "      <th>4995</th>\n",
       "      <td>81035</td>\n",
       "      <td>17603</td>\n",
       "      <td>1</td>\n",
       "      <td>1</td>\n",
       "      <td>3</td>\n",
       "      <td>1</td>\n",
       "      <td>1</td>\n",
       "      <td>1</td>\n",
       "      <td>1.0</td>\n",
       "      <td>3</td>\n",
       "      <td>...</td>\n",
       "      <td>0.278056</td>\n",
       "      <td>0.216667</td>\n",
       "      <td>0.000000</td>\n",
       "      <td>0.000000</td>\n",
       "      <td>0</td>\n",
       "      <td>0.392222</td>\n",
       "      <td>2.4</td>\n",
       "      <td>0.98</td>\n",
       "      <td>0.0</td>\n",
       "      <td>0.547450</td>\n",
       "    </tr>\n",
       "    <tr>\n",
       "      <th>4996</th>\n",
       "      <td>81040</td>\n",
       "      <td>17604</td>\n",
       "      <td>2</td>\n",
       "      <td>0</td>\n",
       "      <td>3</td>\n",
       "      <td>1</td>\n",
       "      <td>1</td>\n",
       "      <td>2</td>\n",
       "      <td>0.0</td>\n",
       "      <td>3</td>\n",
       "      <td>...</td>\n",
       "      <td>0.264444</td>\n",
       "      <td>0.000000</td>\n",
       "      <td>0.353333</td>\n",
       "      <td>0.176667</td>\n",
       "      <td>1</td>\n",
       "      <td>0.288889</td>\n",
       "      <td>0.0</td>\n",
       "      <td>0.85</td>\n",
       "      <td>0.0</td>\n",
       "      <td>0.175000</td>\n",
       "    </tr>\n",
       "    <tr>\n",
       "      <th>4997</th>\n",
       "      <td>81045</td>\n",
       "      <td>17605</td>\n",
       "      <td>0</td>\n",
       "      <td>1</td>\n",
       "      <td>4</td>\n",
       "      <td>3</td>\n",
       "      <td>1</td>\n",
       "      <td>5</td>\n",
       "      <td>0.0</td>\n",
       "      <td>3</td>\n",
       "      <td>...</td>\n",
       "      <td>0.128889</td>\n",
       "      <td>0.000000</td>\n",
       "      <td>0.045833</td>\n",
       "      <td>0.000000</td>\n",
       "      <td>0</td>\n",
       "      <td>0.067778</td>\n",
       "      <td>0.0</td>\n",
       "      <td>0.17</td>\n",
       "      <td>0.0</td>\n",
       "      <td>0.024590</td>\n",
       "    </tr>\n",
       "    <tr>\n",
       "      <th>4998</th>\n",
       "      <td>81066</td>\n",
       "      <td>17608</td>\n",
       "      <td>0</td>\n",
       "      <td>3</td>\n",
       "      <td>3</td>\n",
       "      <td>3</td>\n",
       "      <td>6</td>\n",
       "      <td>1</td>\n",
       "      <td>1.0</td>\n",
       "      <td>3</td>\n",
       "      <td>...</td>\n",
       "      <td>0.092222</td>\n",
       "      <td>0.000000</td>\n",
       "      <td>0.389444</td>\n",
       "      <td>0.000000</td>\n",
       "      <td>0</td>\n",
       "      <td>0.193333</td>\n",
       "      <td>1.5</td>\n",
       "      <td>0.61</td>\n",
       "      <td>0.0</td>\n",
       "      <td>0.485632</td>\n",
       "    </tr>\n",
       "    <tr>\n",
       "      <th>4999</th>\n",
       "      <td>81073</td>\n",
       "      <td>17610</td>\n",
       "      <td>1</td>\n",
       "      <td>0</td>\n",
       "      <td>4</td>\n",
       "      <td>3</td>\n",
       "      <td>2</td>\n",
       "      <td>1</td>\n",
       "      <td>1.0</td>\n",
       "      <td>3</td>\n",
       "      <td>...</td>\n",
       "      <td>0.206111</td>\n",
       "      <td>0.000000</td>\n",
       "      <td>0.400000</td>\n",
       "      <td>0.000000</td>\n",
       "      <td>0</td>\n",
       "      <td>0.259167</td>\n",
       "      <td>1.5</td>\n",
       "      <td>0.88</td>\n",
       "      <td>0.0</td>\n",
       "      <td>0.233655</td>\n",
       "    </tr>\n",
       "  </tbody>\n",
       "</table>\n",
       "<p>5000 rows × 32 columns</p>\n",
       "</div>"
      ],
      "text/plain": [
       "      trip_id  household_id  person_n  trip_n  travel_mode  purpose  fueltype  \\\n",
       "0           1             0         0       1            4        3         1   \n",
       "1          13             1         1       1            4        3         1   \n",
       "2          19             4         0       1            3        3         6   \n",
       "3          20             5         1       0            4        3         1   \n",
       "4          39             9         2       0            4        3         1   \n",
       "...       ...           ...       ...     ...          ...      ...       ...   \n",
       "4995    81035         17603         1       1            3        1         1   \n",
       "4996    81040         17604         2       0            3        1         1   \n",
       "4997    81045         17605         0       1            4        3         1   \n",
       "4998    81066         17608         0       3            3        3         6   \n",
       "4999    81073         17610         1       0            4        3         2   \n",
       "\n",
       "      faretype  bus_scale  survey_year  ...  dur_pt_access  dur_pt_rail  \\\n",
       "0            1        1.0            1  ...       0.109444     0.000000   \n",
       "1            5        0.0            1  ...       0.241389     0.000000   \n",
       "2            5        0.0            1  ...       0.222500     0.000000   \n",
       "3            5        0.0            1  ...       0.381667     0.000000   \n",
       "4            5        0.0            1  ...       0.146944     0.000000   \n",
       "...        ...        ...          ...  ...            ...          ...   \n",
       "4995         1        1.0            3  ...       0.278056     0.216667   \n",
       "4996         2        0.0            3  ...       0.264444     0.000000   \n",
       "4997         5        0.0            3  ...       0.128889     0.000000   \n",
       "4998         1        1.0            3  ...       0.092222     0.000000   \n",
       "4999         1        1.0            3  ...       0.206111     0.000000   \n",
       "\n",
       "      dur_pt_bus  dur_pt_int  pt_interchanges  dur_driving  cost_transit  \\\n",
       "0       0.055556    0.000000                0     0.059444           1.5   \n",
       "1       0.122222    0.000000                0     0.132222           0.0   \n",
       "2       0.312222    0.000000                0     0.221667           0.0   \n",
       "3       0.062222    0.000000                0     0.117222           0.0   \n",
       "4       0.225000    0.000000                0     0.200833           0.0   \n",
       "...          ...         ...              ...          ...           ...   \n",
       "4995    0.000000    0.000000                0     0.392222           2.4   \n",
       "4996    0.353333    0.176667                1     0.288889           0.0   \n",
       "4997    0.045833    0.000000                0     0.067778           0.0   \n",
       "4998    0.389444    0.000000                0     0.193333           1.5   \n",
       "4999    0.400000    0.000000                0     0.259167           1.5   \n",
       "\n",
       "      cost_driving_fuel  cost_driving_ccharge  driving_traffic_percent  \n",
       "0                  0.15                   0.0                 0.112150  \n",
       "1                  0.50                   0.0                 0.065126  \n",
       "2                  0.56                   0.0                 0.086466  \n",
       "3                  0.41                   0.0                 0.097156  \n",
       "4                  0.48                   0.0                 0.378976  \n",
       "...                 ...                   ...                      ...  \n",
       "4995               0.98                   0.0                 0.547450  \n",
       "4996               0.85                   0.0                 0.175000  \n",
       "4997               0.17                   0.0                 0.024590  \n",
       "4998               0.61                   0.0                 0.485632  \n",
       "4999               0.88                   0.0                 0.233655  \n",
       "\n",
       "[5000 rows x 32 columns]"
      ]
     },
     "execution_count": 2,
     "metadata": {},
     "output_type": "execute_result"
    }
   ],
   "source": [
    "df = pd.read_table('lpmc11.dat')\n",
    "database = db.Database('lpmc', df)\n",
    "df"
   ]
  },
  {
   "cell_type": "markdown",
   "id": "0bdc5c33-5064-4fca-90d7-0ea950095a47",
   "metadata": {},
   "source": [
    "# Model 0"
   ]
  },
  {
   "cell_type": "markdown",
   "id": "58aaae9a-75d7-4b0b-a949-936d0fb817be",
   "metadata": {},
   "source": [
    "**Variables:**"
   ]
  },
  {
   "cell_type": "code",
   "execution_count": 3,
   "id": "c6effdc7-98fa-4efa-9ed1-bc14b99812d5",
   "metadata": {
    "tags": []
   },
   "outputs": [],
   "source": [
    "dur_walking = Variable('dur_walking') #time for walking\n",
    "dur_cycling = Variable('dur_cycling') #time for cycling\n",
    "\n",
    "dur_pt_access = Variable('dur_pt_access')\n",
    "dur_pt_rail = Variable('dur_pt_rail')\n",
    "dur_pt_bus = Variable('dur_pt_bus')\n",
    "dur_pt_int = Variable('dur_pt_int')\n",
    "\n",
    "dur_pt = dur_pt_access + dur_pt_rail + dur_pt_bus + dur_pt_int #total time for public transport\n",
    "dur_driving = Variable('dur_driving')\n",
    "\n",
    "cost_transit = Variable('cost_transit') #cost for public transport\n",
    "cost_driving_fuel = Variable('cost_driving_fuel')\n",
    "cost_driving_ccharge = Variable('cost_driving_ccharge')\n",
    "\n",
    "cost_driving = cost_driving_fuel + cost_driving_ccharge #total cost for driving\n",
    "\n",
    "travel_mode = Variable('travel_mode') #Choice"
   ]
  },
  {
   "cell_type": "markdown",
   "id": "313a7ef7-dcbe-4a85-8958-839aa6412522",
   "metadata": {},
   "source": [
    "**Parameters:**"
   ]
  },
  {
   "cell_type": "code",
   "execution_count": 4,
   "id": "0e411bac-4df7-4ff2-9bb7-afc8ab4a8d16",
   "metadata": {
    "tags": []
   },
   "outputs": [],
   "source": [
    "constant_walking = Beta('constant_walking', 0, None, None, 0)\n",
    "constant_cycling = Beta('constant_cycling', 0, None, None, 0)\n",
    "constant_pt = Beta('constant_pt', 0, None, None, 0)\n",
    "beta_cost = Beta('beta_cost', 0, None, None, 0)\n",
    "beta_time = Beta('beta_time', 0, None, None, 0)"
   ]
  },
  {
   "cell_type": "code",
   "execution_count": 9,
   "id": "60205714-9fdb-452a-9224-7f0767b8d15c",
   "metadata": {
    "tags": []
   },
   "outputs": [],
   "source": [
    "v_walk_Model0 = (\n",
    "    constant_walking\n",
    "    + beta_time * dur_walking\n",
    ")\n",
    "\n",
    "v_cycling_Model0 = (\n",
    "    constant_cycling\n",
    "    + beta_time * dur_cycling\n",
    ")\n",
    "\n",
    "v_PT_Model0 = (\n",
    "    constant_pt\n",
    "    + beta_cost * cost_transit\n",
    "    + beta_time * dur_pt\n",
    ")\n",
    "\n",
    "v_driving_Model0 = (\n",
    "    beta_cost * cost_driving\n",
    "    + beta_time * dur_driving\n",
    ")"
   ]
  },
  {
   "cell_type": "code",
   "execution_count": 10,
   "id": "af94f7f7-611e-4631-b1c5-dbbe17b49fa1",
   "metadata": {},
   "outputs": [],
   "source": [
    "V_Model0 = {1: v_walk_Model0, 2: v_cycling_Model0, 3: v_PT_Model0, 4: v_driving_Model0}\n",
    "logprob_Model0 = models.loglogit(V_Model0, None, travel_mode)\n",
    "biogeme_Model0 = bio.BIOGEME(database, logprob_Model0) #create the biogeme estimator\n",
    "biogeme_Model0.modelName = 'logit_Model0'\n",
    "res_Model0 = biogeme_Model0.estimate()"
   ]
  },
  {
   "cell_type": "code",
   "execution_count": 11,
   "id": "05742613-6ddd-4724-8c49-a937b44f6dac",
   "metadata": {
    "tags": []
   },
   "outputs": [
    {
     "name": "stdout",
     "output_type": "stream",
     "text": [
      "Number of estimated parameters:\t5\n",
      "Sample size:\t5000\n",
      "Excluded observations:\t0\n",
      "Init log likelihood:\t-4676.875\n",
      "Final log likelihood:\t-4676.875\n",
      "Likelihood ratio test for the init. model:\t-0\n",
      "Rho-square for the init. model:\t0\n",
      "Rho-square-bar for the init. model:\t-0.00107\n",
      "Akaike Information Criterion:\t9363.751\n",
      "Bayesian Information Criterion:\t9396.337\n",
      "Final gradient norm:\t2.6771E-04\n",
      "Nbr of threads:\t8\n",
      "\n"
     ]
    }
   ],
   "source": [
    "print(res_Model0.printGeneralStatistics())"
   ]
  },
  {
   "cell_type": "code",
   "execution_count": 12,
   "id": "0703f63d-cde7-4e91-9416-600d21e342e3",
   "metadata": {
    "tags": []
   },
   "outputs": [
    {
     "data": {
      "text/html": [
       "<div>\n",
       "<style scoped>\n",
       "    .dataframe tbody tr th:only-of-type {\n",
       "        vertical-align: middle;\n",
       "    }\n",
       "\n",
       "    .dataframe tbody tr th {\n",
       "        vertical-align: top;\n",
       "    }\n",
       "\n",
       "    .dataframe thead th {\n",
       "        text-align: right;\n",
       "    }\n",
       "</style>\n",
       "<table border=\"1\" class=\"dataframe\">\n",
       "  <thead>\n",
       "    <tr style=\"text-align: right;\">\n",
       "      <th></th>\n",
       "      <th>Value</th>\n",
       "      <th>Rob. Std err</th>\n",
       "      <th>Rob. t-test</th>\n",
       "      <th>Rob. p-value</th>\n",
       "    </tr>\n",
       "  </thead>\n",
       "  <tbody>\n",
       "    <tr>\n",
       "      <th>beta_cost</th>\n",
       "      <td>-0.156585</td>\n",
       "      <td>0.012667</td>\n",
       "      <td>-12.361233</td>\n",
       "      <td>0.0</td>\n",
       "    </tr>\n",
       "    <tr>\n",
       "      <th>beta_time</th>\n",
       "      <td>-5.226955</td>\n",
       "      <td>0.191905</td>\n",
       "      <td>-27.237207</td>\n",
       "      <td>0.0</td>\n",
       "    </tr>\n",
       "    <tr>\n",
       "      <th>constant_cycling</th>\n",
       "      <td>-2.485329</td>\n",
       "      <td>0.086252</td>\n",
       "      <td>-28.814839</td>\n",
       "      <td>0.0</td>\n",
       "    </tr>\n",
       "    <tr>\n",
       "      <th>constant_pt</th>\n",
       "      <td>0.726783</td>\n",
       "      <td>0.047157</td>\n",
       "      <td>15.411971</td>\n",
       "      <td>0.0</td>\n",
       "    </tr>\n",
       "    <tr>\n",
       "      <th>constant_walking</th>\n",
       "      <td>1.187012</td>\n",
       "      <td>0.078799</td>\n",
       "      <td>15.063738</td>\n",
       "      <td>0.0</td>\n",
       "    </tr>\n",
       "  </tbody>\n",
       "</table>\n",
       "</div>"
      ],
      "text/plain": [
       "                     Value  Rob. Std err  Rob. t-test  Rob. p-value\n",
       "beta_cost        -0.156585      0.012667   -12.361233           0.0\n",
       "beta_time        -5.226955      0.191905   -27.237207           0.0\n",
       "constant_cycling -2.485329      0.086252   -28.814839           0.0\n",
       "constant_pt       0.726783      0.047157    15.411971           0.0\n",
       "constant_walking  1.187012      0.078799    15.063738           0.0"
      ]
     },
     "execution_count": 12,
     "metadata": {},
     "output_type": "execute_result"
    }
   ],
   "source": [
    "res_Model0.getEstimatedParameters()"
   ]
  },
  {
   "attachments": {},
   "cell_type": "markdown",
   "id": "a1ef7fec",
   "metadata": {},
   "source": [
    "The sign of the 2 generic coefficent leaves us satisfied. We know it's reasonable that utility is decreased when cost and/or travel time increase. It also seems that time impacts more the utility, since in asbolute value beta_time is higher than beta_cost. Concernig the ASCs, we normalized with respect to ASC_car so this is our baseline. We notice that ASC_walking is the highest so it seems that people, assuiming the same atrributes values, would choose this alternative. Anyway we see that, since the value of beta_time is high in absoulute value, and walking usually requires more time than the others, it will be penalized, as we expected. Cycling seems really disadvantaged, since its ASC is already low, and it has the same beta_time (due to generic coefficent assumption). Significance of value is confirmed by the t-test values that are all above the 1.96 threshold"
   ]
  },
  {
   "cell_type": "markdown",
   "id": "260c1a15-5634-4a9b-aca3-0eb38238a303",
   "metadata": {},
   "source": [
    "# Model 1"
   ]
  },
  {
   "attachments": {},
   "cell_type": "markdown",
   "id": "cda32c68",
   "metadata": {},
   "source": [
    "We decide to split beta_time into 4 alternative specific parameters. Our choice is due to the fact that this coefficent is present in every utility function, and we think it can undergo a wider variation, since time perception is strictly related to the chosen travel mode."
   ]
  },
  {
   "cell_type": "code",
   "execution_count": 13,
   "id": "45dad72b-f02a-4a11-a5e9-c273543d4826",
   "metadata": {
    "tags": []
   },
   "outputs": [],
   "source": [
    "constant_walking = Beta('constant_walking', 0, None, None, 0)\n",
    "constant_cycling = Beta('constant_cycling', 0, None, None, 0)\n",
    "constant_pt = Beta('constant_pt', 0, None, None, 0)\n",
    "beta_cost = Beta('beta_cost', 0, None, None, 0)\n",
    "beta_time_walking = Beta('beta_time_walking', 0, None, None, 0)\n",
    "beta_time_cycling = Beta('beta_time_cycling', 0, None, None, 0)\n",
    "beta_time_pt = Beta('beta_time_pt', 0, None, None, 0)\n",
    "beta_time_driving = Beta('beta_time_driving', 0, None, None, 0)"
   ]
  },
  {
   "cell_type": "code",
   "execution_count": 14,
   "id": "adac2fd2-17cb-4415-9468-a0d876c740fe",
   "metadata": {
    "tags": []
   },
   "outputs": [],
   "source": [
    "v_walk_Model1 = (\n",
    "    constant_walking\n",
    "    + beta_time_walking * dur_walking\n",
    ")\n",
    "\n",
    "v_cycling_Model1 = (\n",
    "    constant_cycling\n",
    "    + beta_time_cycling * dur_cycling\n",
    ")\n",
    "\n",
    "v_PT_Model1 = (\n",
    "    constant_pt\n",
    "    + beta_cost * cost_transit\n",
    "    + beta_time_pt * dur_pt\n",
    ")\n",
    "\n",
    "v_driving_Model1 = (\n",
    "    beta_cost * cost_driving\n",
    "    + beta_time_driving * dur_driving\n",
    ")"
   ]
  },
  {
   "cell_type": "code",
   "execution_count": 15,
   "id": "cca879ec-bb87-4c61-86db-411dbb9b8906",
   "metadata": {
    "tags": []
   },
   "outputs": [],
   "source": [
    "V_Model1 = {1: v_walk_Model1, 2: v_cycling_Model1, 3: v_PT_Model1, 4: v_driving_Model1}\n",
    "logprob_Model1 = models.loglogit(V_Model1, None, travel_mode)\n",
    "biogeme_Model1 = bio.BIOGEME(database, logprob_Model1)\n",
    "biogeme_Model1.modelName = 'logit_Model1'\n",
    "res_Model1 = biogeme_Model1.estimate()"
   ]
  },
  {
   "cell_type": "code",
   "execution_count": 16,
   "id": "200f5cc1-b1e6-4b50-bea7-5c7e66b8106b",
   "metadata": {
    "tags": []
   },
   "outputs": [
    {
     "name": "stdout",
     "output_type": "stream",
     "text": [
      "Number of estimated parameters:\t8\n",
      "Sample size:\t5000\n",
      "Excluded observations:\t0\n",
      "Init log likelihood:\t-6931.472\n",
      "Final log likelihood:\t-4372.911\n",
      "Likelihood ratio test for the init. model:\t5117.122\n",
      "Rho-square for the init. model:\t0.369\n",
      "Rho-square-bar for the init. model:\t0.368\n",
      "Akaike Information Criterion:\t8761.822\n",
      "Bayesian Information Criterion:\t8813.959\n",
      "Final gradient norm:\t2.8918E-03\n",
      "Nbr of threads:\t8\n",
      "\n"
     ]
    }
   ],
   "source": [
    "print(res_Model1.printGeneralStatistics())"
   ]
  },
  {
   "cell_type": "code",
   "execution_count": 17,
   "id": "d38a9658-a255-46d4-b3ba-b71bc8747875",
   "metadata": {
    "tags": []
   },
   "outputs": [
    {
     "data": {
      "text/html": [
       "<div>\n",
       "<style scoped>\n",
       "    .dataframe tbody tr th:only-of-type {\n",
       "        vertical-align: middle;\n",
       "    }\n",
       "\n",
       "    .dataframe tbody tr th {\n",
       "        vertical-align: top;\n",
       "    }\n",
       "\n",
       "    .dataframe thead th {\n",
       "        text-align: right;\n",
       "    }\n",
       "</style>\n",
       "<table border=\"1\" class=\"dataframe\">\n",
       "  <thead>\n",
       "    <tr style=\"text-align: right;\">\n",
       "      <th></th>\n",
       "      <th>Value</th>\n",
       "      <th>Rob. Std err</th>\n",
       "      <th>Rob. t-test</th>\n",
       "      <th>Rob. p-value</th>\n",
       "    </tr>\n",
       "  </thead>\n",
       "  <tbody>\n",
       "    <tr>\n",
       "      <th>beta_cost</th>\n",
       "      <td>-0.136269</td>\n",
       "      <td>0.013923</td>\n",
       "      <td>-9.787478</td>\n",
       "      <td>0.000000e+00</td>\n",
       "    </tr>\n",
       "    <tr>\n",
       "      <th>beta_time_cycling</th>\n",
       "      <td>-5.436177</td>\n",
       "      <td>0.492925</td>\n",
       "      <td>-11.028412</td>\n",
       "      <td>0.000000e+00</td>\n",
       "    </tr>\n",
       "    <tr>\n",
       "      <th>beta_time_driving</th>\n",
       "      <td>-5.794675</td>\n",
       "      <td>0.384636</td>\n",
       "      <td>-15.065358</td>\n",
       "      <td>0.000000e+00</td>\n",
       "    </tr>\n",
       "    <tr>\n",
       "      <th>beta_time_pt</th>\n",
       "      <td>-3.127377</td>\n",
       "      <td>0.243891</td>\n",
       "      <td>-12.822864</td>\n",
       "      <td>0.000000e+00</td>\n",
       "    </tr>\n",
       "    <tr>\n",
       "      <th>beta_time_walking</th>\n",
       "      <td>-8.161128</td>\n",
       "      <td>0.386290</td>\n",
       "      <td>-21.126960</td>\n",
       "      <td>0.000000e+00</td>\n",
       "    </tr>\n",
       "    <tr>\n",
       "      <th>constant_cycling</th>\n",
       "      <td>-2.560688</td>\n",
       "      <td>0.150700</td>\n",
       "      <td>-16.991966</td>\n",
       "      <td>0.000000e+00</td>\n",
       "    </tr>\n",
       "    <tr>\n",
       "      <th>constant_pt</th>\n",
       "      <td>-0.405922</td>\n",
       "      <td>0.069445</td>\n",
       "      <td>-5.845207</td>\n",
       "      <td>5.059401e-09</td>\n",
       "    </tr>\n",
       "    <tr>\n",
       "      <th>constant_walking</th>\n",
       "      <td>1.933359</td>\n",
       "      <td>0.129143</td>\n",
       "      <td>14.970653</td>\n",
       "      <td>0.000000e+00</td>\n",
       "    </tr>\n",
       "  </tbody>\n",
       "</table>\n",
       "</div>"
      ],
      "text/plain": [
       "                      Value  Rob. Std err  Rob. t-test  Rob. p-value\n",
       "beta_cost         -0.136269      0.013923    -9.787478  0.000000e+00\n",
       "beta_time_cycling -5.436177      0.492925   -11.028412  0.000000e+00\n",
       "beta_time_driving -5.794675      0.384636   -15.065358  0.000000e+00\n",
       "beta_time_pt      -3.127377      0.243891   -12.822864  0.000000e+00\n",
       "beta_time_walking -8.161128      0.386290   -21.126960  0.000000e+00\n",
       "constant_cycling  -2.560688      0.150700   -16.991966  0.000000e+00\n",
       "constant_pt       -0.405922      0.069445    -5.845207  5.059401e-09\n",
       "constant_walking   1.933359      0.129143    14.970653  0.000000e+00"
      ]
     },
     "execution_count": 17,
     "metadata": {},
     "output_type": "execute_result"
    }
   ],
   "source": [
    "res_Model1.getEstimatedParameters()"
   ]
  },
  {
   "attachments": {},
   "cell_type": "markdown",
   "id": "68d7cd28",
   "metadata": {},
   "source": [
    "As before, signs are reasonable. Concernign the values of the coefficents, we firstly notice that beta_cost reamined pretty much the same and it seems reasonable becuase people usually care how much money they spend rather than for what they do spend. The wide range of values we can see on beta_time strenghtens our initial assumption, in fact we see how beta_walking is really low, since walking requires phisycal effort, while the two alternatives that just require the individual's focus (driving and cycling) are pretty similar and this seems fine. In the end we see that beta_time_PT is instead the lowest in absolute value, and this is logic for us since when you are in public transport you are able to do other activities or just realx without having to mantain focus. Again, as before, ASC-walking is still bigger than car, as cycling is still the lowest. The only change we notice is the sign of ASC_pt, which is probably due to the value of the beta_time_pt we previously analyzed. Significance of value is confirmed by the t-test values that are all above the 1.96 threshold"
   ]
  },
  {
   "cell_type": "code",
   "execution_count": 18,
   "id": "759a97e0-3d96-4972-8018-f55829e91008",
   "metadata": {
    "tags": []
   },
   "outputs": [
    {
     "data": {
      "text/plain": [
       "LRTuple(message='H0 can be rejected at level 1.0%', statistic=607.9289925585272, threshold=11.344866730144373)"
      ]
     },
     "execution_count": 18,
     "metadata": {},
     "output_type": "execute_result"
    }
   ],
   "source": [
    "res_Model1.likelihood_ratio_test(res_Model0, 0.01)"
   ]
  },
  {
   "attachments": {},
   "cell_type": "markdown",
   "id": "e7140489",
   "metadata": {},
   "source": [
    "To compare the 2 models we used the likelihood ratio test. This is doable since model 0 is a linear restriction of model 1 (assuming all the alternative specific beta_time equal). Our null-hypotesis is that the resricted model (in this case model 0) is the true model. We set the significance level of the test to 0,01 and as we can see from the result the null-hypotesis is rejected, hence our preferred model is model 1"
   ]
  },
  {
   "cell_type": "markdown",
   "id": "8651f7d2-e38a-4a2b-aae9-6c23f8847776",
   "metadata": {},
   "source": [
    "# Model 2:"
   ]
  },
  {
   "cell_type": "markdown",
   "id": "97fcebad-bd04-4984-ae80-0f6eda854854",
   "metadata": {},
   "source": [
    "- Interaction of age with ASCs:"
   ]
  },
  {
   "attachments": {},
   "cell_type": "markdown",
   "id": "7b125619",
   "metadata": {},
   "source": [
    "We select 'age' as socio-economic characteristic since we think it has a stornger correlation with the choice of a transport mode rather than sex, which is the other socio-ecomic characteristci we found in the dataset. In fact, if we assume two individuals have the same age, from our experience, their choice (putting all the other parametres equal) would not probably be different. On the other hand, age can impact the choice both from an availability point of view (i.e. young or really old may not have a driving license) and a physical effort one."
   ]
  },
  {
   "cell_type": "code",
   "execution_count": 22,
   "id": "b4bbf003-86ed-494d-82af-c0afd7b635f8",
   "metadata": {
    "tags": []
   },
   "outputs": [],
   "source": [
    "age = Variable('age')"
   ]
  },
  {
   "cell_type": "code",
   "execution_count": 50,
   "id": "430902b3-589f-4872-886b-f8a5b15bf3d9",
   "metadata": {
    "tags": []
   },
   "outputs": [],
   "source": [
    "beta_cost = Beta('beta_cost', 0, None, None, 0)\n",
    "beta_time_walking = Beta('beta_time_walking', 0, None, None, 0)\n",
    "beta_time_cycling = Beta('beta_time_cycling', 0, None, None, 0)\n",
    "beta_time_pt = Beta('beta_time_pt', 0, None, None, 0)\n",
    "beta_time_driving = Beta('beta_time_driving', 0, None, None, 0)\n",
    "ASC_w = Beta('ASC_w', 0, None, None, 0)\n",
    "ASC_c = Beta('ASC_c', 0, None, None, 0)\n",
    "ASC_pt = Beta('ASC_pt', 0, None, None, 0)\n"
   ]
  },
  {
   "cell_type": "code",
   "execution_count": 56,
   "id": "3c8c53ee",
   "metadata": {},
   "outputs": [],
   "source": [
    "interacted_ASC_w = ASC_w * age/99\n",
    "interacted_ASC_c = ASC_c * age/99\n",
    "interacted_ASC_pt = ASC_pt * age/99\n"
   ]
  },
  {
   "cell_type": "code",
   "execution_count": 57,
   "id": "67a63f5b-49e2-4448-be40-e23f2bb7a510",
   "metadata": {
    "tags": []
   },
   "outputs": [],
   "source": [
    "v_w_Model2_ASC = (\n",
    "    interacted_ASC_w\n",
    "    + beta_time_walking * dur_walking\n",
    ")\n",
    "\n",
    "v_c_Model2_ASC = (\n",
    "    interacted_ASC_c\n",
    "    + beta_time_cycling * dur_cycling\n",
    ")\n",
    "\n",
    "v_pt_Model2_ASC = (\n",
    "    interacted_ASC_pt\n",
    "    + beta_cost * cost_transit\n",
    "    + beta_time_pt * dur_pt\n",
    ")\n",
    "\n",
    "v_driving_Model2_ASC = (\n",
    "    beta_cost * cost_driving\n",
    "    + beta_time_driving * dur_driving\n",
    ")"
   ]
  },
  {
   "cell_type": "code",
   "execution_count": 58,
   "id": "a29997a4-1a79-4907-9c1c-3e9e9c0f7aa8",
   "metadata": {
    "tags": []
   },
   "outputs": [],
   "source": [
    "V_Model2_ASC = {1: v_w_Model2_ASC , 2: v_c_Model2_ASC, 3: v_pt_Model2_ASC, 4: v_driving_Model2_ASC}\n",
    "logprob_Model2_ASC = models.loglogit(V_Model2_ASC, None, travel_mode)\n",
    "biogeme_Model2_ASC = bio.BIOGEME(database, logprob_Model2_ASC)\n",
    "biogeme_Model2_ASC.modelName = 'logit_Model2_ASC'\n",
    "res_Model2_ASC = biogeme_Model2_ASC.estimate()"
   ]
  },
  {
   "cell_type": "code",
   "execution_count": 59,
   "id": "38559766-ba43-4bfd-85c9-153ad53a76ea",
   "metadata": {
    "tags": []
   },
   "outputs": [
    {
     "name": "stdout",
     "output_type": "stream",
     "text": [
      "Number of estimated parameters:\t8\n",
      "Sample size:\t5000\n",
      "Excluded observations:\t0\n",
      "Init log likelihood:\t-5340.819\n",
      "Final log likelihood:\t-4615.576\n",
      "Likelihood ratio test for the init. model:\t1450.488\n",
      "Rho-square for the init. model:\t0.136\n",
      "Rho-square-bar for the init. model:\t0.134\n",
      "Akaike Information Criterion:\t9247.151\n",
      "Bayesian Information Criterion:\t9299.289\n",
      "Final gradient norm:\t1.8211E-02\n",
      "Nbr of threads:\t8\n",
      "\n"
     ]
    }
   ],
   "source": [
    "print(res_Model2_ASC.printGeneralStatistics())"
   ]
  },
  {
   "cell_type": "code",
   "execution_count": 60,
   "id": "fcc05cf5-457c-4e0e-b1ae-456431c56a33",
   "metadata": {
    "tags": []
   },
   "outputs": [
    {
     "data": {
      "text/html": [
       "<div>\n",
       "<style scoped>\n",
       "    .dataframe tbody tr th:only-of-type {\n",
       "        vertical-align: middle;\n",
       "    }\n",
       "\n",
       "    .dataframe tbody tr th {\n",
       "        vertical-align: top;\n",
       "    }\n",
       "\n",
       "    .dataframe thead th {\n",
       "        text-align: right;\n",
       "    }\n",
       "</style>\n",
       "<table border=\"1\" class=\"dataframe\">\n",
       "  <thead>\n",
       "    <tr style=\"text-align: right;\">\n",
       "      <th></th>\n",
       "      <th>Value</th>\n",
       "      <th>Rob. Std err</th>\n",
       "      <th>Rob. t-test</th>\n",
       "      <th>Rob. p-value</th>\n",
       "    </tr>\n",
       "  </thead>\n",
       "  <tbody>\n",
       "    <tr>\n",
       "      <th>ASC_c</th>\n",
       "      <td>-4.876922</td>\n",
       "      <td>0.374369</td>\n",
       "      <td>-13.027038</td>\n",
       "      <td>0.000000e+00</td>\n",
       "    </tr>\n",
       "    <tr>\n",
       "      <th>ASC_pt</th>\n",
       "      <td>-0.998334</td>\n",
       "      <td>0.133145</td>\n",
       "      <td>-7.498069</td>\n",
       "      <td>6.483702e-14</td>\n",
       "    </tr>\n",
       "    <tr>\n",
       "      <th>ASC_w</th>\n",
       "      <td>1.531922</td>\n",
       "      <td>0.158594</td>\n",
       "      <td>9.659391</td>\n",
       "      <td>0.000000e+00</td>\n",
       "    </tr>\n",
       "    <tr>\n",
       "      <th>beta_cost</th>\n",
       "      <td>-0.150730</td>\n",
       "      <td>0.014565</td>\n",
       "      <td>-10.348483</td>\n",
       "      <td>0.000000e+00</td>\n",
       "    </tr>\n",
       "    <tr>\n",
       "      <th>beta_time_cycling</th>\n",
       "      <td>-8.106052</td>\n",
       "      <td>0.665896</td>\n",
       "      <td>-12.173145</td>\n",
       "      <td>0.000000e+00</td>\n",
       "    </tr>\n",
       "    <tr>\n",
       "      <th>beta_time_driving</th>\n",
       "      <td>-5.752060</td>\n",
       "      <td>0.391634</td>\n",
       "      <td>-14.687323</td>\n",
       "      <td>0.000000e+00</td>\n",
       "    </tr>\n",
       "    <tr>\n",
       "      <th>beta_time_pt</th>\n",
       "      <td>-3.124069</td>\n",
       "      <td>0.244505</td>\n",
       "      <td>-12.777127</td>\n",
       "      <td>0.000000e+00</td>\n",
       "    </tr>\n",
       "    <tr>\n",
       "      <th>beta_time_walking</th>\n",
       "      <td>-5.265453</td>\n",
       "      <td>0.197672</td>\n",
       "      <td>-26.637256</td>\n",
       "      <td>0.000000e+00</td>\n",
       "    </tr>\n",
       "  </tbody>\n",
       "</table>\n",
       "</div>"
      ],
      "text/plain": [
       "                      Value  Rob. Std err  Rob. t-test  Rob. p-value\n",
       "ASC_c             -4.876922      0.374369   -13.027038  0.000000e+00\n",
       "ASC_pt            -0.998334      0.133145    -7.498069  6.483702e-14\n",
       "ASC_w              1.531922      0.158594     9.659391  0.000000e+00\n",
       "beta_cost         -0.150730      0.014565   -10.348483  0.000000e+00\n",
       "beta_time_cycling -8.106052      0.665896   -12.173145  0.000000e+00\n",
       "beta_time_driving -5.752060      0.391634   -14.687323  0.000000e+00\n",
       "beta_time_pt      -3.124069      0.244505   -12.777127  0.000000e+00\n",
       "beta_time_walking -5.265453      0.197672   -26.637256  0.000000e+00"
      ]
     },
     "execution_count": 60,
     "metadata": {},
     "output_type": "execute_result"
    }
   ],
   "source": [
    "res_Model2_ASC.getEstimatedParameters()"
   ]
  },
  {
   "cell_type": "markdown",
   "id": "5c342e17-2a41-475f-a96c-32ade9686ec9",
   "metadata": {},
   "source": [
    "Need to find a test! (Probably a Cox test would be ok)"
   ]
  },
  {
   "attachments": {},
   "cell_type": "markdown",
   "id": "b07bbb68",
   "metadata": {},
   "source": [
    "When we have to analyze the interaction of the age with one of the variables, we decided to link it with cost, since we think that indviduals may have a differtent perception of money depending on their age. For example, when you're a student you give a different value to money than the one you give them when you've been working for several years."
   ]
  },
  {
   "cell_type": "markdown",
   "id": "ee2aabc8-11da-419b-b2c7-d5cde9005715",
   "metadata": {},
   "source": [
    "- Interaction of age with time:"
   ]
  },
  {
   "cell_type": "code",
   "execution_count": 61,
   "id": "f960be71-f87b-4083-9358-bed32cc0e178",
   "metadata": {
    "tags": []
   },
   "outputs": [],
   "source": [
    "constant_walking = Beta('constant_walking', 0, None, None, 0)\n",
    "constant_cycling = Beta('constant_cycling', 0, None, None, 0)\n",
    "constant_pt = Beta('constant_pt', 0, None, None, 0)\n",
    "beta_time_walking = Beta('beta_time_walking', 0, None, None, 0)\n",
    "beta_time_cycling = Beta('beta_time_cycling', 0, None, None, 0)\n",
    "beta_time_pt = Beta('beta_time_pt', 0, None, None, 0)\n",
    "beta_time_driving = Beta('beta_time_driving', 0, None, None, 0)\n",
    "beta_cost = Beta('beta_cost', 0, None, None, 0)"
   ]
  },
  {
   "cell_type": "code",
   "execution_count": 62,
   "id": "c2012e1b",
   "metadata": {},
   "outputs": [],
   "source": [
    "beta_cost_interacted = beta_cost * age/99"
   ]
  },
  {
   "cell_type": "code",
   "execution_count": 63,
   "id": "6920eb2d-9c78-4a9c-8845-cb8c49763f04",
   "metadata": {
    "tags": []
   },
   "outputs": [],
   "source": [
    "v_w_Model2_cost = (\n",
    "    constant_walking\n",
    "    + beta_time_walking * dur_walking\n",
    ")\n",
    "\n",
    "v_c_Model2_cost = (\n",
    "    constant_cycling\n",
    "    + beta_time_cycling * dur_cycling\n",
    ")\n",
    "\n",
    "v_pt_Model2_cost= (\n",
    "    constant_pt\n",
    "    + beta_cost_interacted * cost_transit    \n",
    "    + beta_time_pt * dur_pt\n",
    ")\n",
    "\n",
    "v_driving_Model2_cost = (\n",
    "    beta_cost_interacted * cost_driving\n",
    "    + beta_time_driving * dur_driving\n",
    ")"
   ]
  },
  {
   "cell_type": "code",
   "execution_count": 64,
   "id": "22a1a457-3a10-4a4a-b3cf-3c51db0e1a01",
   "metadata": {
    "tags": []
   },
   "outputs": [],
   "source": [
    "V_Model2_cost = {1: v_w_Model2_cost, 2: v_c_Model2_cost, 3: v_pt_Model2_cost, 4: v_driving_Model2_cost}\n",
    "logprob_Model2_cost = models.loglogit(V_Model2_cost, None, travel_mode)\n",
    "biogeme_Model2_cost = bio.BIOGEME(database, logprob_Model2_cost)\n",
    "biogeme_Model2_cost.modelName = 'logit_Model2_cost'\n",
    "res_Model2_cost = biogeme_Model2_cost.estimate()"
   ]
  },
  {
   "cell_type": "code",
   "execution_count": 65,
   "id": "9f3a7626-7803-4afb-821e-4c9cb10266f2",
   "metadata": {
    "tags": []
   },
   "outputs": [
    {
     "name": "stdout",
     "output_type": "stream",
     "text": [
      "Number of estimated parameters:\t8\n",
      "Sample size:\t5000\n",
      "Excluded observations:\t0\n",
      "Init log likelihood:\t-4443.281\n",
      "Final log likelihood:\t-4387.311\n",
      "Likelihood ratio test for the init. model:\t111.9388\n",
      "Rho-square for the init. model:\t0.0126\n",
      "Rho-square-bar for the init. model:\t0.0108\n",
      "Akaike Information Criterion:\t8790.622\n",
      "Bayesian Information Criterion:\t8842.76\n",
      "Final gradient norm:\t1.4149E-06\n",
      "Nbr of threads:\t8\n",
      "\n"
     ]
    }
   ],
   "source": [
    "print(res_Model2_cost.printGeneralStatistics())"
   ]
  },
  {
   "cell_type": "code",
   "execution_count": 66,
   "id": "99b9a2a6-d5e0-4b42-a982-add708b3be44",
   "metadata": {
    "tags": []
   },
   "outputs": [
    {
     "data": {
      "text/html": [
       "<div>\n",
       "<style scoped>\n",
       "    .dataframe tbody tr th:only-of-type {\n",
       "        vertical-align: middle;\n",
       "    }\n",
       "\n",
       "    .dataframe tbody tr th {\n",
       "        vertical-align: top;\n",
       "    }\n",
       "\n",
       "    .dataframe thead th {\n",
       "        text-align: right;\n",
       "    }\n",
       "</style>\n",
       "<table border=\"1\" class=\"dataframe\">\n",
       "  <thead>\n",
       "    <tr style=\"text-align: right;\">\n",
       "      <th></th>\n",
       "      <th>Value</th>\n",
       "      <th>Rob. Std err</th>\n",
       "      <th>Rob. t-test</th>\n",
       "      <th>Rob. p-value</th>\n",
       "    </tr>\n",
       "  </thead>\n",
       "  <tbody>\n",
       "    <tr>\n",
       "      <th>beta_cost</th>\n",
       "      <td>-0.287265</td>\n",
       "      <td>0.039548</td>\n",
       "      <td>-7.263774</td>\n",
       "      <td>3.763656e-13</td>\n",
       "    </tr>\n",
       "    <tr>\n",
       "      <th>beta_time_cycling</th>\n",
       "      <td>-5.430248</td>\n",
       "      <td>0.494069</td>\n",
       "      <td>-10.990875</td>\n",
       "      <td>0.000000e+00</td>\n",
       "    </tr>\n",
       "    <tr>\n",
       "      <th>beta_time_driving</th>\n",
       "      <td>-5.958972</td>\n",
       "      <td>0.382057</td>\n",
       "      <td>-15.597075</td>\n",
       "      <td>0.000000e+00</td>\n",
       "    </tr>\n",
       "    <tr>\n",
       "      <th>beta_time_pt</th>\n",
       "      <td>-3.218753</td>\n",
       "      <td>0.242768</td>\n",
       "      <td>-13.258575</td>\n",
       "      <td>0.000000e+00</td>\n",
       "    </tr>\n",
       "    <tr>\n",
       "      <th>beta_time_walking</th>\n",
       "      <td>-8.180628</td>\n",
       "      <td>0.386822</td>\n",
       "      <td>-21.148285</td>\n",
       "      <td>0.000000e+00</td>\n",
       "    </tr>\n",
       "    <tr>\n",
       "      <th>constant_cycling</th>\n",
       "      <td>-2.566973</td>\n",
       "      <td>0.150922</td>\n",
       "      <td>-17.008642</td>\n",
       "      <td>0.000000e+00</td>\n",
       "    </tr>\n",
       "    <tr>\n",
       "      <th>constant_pt</th>\n",
       "      <td>-0.407455</td>\n",
       "      <td>0.069331</td>\n",
       "      <td>-5.876924</td>\n",
       "      <td>4.179601e-09</td>\n",
       "    </tr>\n",
       "    <tr>\n",
       "      <th>constant_walking</th>\n",
       "      <td>1.939273</td>\n",
       "      <td>0.129411</td>\n",
       "      <td>14.985358</td>\n",
       "      <td>0.000000e+00</td>\n",
       "    </tr>\n",
       "  </tbody>\n",
       "</table>\n",
       "</div>"
      ],
      "text/plain": [
       "                      Value  Rob. Std err  Rob. t-test  Rob. p-value\n",
       "beta_cost         -0.287265      0.039548    -7.263774  3.763656e-13\n",
       "beta_time_cycling -5.430248      0.494069   -10.990875  0.000000e+00\n",
       "beta_time_driving -5.958972      0.382057   -15.597075  0.000000e+00\n",
       "beta_time_pt      -3.218753      0.242768   -13.258575  0.000000e+00\n",
       "beta_time_walking -8.180628      0.386822   -21.148285  0.000000e+00\n",
       "constant_cycling  -2.566973      0.150922   -17.008642  0.000000e+00\n",
       "constant_pt       -0.407455      0.069331    -5.876924  4.179601e-09\n",
       "constant_walking   1.939273      0.129411    14.985358  0.000000e+00"
      ]
     },
     "execution_count": 66,
     "metadata": {},
     "output_type": "execute_result"
    }
   ],
   "source": [
    "res_Model2_cost.getEstimatedParameters()"
   ]
  },
  {
   "cell_type": "code",
   "execution_count": 78,
   "id": "92586e49",
   "metadata": {},
   "outputs": [],
   "source": [
    "v_w_cox1 = v_walk_Model1 + v_w_Model2_ASC\n",
    "v_c_cox1 = v_cycling_Model1 + v_c_Model2_ASC\n",
    "v_pt_cox1 = v_PT_Model1 + v_pt_Model2_ASC\n",
    "v_driving_cox1 = v_driving_Model1 + v_driving_Model2_ASC"
   ]
  },
  {
   "cell_type": "code",
   "execution_count": 79,
   "id": "d1da8dd2",
   "metadata": {},
   "outputs": [],
   "source": [
    "V = {1: v_w_cox1, 2: v_c_cox1, 3: v_pt_cox1, 4: v_driving_cox1}\n",
    "logprob_cox1 = models.loglogit(V, None, travel_mode)\n",
    "biogeme_cox1 = bio.BIOGEME(database, logprob_cox1)\n",
    "biogeme_cox1.modelName = 'logit_cox1'\n",
    "res_cox1 = biogeme_cox1.estimate()\n"
   ]
  },
  {
   "cell_type": "code",
   "execution_count": 96,
   "id": "2a7494f4",
   "metadata": {},
   "outputs": [
    {
     "name": "stdout",
     "output_type": "stream",
     "text": [
      "LRTuple(message='H0 can be rejected at level 10.0%', statistic=49.127263585955006, threshold=6.251388631170325)\n",
      "LRTuple(message='H0 can be rejected at level 10.0%', statistic=534.4566875202636, threshold=6.251388631170325)\n"
     ]
    }
   ],
   "source": [
    "print(res_cox1.likelihood_ratio_test(res_Model1, 0.1))\n",
    "#print(res_Model2_ASC.likelihood_ratio_test(res_cox1, 0.1))\n",
    "print(res_cox1.likelihood_ratio_test(res_Model2_ASC, 0.1))"
   ]
  },
  {
   "cell_type": "code",
   "execution_count": 88,
   "id": "774f91e1",
   "metadata": {},
   "outputs": [],
   "source": [
    "v_w_cox2 = v_walk_Model1  \n",
    "v_c_cox2 = v_cycling_Model1\n",
    "v_pt_cox2 = v_PT_Model1 + beta_cost_interacted * cost_transit\n",
    "v_driving_cox2 = v_driving_Model1 + beta_cost_interacted * cost_driving"
   ]
  },
  {
   "cell_type": "code",
   "execution_count": 89,
   "id": "b04eefff",
   "metadata": {},
   "outputs": [],
   "source": [
    "V = {1: v_w_cox2, 2: v_c_cox2, 3: v_pt_cox2, 4: v_driving_cox2}\n",
    "logprob_cox2 = models.loglogit(V, None, travel_mode)\n",
    "biogeme_cox2 = bio.BIOGEME(database, logprob_cox2)\n",
    "biogeme_cox2.modelName = 'logit_cox2'\n",
    "res_cox2 = biogeme_cox2.estimate()"
   ]
  },
  {
   "cell_type": "code",
   "execution_count": 98,
   "id": "f41d8b18",
   "metadata": {},
   "outputs": [
    {
     "name": "stdout",
     "output_type": "stream",
     "text": [
      "LRTuple(message='H0 can be rejected at level 1.0%', statistic=5.578423499724522, threshold=nan)\n"
     ]
    },
    {
     "ename": "BiogemeError",
     "evalue": "The unrestricted model (-4387.311206863418, 8) has a lower log likelihood than the restricted one (-4375.700002695043, 8)",
     "output_type": "error",
     "traceback": [
      "\u001b[0;31m---------------------------------------------------------------------------\u001b[0m",
      "\u001b[0;31mBiogemeError\u001b[0m                              Traceback (most recent call last)",
      "\u001b[1;32m/Users/robinfaro/Desktop/MMB/project.ipynb Cella 48\u001b[0m in \u001b[0;36m<cell line: 2>\u001b[0;34m()\u001b[0m\n\u001b[1;32m      <a href='vscode-notebook-cell:/Users/robinfaro/Desktop/MMB/project.ipynb#Y202sZmlsZQ%3D%3D?line=0'>1</a>\u001b[0m \u001b[39mprint\u001b[39m(res_cox2\u001b[39m.\u001b[39mlikelihood_ratio_test(res_Model1, \u001b[39m0.01\u001b[39m))\n\u001b[0;32m----> <a href='vscode-notebook-cell:/Users/robinfaro/Desktop/MMB/project.ipynb#Y202sZmlsZQ%3D%3D?line=1'>2</a>\u001b[0m \u001b[39mprint\u001b[39m(res_cox2\u001b[39m.\u001b[39;49mlikelihood_ratio_test(res_Model2_cost, \u001b[39m0.01\u001b[39;49m))\n",
      "File \u001b[0;32m~/opt/anaconda3/envs/pytorch/lib/python3.10/site-packages/biogeme/results.py:1547\u001b[0m, in \u001b[0;36mbioResults.likelihood_ratio_test\u001b[0;34m(self, other_model, significance_level)\u001b[0m\n\u001b[1;32m   1545\u001b[0m KR \u001b[39m=\u001b[39m \u001b[39mself\u001b[39m\u001b[39m.\u001b[39mdata\u001b[39m.\u001b[39mnparam\n\u001b[1;32m   1546\u001b[0m KU \u001b[39m=\u001b[39m other_model\u001b[39m.\u001b[39mdata\u001b[39m.\u001b[39mnparam\n\u001b[0;32m-> 1547\u001b[0m \u001b[39mreturn\u001b[39;00m tools\u001b[39m.\u001b[39;49mlikelihood_ratio_test((LU, KU), (LR, KR), significance_level)\n",
      "File \u001b[0;32m~/opt/anaconda3/envs/pytorch/lib/python3.10/site-packages/biogeme/tools.py:310\u001b[0m, in \u001b[0;36mlikelihood_ratio_test\u001b[0;34m(model1, model2, significance_level)\u001b[0m\n\u001b[1;32m    308\u001b[0m \u001b[39melse\u001b[39;00m:\n\u001b[1;32m    309\u001b[0m     \u001b[39mif\u001b[39;00m df_m1 \u001b[39m>\u001b[39m\u001b[39m=\u001b[39m df_m2:\n\u001b[0;32m--> 310\u001b[0m         \u001b[39mraise\u001b[39;00m excep\u001b[39m.\u001b[39mBiogemeError(\n\u001b[1;32m    311\u001b[0m             \u001b[39mf\u001b[39m\u001b[39m'\u001b[39m\u001b[39mThe unrestricted model \u001b[39m\u001b[39m{\u001b[39;00mmodel1\u001b[39m}\u001b[39;00m\u001b[39m has a \u001b[39m\u001b[39m'\u001b[39m\n\u001b[1;32m    312\u001b[0m             \u001b[39mf\u001b[39m\u001b[39m'\u001b[39m\u001b[39mlower log likelihood than the restricted one \u001b[39m\u001b[39m{\u001b[39;00mmodel2\u001b[39m}\u001b[39;00m\u001b[39m'\u001b[39m\n\u001b[1;32m    313\u001b[0m         )\n\u001b[1;32m    314\u001b[0m     loglike_ur \u001b[39m=\u001b[39m loglike_m2\n\u001b[1;32m    315\u001b[0m     loglike_r \u001b[39m=\u001b[39m loglike_m1\n",
      "\u001b[0;31mBiogemeError\u001b[0m: The unrestricted model (-4387.311206863418, 8) has a lower log likelihood than the restricted one (-4375.700002695043, 8)"
     ]
    }
   ],
   "source": [
    "print(res_cox2.likelihood_ratio_test(res_Model1, 0.01))\n",
    "print(res_cox2.likelihood_ratio_test(res_Model2_cost, 0.01))"
   ]
  }
 ],
 "metadata": {
  "kernelspec": {
   "display_name": "Python3",
   "language": "python",
   "name": "python3"
  },
  "language_info": {
   "codemirror_mode": {
    "name": "ipython",
    "version": 3
   },
   "file_extension": ".py",
   "mimetype": "text/x-python",
   "name": "python",
   "nbconvert_exporter": "python",
   "pygments_lexer": "ipython3",
   "version": "3.10.9"
  }
 },
 "nbformat": 4,
 "nbformat_minor": 5
}
